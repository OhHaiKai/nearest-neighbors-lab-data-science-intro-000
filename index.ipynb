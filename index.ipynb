{
 "cells": [
  {
   "cell_type": "markdown",
   "metadata": {},
   "source": [
    "# Nearest Neighbors Lab"
   ]
  },
  {
   "cell_type": "markdown",
   "metadata": {},
   "source": [
    "### Introduction\n",
    "\n",
    "In this lab, you apply nearest neighbors technique to help a taxi company predict the length of their rides.  Imagine that we are hired to consult for LiftOff, a limo and taxi service that is just opening up in NYC.  Liftoff wants it's taxi drivers to target longer rides, as the longer the ride the more money it makes.  LiftOff has the following theory:\n",
    "\n",
    "* the pickup location of a taxi ride can help predict the length of the ride.  \n",
    "\n",
    "\n",
    "\n",
    "LiftOff asks us to do some analysis to write a function that will allow it to **predict the length of a taxi ride for any given location **.\n",
    "\n",
    "Our technique will be the following:\n",
    "  * **Collect** Obtain the data containing all of the taxi information, and only select the attributes of taxi trips that we need \n",
    "  * ** Explore ** Examine the attributes of our data, and plot some of our data on a map\n",
    "  * ** Train ** Write our nearest neighbors formula, and change the number of nearby trips to predict the length of a new trip\n",
    "  * ** Predict ** Use our function to predict trip lengths of new locations"
   ]
  },
  {
   "cell_type": "markdown",
   "metadata": {},
   "source": [
    "### Collect and Explore the data"
   ]
  },
  {
   "cell_type": "markdown",
   "metadata": {},
   "source": [
    "#### Collect the Data"
   ]
  },
  {
   "cell_type": "markdown",
   "metadata": {},
   "source": [
    "Luckily for us, [NYC Open Data](https://opendata.cityofnewyork.us/) collects information about NYC taxi trips and provides this data on [its website](https://data.cityofnewyork.us/Transportation/2014-Yellow-Taxi-Trip-Data/gn7m-em8n)."
   ]
  },
  {
   "cell_type": "markdown",
   "metadata": {},
   "source": [
    "![](./nyc-taxi.png)"
   ]
  },
  {
   "cell_type": "markdown",
   "metadata": {},
   "source": [
    "For your reading pleasure, the data has already been downloaded into the [trips.json](https://github.com/learn-co-curriculum/nearest-neighbors-lab/blob/master/trips.json) file in this lab which you can find here.  We'll use Python's `json` library to take the data from the `trips.json` file and store it as a variable in our notebook."
   ]
  },
  {
   "cell_type": "code",
   "execution_count": 1,
   "metadata": {},
   "outputs": [],
   "source": [
    "import json\n",
    "# First, read the file\n",
    "trips_file = open('trips.json')\n",
    "# Then, convert contents to list of dictionaries \n",
    "trips = json.load(trips_file)"
   ]
  },
  {
   "cell_type": "markdown",
   "metadata": {},
   "source": [
    "> Press shift + enter"
   ]
  },
  {
   "cell_type": "markdown",
   "metadata": {},
   "source": [
    "#### Explore the data"
   ]
  },
  {
   "cell_type": "markdown",
   "metadata": {},
   "source": [
    "The next step is to explore the data.  First, let's see how many trips we have."
   ]
  },
  {
   "cell_type": "code",
   "execution_count": 2,
   "metadata": {},
   "outputs": [
    {
     "data": {
      "text/plain": [
       "1000"
      ]
     },
     "execution_count": 2,
     "metadata": {},
     "output_type": "execute_result"
    }
   ],
   "source": [
    "len(trips)"
   ]
  },
  {
   "cell_type": "markdown",
   "metadata": {},
   "source": [
    "Not bad at all.  Now let's see what each individual trip looks like.  Each trip is a dictionary, so we can see the attributes of each trip with the `keys` function."
   ]
  },
  {
   "cell_type": "code",
   "execution_count": 3,
   "metadata": {
    "scrolled": true
   },
   "outputs": [
    {
     "data": {
      "text/plain": [
       "dict_keys(['dropoff_datetime', 'dropoff_latitude', 'dropoff_longitude', 'fare_amount', 'imp_surcharge', 'mta_tax', 'passenger_count', 'payment_type', 'pickup_datetime', 'pickup_latitude', 'pickup_longitude', 'rate_code', 'tip_amount', 'tolls_amount', 'total_amount', 'trip_distance', 'vendor_id'])"
      ]
     },
     "execution_count": 3,
     "metadata": {},
     "output_type": "execute_result"
    }
   ],
   "source": [
    "trips[0].keys()"
   ]
  },
  {
   "cell_type": "markdown",
   "metadata": {},
   "source": [
    "#### Limit our data"
   ]
  },
  {
   "cell_type": "markdown",
   "metadata": {},
   "source": [
    "Ok, now that we have explored some of our data, let's begin to think through what data is relevant for our task."
   ]
  },
  {
   "cell_type": "markdown",
   "metadata": {
    "collapsed": true
   },
   "source": [
    "Remember that our task is to **use the trip location to predict the length of a trip**.  So let's select the `pickup_latitude`, `pickup_longitude`, and `trip_distance` from each trip.  That will give us the trip location and related `trip_distance` for each trip.  Then based on these **actual** trip distances we can use nearest neighbors to predict an **expected** trip distance for a trip, provided an **actual** location."
   ]
  },
  {
   "cell_type": "markdown",
   "metadata": {},
   "source": [
    "** Add in about trip distance ** "
   ]
  },
  {
   "cell_type": "markdown",
   "metadata": {},
   "source": [
    "Write a function called `parse_trips(trips)` that returns a list of the trips with only the following attributes: \n",
    "* `trip_distance`\n",
    "* `pickup_latitude`\n",
    "* `pickup_longitude`"
   ]
  },
  {
   "cell_type": "code",
   "execution_count": 4,
   "metadata": {},
   "outputs": [],
   "source": [
    "def parse_trips(trips):\n",
    "    return list(map(lambda trip: {'trip_distance': trip['trip_distance'], 'pickup_latitude': trip['pickup_latitude'], 'pickup_longitude': trip['pickup_longitude']},trips))"
   ]
  },
  {
   "cell_type": "code",
   "execution_count": 5,
   "metadata": {},
   "outputs": [
    {
     "data": {
      "text/plain": [
       "{'trip_distance': '18.379999999999999',\n",
       " 'pickup_latitude': '40.64499',\n",
       " 'pickup_longitude': '-73.781149999999997'}"
      ]
     },
     "execution_count": 5,
     "metadata": {},
     "output_type": "execute_result"
    }
   ],
   "source": [
    "parsed_trips = parse_trips(trips)\n",
    "parsed_trips and parsed_trips[0]\n",
    "\n",
    "# {'pickup_latitude': '40.64499',\n",
    "#  'pickup_longitude': '-73.78115',\n",
    "#  'trip_distance': '18.38'}"
   ]
  },
  {
   "cell_type": "markdown",
   "metadata": {},
   "source": [
    "Now, there's just one change to make.  If you look at one of the trips, all of the values are strings.  Let's change them to be floats."
   ]
  },
  {
   "cell_type": "code",
   "execution_count": 6,
   "metadata": {},
   "outputs": [],
   "source": [
    "def float_values(trips):    \n",
    "    return trips and list(map(lambda trip: {'trip_distance': float(trip['trip_distance']), 'pickup_latitude': float(trip['pickup_latitude']), 'pickup_longitude': float(trip['pickup_longitude'])},trips))"
   ]
  },
  {
   "cell_type": "code",
   "execution_count": 7,
   "metadata": {},
   "outputs": [],
   "source": [
    "cleaned_trips = float_values(parsed_trips)"
   ]
  },
  {
   "cell_type": "code",
   "execution_count": 8,
   "metadata": {},
   "outputs": [
    {
     "data": {
      "text/plain": [
       "{'trip_distance': 18.38,\n",
       " 'pickup_latitude': 40.64499,\n",
       " 'pickup_longitude': -73.78115}"
      ]
     },
     "execution_count": 8,
     "metadata": {},
     "output_type": "execute_result"
    }
   ],
   "source": [
    "cleaned_trips[0]\n",
    "\n",
    "# {'pickup_latitude': 40.64499,\n",
    "#  'pickup_longitude': -73.78115,\n",
    "#  'trip_distance': 18.38}"
   ]
  },
  {
   "cell_type": "markdown",
   "metadata": {},
   "source": [
    "### Exploring the Data"
   ]
  },
  {
   "cell_type": "markdown",
   "metadata": {},
   "source": [
    "Now that we have paired down our data, let's get a sense of our trip data.  We can use the `folium` Python library to plot a map of Manhattan, and our data.  First we must import `folium`, and then use the `Map` function to pass through a `location`, and `zoom_start`.  If a map isn't showing up below, copy and paste the command `pip install -r requirements.txt` into your terminal to install `folium` then try again."
   ]
  },
  {
   "cell_type": "code",
   "execution_count": 45,
   "metadata": {},
   "outputs": [
    {
     "name": "stdout",
     "output_type": "stream",
     "text": [
      "Requirement already satisfied: folium in /opt/conda/envs/learn-env/lib/python3.6/site-packages (from -r requirements.txt (line 1)) (0.10.0)\n",
      "Requirement already satisfied: requests in /opt/conda/envs/learn-env/lib/python3.6/site-packages (from folium->-r requirements.txt (line 1)) (2.22.0)\n",
      "Requirement already satisfied: jinja2>=2.9 in /opt/conda/envs/learn-env/lib/python3.6/site-packages (from folium->-r requirements.txt (line 1)) (2.10.3)\n",
      "Requirement already satisfied: numpy in /opt/conda/envs/learn-env/lib/python3.6/site-packages (from folium->-r requirements.txt (line 1)) (1.17.2)\n",
      "Requirement already satisfied: branca>=0.3.0 in /opt/conda/envs/learn-env/lib/python3.6/site-packages (from folium->-r requirements.txt (line 1)) (0.3.1)\n",
      "Requirement already satisfied: urllib3!=1.25.0,!=1.25.1,<1.26,>=1.21.1 in /opt/conda/envs/learn-env/lib/python3.6/site-packages (from requests->folium->-r requirements.txt (line 1)) (1.24.2)\n",
      "Requirement already satisfied: idna<2.9,>=2.5 in /opt/conda/envs/learn-env/lib/python3.6/site-packages (from requests->folium->-r requirements.txt (line 1)) (2.8)\n",
      "Requirement already satisfied: chardet<3.1.0,>=3.0.2 in /opt/conda/envs/learn-env/lib/python3.6/site-packages (from requests->folium->-r requirements.txt (line 1)) (3.0.4)\n",
      "Requirement already satisfied: certifi>=2017.4.17 in /opt/conda/envs/learn-env/lib/python3.6/site-packages (from requests->folium->-r requirements.txt (line 1)) (2019.9.11)\n",
      "Requirement already satisfied: MarkupSafe>=0.23 in /opt/conda/envs/learn-env/lib/python3.6/site-packages (from jinja2>=2.9->folium->-r requirements.txt (line 1)) (1.1.1)\n",
      "Requirement already satisfied: six in /opt/conda/envs/learn-env/lib/python3.6/site-packages (from branca>=0.3.0->folium->-r requirements.txt (line 1)) (1.12.0)\n",
      "Note: you may need to restart the kernel to use updated packages.\n"
     ]
    }
   ],
   "source": [
    "pip install -r requirements.txt"
   ]
  },
  {
   "cell_type": "code",
   "execution_count": 46,
   "metadata": {},
   "outputs": [],
   "source": [
    "import folium\n",
    "manhattan_map = folium.Map(location=[40.7589, -73.9851], zoom_start=11)"
   ]
  },
  {
   "cell_type": "code",
   "execution_count": 10,
   "metadata": {
    "scrolled": true
   },
   "outputs": [
    {
     "data": {
      "text/html": [
       "<div style=\"width:100%;\"><div style=\"position:relative;width:100%;height:0;padding-bottom:60%;\"><iframe src=\"data:text/html;charset=utf-8;base64,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\" style=\"position:absolute;width:100%;height:100%;left:0;top:0;border:none !important;\" allowfullscreen webkitallowfullscreen mozallowfullscreen></iframe></div></div>"
      ],
      "text/plain": [
       "<folium.folium.Map at 0x7fd12f2ab470>"
      ]
     },
     "execution_count": 10,
     "metadata": {},
     "output_type": "execute_result"
    }
   ],
   "source": [
    "manhattan_map"
   ]
  },
  {
   "cell_type": "markdown",
   "metadata": {},
   "source": [
    "Ok, now let's see how we could add a dot to mark a specific location.  We'll start with Times Square."
   ]
  },
  {
   "cell_type": "code",
   "execution_count": 47,
   "metadata": {},
   "outputs": [
    {
     "data": {
      "text/plain": [
       "<folium.vector_layers.CircleMarker at 0x7fd1025aea58>"
      ]
     },
     "execution_count": 47,
     "metadata": {},
     "output_type": "execute_result"
    }
   ],
   "source": [
    "marker = folium.CircleMarker(location = [40.7589, -73.9851], radius=10)\n",
    "marker.add_to(manhattan_map)"
   ]
  },
  {
   "cell_type": "markdown",
   "metadata": {},
   "source": [
    "Above, we first create a marker.  Then we add that circle marker to the `manhattan_map` we created earlier. "
   ]
  },
  {
   "cell_type": "code",
   "execution_count": 12,
   "metadata": {
    "scrolled": false
   },
   "outputs": [
    {
     "data": {
      "text/html": [
       "<div style=\"width:100%;\"><div style=\"position:relative;width:100%;height:0;padding-bottom:60%;\"><iframe src=\"data:text/html;charset=utf-8;base64,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\" style=\"position:absolute;width:100%;height:100%;left:0;top:0;border:none !important;\" allowfullscreen webkitallowfullscreen mozallowfullscreen></iframe></div></div>"
      ],
      "text/plain": [
       "<folium.folium.Map at 0x7fd12f2ab470>"
      ]
     },
     "execution_count": 12,
     "metadata": {},
     "output_type": "execute_result"
    }
   ],
   "source": [
    "manhattan_map"
   ]
  },
  {
   "cell_type": "markdown",
   "metadata": {},
   "source": [
    "Do you see that blue dot near Time's Square?  That is our marker.  \n",
    "\n",
    "So now that we can plot one marker on a map, we should have a sense of how we can plot many markers on a map to display our taxi ride data.  We simply plot a map, and then we add a marker for each location of a taxi trip.\n",
    "\n",
    "Now let's write some functions to allow us to plot maps and add markers a little more easily.  "
   ]
  },
  {
   "cell_type": "markdown",
   "metadata": {},
   "source": [
    "#### Writing some map plotting functions"
   ]
  },
  {
   "cell_type": "markdown",
   "metadata": {},
   "source": [
    "As a first step towards this, note that the functions to create both a marker and map each take in a location as two element list, representing the latitude and longitude values.  Take another look:\n",
    "\n",
    "```python\n",
    "marker = folium.CircleMarker(location = [40.7589, -73.9851])\n",
    "manhattan_map = folium.Map(location=[40.7589, -73.9851])\n",
    "```\n",
    "\n",
    "So let's write a function called to create this two element list from a trip.  Write a function called `location` that  takes in a trip as an argument and returns a list where the first element is the latitude and the second is the longitude.  Remember that a location looks like the following:"
   ]
  },
  {
   "cell_type": "code",
   "execution_count": 48,
   "metadata": {},
   "outputs": [
    {
     "data": {
      "text/plain": [
       "{'pickup_latitude': 40.64499,\n",
       " 'pickup_longitude': -73.78115,\n",
       " 'trip_distance': 18.38}"
      ]
     },
     "execution_count": 48,
     "metadata": {},
     "output_type": "execute_result"
    }
   ],
   "source": [
    "first_trip = {'pickup_latitude': 40.64499, 'pickup_longitude': -73.78115,  'trip_distance': 18.38}\n",
    "first_trip"
   ]
  },
  {
   "cell_type": "code",
   "execution_count": 49,
   "metadata": {},
   "outputs": [],
   "source": [
    "def location(trip):\n",
    "    return [trip['pickup_latitude'], trip['pickup_longitude']]"
   ]
  },
  {
   "cell_type": "code",
   "execution_count": 50,
   "metadata": {},
   "outputs": [
    {
     "data": {
      "text/plain": [
       "[40.64499, -73.78115]"
      ]
     },
     "execution_count": 50,
     "metadata": {},
     "output_type": "execute_result"
    }
   ],
   "source": [
    "first_location = location(first_trip) # [40.64499, -73.78115]\n",
    "first_location # [40.64499, -73.78115]"
   ]
  },
  {
   "cell_type": "markdown",
   "metadata": {},
   "source": [
    "Ok, now that we can turn a trip into a location, let's turn a location into a marker.  Write a function called `to_marker` that takes in a location (in the form of a list) as an argument, and returns a folium `circleMarker` for that location.  The radius of the marker should always equal 6."
   ]
  },
  {
   "cell_type": "code",
   "execution_count": 51,
   "metadata": {},
   "outputs": [],
   "source": [
    "def to_marker(location):\n",
    "    return folium.CircleMarker(location, radius = 6)"
   ]
  },
  {
   "cell_type": "code",
   "execution_count": 52,
   "metadata": {},
   "outputs": [
    {
     "data": {
      "text/plain": [
       "6"
      ]
     },
     "execution_count": 52,
     "metadata": {},
     "output_type": "execute_result"
    }
   ],
   "source": [
    "import json\n",
    "times_square_marker = to_marker([40.7589, -73.9851])\n",
    "\n",
    "times_square_marker and times_square_marker.location # [40.7589, -73.9851]\n",
    "times_square_marker and json.loads(str(times_square_marker.options['radius'])) # 6"
   ]
  },
  {
   "cell_type": "markdown",
   "metadata": {},
   "source": [
    "Ok, now that we know how to produce a single marker, let's write a function to produce lots.  We can write a function called `markers_from_trips` that takes in a list of trips, and returns a marker object for each trip.  "
   ]
  },
  {
   "cell_type": "code",
   "execution_count": 53,
   "metadata": {},
   "outputs": [],
   "source": [
    "def markers_from_trips(trips):\n",
    "    return list(map(lambda trip: to_marker(location(trip)), trips))"
   ]
  },
  {
   "cell_type": "code",
   "execution_count": 54,
   "metadata": {},
   "outputs": [],
   "source": [
    "trip_markers = markers_from_trips(cleaned_trips)"
   ]
  },
  {
   "cell_type": "code",
   "execution_count": 55,
   "metadata": {},
   "outputs": [
    {
     "data": {
      "text/plain": [
       "[<folium.vector_layers.CircleMarker at 0x7fd102599ba8>,\n",
       " <folium.vector_layers.CircleMarker at 0x7fd102599e48>,\n",
       " <folium.vector_layers.CircleMarker at 0x7fd102599048>,\n",
       " <folium.vector_layers.CircleMarker at 0x7fd102599cf8>,\n",
       " <folium.vector_layers.CircleMarker at 0x7fd102599cc0>,\n",
       " <folium.vector_layers.CircleMarker at 0x7fd10260cf98>,\n",
       " <folium.vector_layers.CircleMarker at 0x7fd102599e10>,\n",
       " <folium.vector_layers.CircleMarker at 0x7fd102599978>,\n",
       " <folium.vector_layers.CircleMarker at 0x7fd102599a90>,\n",
       " <folium.vector_layers.CircleMarker at 0x7fd102599860>,\n",
       " <folium.vector_layers.CircleMarker at 0x7fd102599748>,\n",
       " <folium.vector_layers.CircleMarker at 0x7fd102599a58>,\n",
       " <folium.vector_layers.CircleMarker at 0x7fd102599a20>,\n",
       " <folium.vector_layers.CircleMarker at 0x7fd102599898>,\n",
       " <folium.vector_layers.CircleMarker at 0x7fd102599b38>,\n",
       " <folium.vector_layers.CircleMarker at 0x7fd1025990f0>,\n",
       " <folium.vector_layers.CircleMarker at 0x7fd102599c18>,\n",
       " <folium.vector_layers.CircleMarker at 0x7fd102599b00>,\n",
       " <folium.vector_layers.CircleMarker at 0x7fd102599ac8>,\n",
       " <folium.vector_layers.CircleMarker at 0x7fd102599be0>,\n",
       " <folium.vector_layers.CircleMarker at 0x7fd102599208>,\n",
       " <folium.vector_layers.CircleMarker at 0x7fd102599710>,\n",
       " <folium.vector_layers.CircleMarker at 0x7fd1025999e8>,\n",
       " <folium.vector_layers.CircleMarker at 0x7fd1025996d8>,\n",
       " <folium.vector_layers.CircleMarker at 0x7fd1025992e8>,\n",
       " <folium.vector_layers.CircleMarker at 0x7fd102599390>,\n",
       " <folium.vector_layers.CircleMarker at 0x7fd102599320>,\n",
       " <folium.vector_layers.CircleMarker at 0x7fd102599470>,\n",
       " <folium.vector_layers.CircleMarker at 0x7fd1025997b8>,\n",
       " <folium.vector_layers.CircleMarker at 0x7fd1025996a0>,\n",
       " <folium.vector_layers.CircleMarker at 0x7fd1025997f0>,\n",
       " <folium.vector_layers.CircleMarker at 0x7fd102599780>,\n",
       " <folium.vector_layers.CircleMarker at 0x7fd102599668>,\n",
       " <folium.vector_layers.CircleMarker at 0x7fd1025995f8>,\n",
       " <folium.vector_layers.CircleMarker at 0x7fd102599160>,\n",
       " <folium.vector_layers.CircleMarker at 0x7fd1025992b0>,\n",
       " <folium.vector_layers.CircleMarker at 0x7fd1025993c8>,\n",
       " <folium.vector_layers.CircleMarker at 0x7fd1025991d0>,\n",
       " <folium.vector_layers.CircleMarker at 0x7fd102599198>,\n",
       " <folium.vector_layers.CircleMarker at 0x7fd1025990b8>,\n",
       " <folium.vector_layers.CircleMarker at 0x7fd102599630>,\n",
       " <folium.vector_layers.CircleMarker at 0x7fd102599518>,\n",
       " <folium.vector_layers.CircleMarker at 0x7fd102599550>,\n",
       " <folium.vector_layers.CircleMarker at 0x7fd1025994a8>,\n",
       " <folium.vector_layers.CircleMarker at 0x7fd1025995c0>,\n",
       " <folium.vector_layers.CircleMarker at 0x7fd102599438>,\n",
       " <folium.vector_layers.CircleMarker at 0x7fd102721198>,\n",
       " <folium.vector_layers.CircleMarker at 0x7fd102721f98>,\n",
       " <folium.vector_layers.CircleMarker at 0x7fd1025999b0>,\n",
       " <folium.vector_layers.CircleMarker at 0x7fd102721f60>,\n",
       " <folium.vector_layers.CircleMarker at 0x7fd102721cc0>,\n",
       " <folium.vector_layers.CircleMarker at 0x7fd1027212e8>,\n",
       " <folium.vector_layers.CircleMarker at 0x7fd102721cf8>,\n",
       " <folium.vector_layers.CircleMarker at 0x7fd102721208>,\n",
       " <folium.vector_layers.CircleMarker at 0x7fd102721400>,\n",
       " <folium.vector_layers.CircleMarker at 0x7fd1025ae6a0>,\n",
       " <folium.vector_layers.CircleMarker at 0x7fd1025ae390>,\n",
       " <folium.vector_layers.CircleMarker at 0x7fd1025ae240>,\n",
       " <folium.vector_layers.CircleMarker at 0x7fd1025ae198>,\n",
       " <folium.vector_layers.CircleMarker at 0x7fd1025ae278>,\n",
       " <folium.vector_layers.CircleMarker at 0x7fd1025ae780>,\n",
       " <folium.vector_layers.CircleMarker at 0x7fd1025ae6d8>,\n",
       " <folium.vector_layers.CircleMarker at 0x7fd1025aeac8>,\n",
       " <folium.vector_layers.CircleMarker at 0x7fd1025ae9e8>,\n",
       " <folium.vector_layers.CircleMarker at 0x7fd1025aea90>,\n",
       " <folium.vector_layers.CircleMarker at 0x7fd1025ae9b0>,\n",
       " <folium.vector_layers.CircleMarker at 0x7fd1025aeb00>,\n",
       " <folium.vector_layers.CircleMarker at 0x7fd1025ae0b8>,\n",
       " <folium.vector_layers.CircleMarker at 0x7fd1025ae080>,\n",
       " <folium.vector_layers.CircleMarker at 0x7fd1025ae128>,\n",
       " <folium.vector_layers.CircleMarker at 0x7fd1025ae160>,\n",
       " <folium.vector_layers.CircleMarker at 0x7fd1025ae1d0>,\n",
       " <folium.vector_layers.CircleMarker at 0x7fd1025ae048>,\n",
       " <folium.vector_layers.CircleMarker at 0x7fd1025aeb38>,\n",
       " <folium.vector_layers.CircleMarker at 0x7fd1025aeb70>,\n",
       " <folium.vector_layers.CircleMarker at 0x7fd1025aeba8>,\n",
       " <folium.vector_layers.CircleMarker at 0x7fd1025aec18>,\n",
       " <folium.vector_layers.CircleMarker at 0x7fd1025aebe0>,\n",
       " <folium.vector_layers.CircleMarker at 0x7fd1025aec50>,\n",
       " <folium.vector_layers.CircleMarker at 0x7fd1025aec88>,\n",
       " <folium.vector_layers.CircleMarker at 0x7fd1025aecc0>,\n",
       " <folium.vector_layers.CircleMarker at 0x7fd1025aecf8>,\n",
       " <folium.vector_layers.CircleMarker at 0x7fd1025ae940>,\n",
       " <folium.vector_layers.CircleMarker at 0x7fd1025aed30>,\n",
       " <folium.vector_layers.CircleMarker at 0x7fd1025aed68>,\n",
       " <folium.vector_layers.CircleMarker at 0x7fd1025aeda0>,\n",
       " <folium.vector_layers.CircleMarker at 0x7fd1025aedd8>,\n",
       " <folium.vector_layers.CircleMarker at 0x7fd1025aee10>,\n",
       " <folium.vector_layers.CircleMarker at 0x7fd1025aee48>,\n",
       " <folium.vector_layers.CircleMarker at 0x7fd1025aee80>,\n",
       " <folium.vector_layers.CircleMarker at 0x7fd1025aeeb8>,\n",
       " <folium.vector_layers.CircleMarker at 0x7fd1025aeef0>,\n",
       " <folium.vector_layers.CircleMarker at 0x7fd1025aef28>,\n",
       " <folium.vector_layers.CircleMarker at 0x7fd1025aef60>,\n",
       " <folium.vector_layers.CircleMarker at 0x7fd1025aef98>,\n",
       " <folium.vector_layers.CircleMarker at 0x7fd1025aefd0>,\n",
       " <folium.vector_layers.CircleMarker at 0x7fd1025ae320>,\n",
       " <folium.vector_layers.CircleMarker at 0x7fd1025be080>,\n",
       " <folium.vector_layers.CircleMarker at 0x7fd1025be0b8>,\n",
       " <folium.vector_layers.CircleMarker at 0x7fd1025be0f0>,\n",
       " <folium.vector_layers.CircleMarker at 0x7fd1025be128>,\n",
       " <folium.vector_layers.CircleMarker at 0x7fd1025be160>,\n",
       " <folium.vector_layers.CircleMarker at 0x7fd1025be198>,\n",
       " <folium.vector_layers.CircleMarker at 0x7fd1025be1d0>,\n",
       " <folium.vector_layers.CircleMarker at 0x7fd1025be208>,\n",
       " <folium.vector_layers.CircleMarker at 0x7fd1025be240>,\n",
       " <folium.vector_layers.CircleMarker at 0x7fd1025be278>,\n",
       " <folium.vector_layers.CircleMarker at 0x7fd1025be2b0>,\n",
       " <folium.vector_layers.CircleMarker at 0x7fd1025be2e8>,\n",
       " <folium.vector_layers.CircleMarker at 0x7fd1025be320>,\n",
       " <folium.vector_layers.CircleMarker at 0x7fd1025be358>,\n",
       " <folium.vector_layers.CircleMarker at 0x7fd1025be390>,\n",
       " <folium.vector_layers.CircleMarker at 0x7fd1025be3c8>,\n",
       " <folium.vector_layers.CircleMarker at 0x7fd1025be400>,\n",
       " <folium.vector_layers.CircleMarker at 0x7fd1025be438>,\n",
       " <folium.vector_layers.CircleMarker at 0x7fd1025be470>,\n",
       " <folium.vector_layers.CircleMarker at 0x7fd1025be4a8>,\n",
       " <folium.vector_layers.CircleMarker at 0x7fd1025be4e0>,\n",
       " <folium.vector_layers.CircleMarker at 0x7fd1025be518>,\n",
       " <folium.vector_layers.CircleMarker at 0x7fd1025be550>,\n",
       " <folium.vector_layers.CircleMarker at 0x7fd1025be588>,\n",
       " <folium.vector_layers.CircleMarker at 0x7fd1025be5c0>,\n",
       " <folium.vector_layers.CircleMarker at 0x7fd1025be5f8>,\n",
       " <folium.vector_layers.CircleMarker at 0x7fd1025be630>,\n",
       " <folium.vector_layers.CircleMarker at 0x7fd1025be668>,\n",
       " <folium.vector_layers.CircleMarker at 0x7fd1025be6a0>,\n",
       " <folium.vector_layers.CircleMarker at 0x7fd1025be6d8>,\n",
       " <folium.vector_layers.CircleMarker at 0x7fd1025be710>,\n",
       " <folium.vector_layers.CircleMarker at 0x7fd1025be748>,\n",
       " <folium.vector_layers.CircleMarker at 0x7fd1025be780>,\n",
       " <folium.vector_layers.CircleMarker at 0x7fd1025be7b8>,\n",
       " <folium.vector_layers.CircleMarker at 0x7fd1025be7f0>,\n",
       " <folium.vector_layers.CircleMarker at 0x7fd1025be828>,\n",
       " <folium.vector_layers.CircleMarker at 0x7fd1025be860>,\n",
       " <folium.vector_layers.CircleMarker at 0x7fd1025be898>,\n",
       " <folium.vector_layers.CircleMarker at 0x7fd1025be8d0>,\n",
       " <folium.vector_layers.CircleMarker at 0x7fd1025be908>,\n",
       " <folium.vector_layers.CircleMarker at 0x7fd1025be940>,\n",
       " <folium.vector_layers.CircleMarker at 0x7fd1025be978>,\n",
       " <folium.vector_layers.CircleMarker at 0x7fd1025be9b0>,\n",
       " <folium.vector_layers.CircleMarker at 0x7fd1025be9e8>,\n",
       " <folium.vector_layers.CircleMarker at 0x7fd1025bea20>,\n",
       " <folium.vector_layers.CircleMarker at 0x7fd1025bea58>,\n",
       " <folium.vector_layers.CircleMarker at 0x7fd1025bea90>,\n",
       " <folium.vector_layers.CircleMarker at 0x7fd1025beac8>,\n",
       " <folium.vector_layers.CircleMarker at 0x7fd1025beb00>,\n",
       " <folium.vector_layers.CircleMarker at 0x7fd1025beb38>,\n",
       " <folium.vector_layers.CircleMarker at 0x7fd1025beb70>,\n",
       " <folium.vector_layers.CircleMarker at 0x7fd1025beba8>,\n",
       " <folium.vector_layers.CircleMarker at 0x7fd1025bebe0>,\n",
       " <folium.vector_layers.CircleMarker at 0x7fd1025bec18>,\n",
       " <folium.vector_layers.CircleMarker at 0x7fd1025bec50>,\n",
       " <folium.vector_layers.CircleMarker at 0x7fd1025bec88>,\n",
       " <folium.vector_layers.CircleMarker at 0x7fd1025becc0>,\n",
       " <folium.vector_layers.CircleMarker at 0x7fd1025becf8>,\n",
       " <folium.vector_layers.CircleMarker at 0x7fd1025bed30>,\n",
       " <folium.vector_layers.CircleMarker at 0x7fd1025bed68>,\n",
       " <folium.vector_layers.CircleMarker at 0x7fd1025beda0>,\n",
       " <folium.vector_layers.CircleMarker at 0x7fd1025bedd8>,\n",
       " <folium.vector_layers.CircleMarker at 0x7fd1025bee10>,\n",
       " <folium.vector_layers.CircleMarker at 0x7fd1025bee48>,\n",
       " <folium.vector_layers.CircleMarker at 0x7fd1025bee80>,\n",
       " <folium.vector_layers.CircleMarker at 0x7fd1025beeb8>,\n",
       " <folium.vector_layers.CircleMarker at 0x7fd1025beef0>,\n",
       " <folium.vector_layers.CircleMarker at 0x7fd1025bef28>,\n",
       " <folium.vector_layers.CircleMarker at 0x7fd1025bef60>,\n",
       " <folium.vector_layers.CircleMarker at 0x7fd1025bef98>,\n",
       " <folium.vector_layers.CircleMarker at 0x7fd1025befd0>,\n",
       " <folium.vector_layers.CircleMarker at 0x7fd1025be048>,\n",
       " <folium.vector_layers.CircleMarker at 0x7fd1025ca080>,\n",
       " <folium.vector_layers.CircleMarker at 0x7fd1025ca0b8>,\n",
       " <folium.vector_layers.CircleMarker at 0x7fd1025ca0f0>,\n",
       " <folium.vector_layers.CircleMarker at 0x7fd1025ca128>,\n",
       " <folium.vector_layers.CircleMarker at 0x7fd1025ca160>,\n",
       " <folium.vector_layers.CircleMarker at 0x7fd1025ca198>,\n",
       " <folium.vector_layers.CircleMarker at 0x7fd1025ca1d0>,\n",
       " <folium.vector_layers.CircleMarker at 0x7fd1025ca208>,\n",
       " <folium.vector_layers.CircleMarker at 0x7fd1025ca240>,\n",
       " <folium.vector_layers.CircleMarker at 0x7fd1025ca278>,\n",
       " <folium.vector_layers.CircleMarker at 0x7fd1025ca2b0>,\n",
       " <folium.vector_layers.CircleMarker at 0x7fd1025ca2e8>,\n",
       " <folium.vector_layers.CircleMarker at 0x7fd1025ca320>,\n",
       " <folium.vector_layers.CircleMarker at 0x7fd1025ca358>,\n",
       " <folium.vector_layers.CircleMarker at 0x7fd1025ca390>,\n",
       " <folium.vector_layers.CircleMarker at 0x7fd1025ca3c8>,\n",
       " <folium.vector_layers.CircleMarker at 0x7fd1025ca400>,\n",
       " <folium.vector_layers.CircleMarker at 0x7fd1025ca438>,\n",
       " <folium.vector_layers.CircleMarker at 0x7fd1025ca470>,\n",
       " <folium.vector_layers.CircleMarker at 0x7fd1025ca4a8>,\n",
       " <folium.vector_layers.CircleMarker at 0x7fd1025ca4e0>,\n",
       " <folium.vector_layers.CircleMarker at 0x7fd1025ca518>,\n",
       " <folium.vector_layers.CircleMarker at 0x7fd1025ca550>,\n",
       " <folium.vector_layers.CircleMarker at 0x7fd1025ca588>,\n",
       " <folium.vector_layers.CircleMarker at 0x7fd1025ca5c0>,\n",
       " <folium.vector_layers.CircleMarker at 0x7fd1025ca5f8>,\n",
       " <folium.vector_layers.CircleMarker at 0x7fd1025ca630>,\n",
       " <folium.vector_layers.CircleMarker at 0x7fd1025ca668>,\n",
       " <folium.vector_layers.CircleMarker at 0x7fd1025ca6a0>,\n",
       " <folium.vector_layers.CircleMarker at 0x7fd1025ca6d8>,\n",
       " <folium.vector_layers.CircleMarker at 0x7fd1025ca710>,\n",
       " <folium.vector_layers.CircleMarker at 0x7fd1025ca748>,\n",
       " <folium.vector_layers.CircleMarker at 0x7fd1025ca780>,\n",
       " <folium.vector_layers.CircleMarker at 0x7fd1025ca7b8>,\n",
       " <folium.vector_layers.CircleMarker at 0x7fd1025ca7f0>,\n",
       " <folium.vector_layers.CircleMarker at 0x7fd1025ca828>,\n",
       " <folium.vector_layers.CircleMarker at 0x7fd1025ca860>,\n",
       " <folium.vector_layers.CircleMarker at 0x7fd1025ca898>,\n",
       " <folium.vector_layers.CircleMarker at 0x7fd1025ca8d0>,\n",
       " <folium.vector_layers.CircleMarker at 0x7fd1025ca908>,\n",
       " <folium.vector_layers.CircleMarker at 0x7fd1025ca940>,\n",
       " <folium.vector_layers.CircleMarker at 0x7fd1025ca978>,\n",
       " <folium.vector_layers.CircleMarker at 0x7fd1025ca9b0>,\n",
       " <folium.vector_layers.CircleMarker at 0x7fd1025ca9e8>,\n",
       " <folium.vector_layers.CircleMarker at 0x7fd1025caa20>,\n",
       " <folium.vector_layers.CircleMarker at 0x7fd1025caa58>,\n",
       " <folium.vector_layers.CircleMarker at 0x7fd1025caa90>,\n",
       " <folium.vector_layers.CircleMarker at 0x7fd1025caac8>,\n",
       " <folium.vector_layers.CircleMarker at 0x7fd1025cab00>,\n",
       " <folium.vector_layers.CircleMarker at 0x7fd1025cab38>,\n",
       " <folium.vector_layers.CircleMarker at 0x7fd1025cab70>,\n",
       " <folium.vector_layers.CircleMarker at 0x7fd1025caba8>,\n",
       " <folium.vector_layers.CircleMarker at 0x7fd1025cabe0>,\n",
       " <folium.vector_layers.CircleMarker at 0x7fd1025cac18>,\n",
       " <folium.vector_layers.CircleMarker at 0x7fd1025cac50>,\n",
       " <folium.vector_layers.CircleMarker at 0x7fd1025cac88>,\n",
       " <folium.vector_layers.CircleMarker at 0x7fd1025cacc0>,\n",
       " <folium.vector_layers.CircleMarker at 0x7fd1025cacf8>,\n",
       " <folium.vector_layers.CircleMarker at 0x7fd1025cad30>,\n",
       " <folium.vector_layers.CircleMarker at 0x7fd1025cad68>,\n",
       " <folium.vector_layers.CircleMarker at 0x7fd1025cada0>,\n",
       " <folium.vector_layers.CircleMarker at 0x7fd1025cadd8>,\n",
       " <folium.vector_layers.CircleMarker at 0x7fd1025cae10>,\n",
       " <folium.vector_layers.CircleMarker at 0x7fd1025cae48>,\n",
       " <folium.vector_layers.CircleMarker at 0x7fd1025cae80>,\n",
       " <folium.vector_layers.CircleMarker at 0x7fd1025caeb8>,\n",
       " <folium.vector_layers.CircleMarker at 0x7fd1025caef0>,\n",
       " <folium.vector_layers.CircleMarker at 0x7fd1025caf28>,\n",
       " <folium.vector_layers.CircleMarker at 0x7fd1025caf60>,\n",
       " <folium.vector_layers.CircleMarker at 0x7fd1025caf98>,\n",
       " <folium.vector_layers.CircleMarker at 0x7fd1025cafd0>,\n",
       " <folium.vector_layers.CircleMarker at 0x7fd1025ca048>,\n",
       " <folium.vector_layers.CircleMarker at 0x7fd101f2a080>,\n",
       " <folium.vector_layers.CircleMarker at 0x7fd101f2a0b8>,\n",
       " <folium.vector_layers.CircleMarker at 0x7fd101f2a0f0>,\n",
       " <folium.vector_layers.CircleMarker at 0x7fd101f2a128>,\n",
       " <folium.vector_layers.CircleMarker at 0x7fd101f2a160>,\n",
       " <folium.vector_layers.CircleMarker at 0x7fd101f2a198>,\n",
       " <folium.vector_layers.CircleMarker at 0x7fd101f2a1d0>,\n",
       " <folium.vector_layers.CircleMarker at 0x7fd101f2a208>,\n",
       " <folium.vector_layers.CircleMarker at 0x7fd101f2a240>,\n",
       " <folium.vector_layers.CircleMarker at 0x7fd101f2a278>,\n",
       " <folium.vector_layers.CircleMarker at 0x7fd101f2a2b0>,\n",
       " <folium.vector_layers.CircleMarker at 0x7fd101f2a2e8>,\n",
       " <folium.vector_layers.CircleMarker at 0x7fd101f2a320>,\n",
       " <folium.vector_layers.CircleMarker at 0x7fd101f2a358>,\n",
       " <folium.vector_layers.CircleMarker at 0x7fd101f2a390>,\n",
       " <folium.vector_layers.CircleMarker at 0x7fd101f2a3c8>,\n",
       " <folium.vector_layers.CircleMarker at 0x7fd101f2a400>,\n",
       " <folium.vector_layers.CircleMarker at 0x7fd101f2a438>,\n",
       " <folium.vector_layers.CircleMarker at 0x7fd101f2a470>,\n",
       " <folium.vector_layers.CircleMarker at 0x7fd101f2a4a8>,\n",
       " <folium.vector_layers.CircleMarker at 0x7fd101f2a4e0>,\n",
       " <folium.vector_layers.CircleMarker at 0x7fd101f2a518>,\n",
       " <folium.vector_layers.CircleMarker at 0x7fd101f2a550>,\n",
       " <folium.vector_layers.CircleMarker at 0x7fd101f2a588>,\n",
       " <folium.vector_layers.CircleMarker at 0x7fd101f2a5c0>,\n",
       " <folium.vector_layers.CircleMarker at 0x7fd101f2a5f8>,\n",
       " <folium.vector_layers.CircleMarker at 0x7fd101f2a630>,\n",
       " <folium.vector_layers.CircleMarker at 0x7fd101f2a668>,\n",
       " <folium.vector_layers.CircleMarker at 0x7fd101f2a6a0>,\n",
       " <folium.vector_layers.CircleMarker at 0x7fd101f2a6d8>,\n",
       " <folium.vector_layers.CircleMarker at 0x7fd101f2a710>,\n",
       " <folium.vector_layers.CircleMarker at 0x7fd101f2a748>,\n",
       " <folium.vector_layers.CircleMarker at 0x7fd101f2a780>,\n",
       " <folium.vector_layers.CircleMarker at 0x7fd101f2a7b8>,\n",
       " <folium.vector_layers.CircleMarker at 0x7fd101f2a7f0>,\n",
       " <folium.vector_layers.CircleMarker at 0x7fd101f2a828>,\n",
       " <folium.vector_layers.CircleMarker at 0x7fd101f2a860>,\n",
       " <folium.vector_layers.CircleMarker at 0x7fd101f2a898>,\n",
       " <folium.vector_layers.CircleMarker at 0x7fd101f2a8d0>,\n",
       " <folium.vector_layers.CircleMarker at 0x7fd101f2a908>,\n",
       " <folium.vector_layers.CircleMarker at 0x7fd101f2a940>,\n",
       " <folium.vector_layers.CircleMarker at 0x7fd101f2a978>,\n",
       " <folium.vector_layers.CircleMarker at 0x7fd101f2a9b0>,\n",
       " <folium.vector_layers.CircleMarker at 0x7fd101f2a9e8>,\n",
       " <folium.vector_layers.CircleMarker at 0x7fd101f2aa20>,\n",
       " <folium.vector_layers.CircleMarker at 0x7fd101f2aa58>,\n",
       " <folium.vector_layers.CircleMarker at 0x7fd101f2aa90>,\n",
       " <folium.vector_layers.CircleMarker at 0x7fd101f2aac8>,\n",
       " <folium.vector_layers.CircleMarker at 0x7fd101f2ab00>,\n",
       " <folium.vector_layers.CircleMarker at 0x7fd101f2ab38>,\n",
       " <folium.vector_layers.CircleMarker at 0x7fd101f2ab70>,\n",
       " <folium.vector_layers.CircleMarker at 0x7fd101f2aba8>,\n",
       " <folium.vector_layers.CircleMarker at 0x7fd101f2abe0>,\n",
       " <folium.vector_layers.CircleMarker at 0x7fd101f2ac18>,\n",
       " <folium.vector_layers.CircleMarker at 0x7fd101f2ac50>,\n",
       " <folium.vector_layers.CircleMarker at 0x7fd101f2ac88>,\n",
       " <folium.vector_layers.CircleMarker at 0x7fd101f2acc0>,\n",
       " <folium.vector_layers.CircleMarker at 0x7fd101f2acf8>,\n",
       " <folium.vector_layers.CircleMarker at 0x7fd101f2ad30>,\n",
       " <folium.vector_layers.CircleMarker at 0x7fd101f2ad68>,\n",
       " <folium.vector_layers.CircleMarker at 0x7fd101f2ada0>,\n",
       " <folium.vector_layers.CircleMarker at 0x7fd101f2add8>,\n",
       " <folium.vector_layers.CircleMarker at 0x7fd101f2ae10>,\n",
       " <folium.vector_layers.CircleMarker at 0x7fd101f2ae48>,\n",
       " <folium.vector_layers.CircleMarker at 0x7fd101f2ae80>,\n",
       " <folium.vector_layers.CircleMarker at 0x7fd101f2aeb8>,\n",
       " <folium.vector_layers.CircleMarker at 0x7fd101f2aef0>,\n",
       " <folium.vector_layers.CircleMarker at 0x7fd101f2af28>,\n",
       " <folium.vector_layers.CircleMarker at 0x7fd101f2af60>,\n",
       " <folium.vector_layers.CircleMarker at 0x7fd101f2af98>,\n",
       " <folium.vector_layers.CircleMarker at 0x7fd101f2afd0>,\n",
       " <folium.vector_layers.CircleMarker at 0x7fd101f2a048>,\n",
       " <folium.vector_layers.CircleMarker at 0x7fd101f39080>,\n",
       " <folium.vector_layers.CircleMarker at 0x7fd101f390b8>,\n",
       " <folium.vector_layers.CircleMarker at 0x7fd101f390f0>,\n",
       " <folium.vector_layers.CircleMarker at 0x7fd101f39128>,\n",
       " <folium.vector_layers.CircleMarker at 0x7fd101f39160>,\n",
       " <folium.vector_layers.CircleMarker at 0x7fd101f39198>,\n",
       " <folium.vector_layers.CircleMarker at 0x7fd101f391d0>,\n",
       " <folium.vector_layers.CircleMarker at 0x7fd101f39208>,\n",
       " <folium.vector_layers.CircleMarker at 0x7fd101f39240>,\n",
       " <folium.vector_layers.CircleMarker at 0x7fd101f39278>,\n",
       " <folium.vector_layers.CircleMarker at 0x7fd101f392b0>,\n",
       " <folium.vector_layers.CircleMarker at 0x7fd101f392e8>,\n",
       " <folium.vector_layers.CircleMarker at 0x7fd101f39320>,\n",
       " <folium.vector_layers.CircleMarker at 0x7fd101f39358>,\n",
       " <folium.vector_layers.CircleMarker at 0x7fd101f39390>,\n",
       " <folium.vector_layers.CircleMarker at 0x7fd101f393c8>,\n",
       " <folium.vector_layers.CircleMarker at 0x7fd101f39400>,\n",
       " <folium.vector_layers.CircleMarker at 0x7fd101f39438>,\n",
       " <folium.vector_layers.CircleMarker at 0x7fd101f39470>,\n",
       " <folium.vector_layers.CircleMarker at 0x7fd101f394a8>,\n",
       " <folium.vector_layers.CircleMarker at 0x7fd101f394e0>,\n",
       " <folium.vector_layers.CircleMarker at 0x7fd101f39518>,\n",
       " <folium.vector_layers.CircleMarker at 0x7fd101f39550>,\n",
       " <folium.vector_layers.CircleMarker at 0x7fd101f39588>,\n",
       " <folium.vector_layers.CircleMarker at 0x7fd101f395c0>,\n",
       " <folium.vector_layers.CircleMarker at 0x7fd101f395f8>,\n",
       " <folium.vector_layers.CircleMarker at 0x7fd101f39630>,\n",
       " <folium.vector_layers.CircleMarker at 0x7fd101f39668>,\n",
       " <folium.vector_layers.CircleMarker at 0x7fd101f396a0>,\n",
       " <folium.vector_layers.CircleMarker at 0x7fd101f396d8>,\n",
       " <folium.vector_layers.CircleMarker at 0x7fd101f39710>,\n",
       " <folium.vector_layers.CircleMarker at 0x7fd101f39748>,\n",
       " <folium.vector_layers.CircleMarker at 0x7fd101f39780>,\n",
       " <folium.vector_layers.CircleMarker at 0x7fd101f397b8>,\n",
       " <folium.vector_layers.CircleMarker at 0x7fd101f397f0>,\n",
       " <folium.vector_layers.CircleMarker at 0x7fd101f39828>,\n",
       " <folium.vector_layers.CircleMarker at 0x7fd101f39860>,\n",
       " <folium.vector_layers.CircleMarker at 0x7fd101f39898>,\n",
       " <folium.vector_layers.CircleMarker at 0x7fd101f398d0>,\n",
       " <folium.vector_layers.CircleMarker at 0x7fd101f39908>,\n",
       " <folium.vector_layers.CircleMarker at 0x7fd101f39940>,\n",
       " <folium.vector_layers.CircleMarker at 0x7fd101f39978>,\n",
       " <folium.vector_layers.CircleMarker at 0x7fd101f399b0>,\n",
       " <folium.vector_layers.CircleMarker at 0x7fd101f399e8>,\n",
       " <folium.vector_layers.CircleMarker at 0x7fd101f39a20>,\n",
       " <folium.vector_layers.CircleMarker at 0x7fd101f39a58>,\n",
       " <folium.vector_layers.CircleMarker at 0x7fd101f39a90>,\n",
       " <folium.vector_layers.CircleMarker at 0x7fd101f39ac8>,\n",
       " <folium.vector_layers.CircleMarker at 0x7fd101f39b00>,\n",
       " <folium.vector_layers.CircleMarker at 0x7fd101f39b38>,\n",
       " <folium.vector_layers.CircleMarker at 0x7fd101f39b70>,\n",
       " <folium.vector_layers.CircleMarker at 0x7fd101f39ba8>,\n",
       " <folium.vector_layers.CircleMarker at 0x7fd101f39be0>,\n",
       " <folium.vector_layers.CircleMarker at 0x7fd101f39c18>,\n",
       " <folium.vector_layers.CircleMarker at 0x7fd101f39c50>,\n",
       " <folium.vector_layers.CircleMarker at 0x7fd101f39c88>,\n",
       " <folium.vector_layers.CircleMarker at 0x7fd101f39cc0>,\n",
       " <folium.vector_layers.CircleMarker at 0x7fd101f39cf8>,\n",
       " <folium.vector_layers.CircleMarker at 0x7fd101f39d30>,\n",
       " <folium.vector_layers.CircleMarker at 0x7fd101f39d68>,\n",
       " <folium.vector_layers.CircleMarker at 0x7fd101f39da0>,\n",
       " <folium.vector_layers.CircleMarker at 0x7fd101f39dd8>,\n",
       " <folium.vector_layers.CircleMarker at 0x7fd101f39e10>,\n",
       " <folium.vector_layers.CircleMarker at 0x7fd101f39e48>,\n",
       " <folium.vector_layers.CircleMarker at 0x7fd101f39e80>,\n",
       " <folium.vector_layers.CircleMarker at 0x7fd101f39eb8>,\n",
       " <folium.vector_layers.CircleMarker at 0x7fd101f39ef0>,\n",
       " <folium.vector_layers.CircleMarker at 0x7fd101f39f28>,\n",
       " <folium.vector_layers.CircleMarker at 0x7fd101f39f60>,\n",
       " <folium.vector_layers.CircleMarker at 0x7fd101f39f98>,\n",
       " <folium.vector_layers.CircleMarker at 0x7fd101f39fd0>,\n",
       " <folium.vector_layers.CircleMarker at 0x7fd101f39048>,\n",
       " <folium.vector_layers.CircleMarker at 0x7fd101f46080>,\n",
       " <folium.vector_layers.CircleMarker at 0x7fd101f460b8>,\n",
       " <folium.vector_layers.CircleMarker at 0x7fd101f460f0>,\n",
       " <folium.vector_layers.CircleMarker at 0x7fd101f46128>,\n",
       " <folium.vector_layers.CircleMarker at 0x7fd101f46160>,\n",
       " <folium.vector_layers.CircleMarker at 0x7fd101f46198>,\n",
       " <folium.vector_layers.CircleMarker at 0x7fd101f461d0>,\n",
       " <folium.vector_layers.CircleMarker at 0x7fd101f46208>,\n",
       " <folium.vector_layers.CircleMarker at 0x7fd101f46240>,\n",
       " <folium.vector_layers.CircleMarker at 0x7fd101f46278>,\n",
       " <folium.vector_layers.CircleMarker at 0x7fd101f462b0>,\n",
       " <folium.vector_layers.CircleMarker at 0x7fd101f462e8>,\n",
       " <folium.vector_layers.CircleMarker at 0x7fd101f46320>,\n",
       " <folium.vector_layers.CircleMarker at 0x7fd101f46358>,\n",
       " <folium.vector_layers.CircleMarker at 0x7fd101f46390>,\n",
       " <folium.vector_layers.CircleMarker at 0x7fd101f463c8>,\n",
       " <folium.vector_layers.CircleMarker at 0x7fd101f46400>,\n",
       " <folium.vector_layers.CircleMarker at 0x7fd101f46438>,\n",
       " <folium.vector_layers.CircleMarker at 0x7fd101f46470>,\n",
       " <folium.vector_layers.CircleMarker at 0x7fd101f464a8>,\n",
       " <folium.vector_layers.CircleMarker at 0x7fd101f464e0>,\n",
       " <folium.vector_layers.CircleMarker at 0x7fd101f46518>,\n",
       " <folium.vector_layers.CircleMarker at 0x7fd101f46550>,\n",
       " <folium.vector_layers.CircleMarker at 0x7fd101f46588>,\n",
       " <folium.vector_layers.CircleMarker at 0x7fd101f465c0>,\n",
       " <folium.vector_layers.CircleMarker at 0x7fd101f465f8>,\n",
       " <folium.vector_layers.CircleMarker at 0x7fd101f46630>,\n",
       " <folium.vector_layers.CircleMarker at 0x7fd101f46668>,\n",
       " <folium.vector_layers.CircleMarker at 0x7fd101f466a0>,\n",
       " <folium.vector_layers.CircleMarker at 0x7fd101f466d8>,\n",
       " <folium.vector_layers.CircleMarker at 0x7fd101f46710>,\n",
       " <folium.vector_layers.CircleMarker at 0x7fd101f46748>,\n",
       " <folium.vector_layers.CircleMarker at 0x7fd101f46780>,\n",
       " <folium.vector_layers.CircleMarker at 0x7fd101f467b8>,\n",
       " <folium.vector_layers.CircleMarker at 0x7fd101f467f0>,\n",
       " <folium.vector_layers.CircleMarker at 0x7fd101f46828>,\n",
       " <folium.vector_layers.CircleMarker at 0x7fd101f46860>,\n",
       " <folium.vector_layers.CircleMarker at 0x7fd101f46898>,\n",
       " <folium.vector_layers.CircleMarker at 0x7fd101f468d0>,\n",
       " <folium.vector_layers.CircleMarker at 0x7fd101f46908>,\n",
       " <folium.vector_layers.CircleMarker at 0x7fd101f46940>,\n",
       " <folium.vector_layers.CircleMarker at 0x7fd101f46978>,\n",
       " <folium.vector_layers.CircleMarker at 0x7fd101f469b0>,\n",
       " <folium.vector_layers.CircleMarker at 0x7fd101f469e8>,\n",
       " <folium.vector_layers.CircleMarker at 0x7fd101f46a20>,\n",
       " <folium.vector_layers.CircleMarker at 0x7fd101f46a58>,\n",
       " <folium.vector_layers.CircleMarker at 0x7fd101f46a90>,\n",
       " <folium.vector_layers.CircleMarker at 0x7fd101f46ac8>,\n",
       " <folium.vector_layers.CircleMarker at 0x7fd101f46b00>,\n",
       " <folium.vector_layers.CircleMarker at 0x7fd101f46b38>,\n",
       " <folium.vector_layers.CircleMarker at 0x7fd101f46b70>,\n",
       " <folium.vector_layers.CircleMarker at 0x7fd101f46ba8>,\n",
       " <folium.vector_layers.CircleMarker at 0x7fd101f46be0>,\n",
       " <folium.vector_layers.CircleMarker at 0x7fd101f46c18>,\n",
       " <folium.vector_layers.CircleMarker at 0x7fd101f46c50>,\n",
       " <folium.vector_layers.CircleMarker at 0x7fd101f46c88>,\n",
       " <folium.vector_layers.CircleMarker at 0x7fd101f46cc0>,\n",
       " <folium.vector_layers.CircleMarker at 0x7fd101f46cf8>,\n",
       " <folium.vector_layers.CircleMarker at 0x7fd101f46d30>,\n",
       " <folium.vector_layers.CircleMarker at 0x7fd101f46d68>,\n",
       " <folium.vector_layers.CircleMarker at 0x7fd101f46da0>,\n",
       " <folium.vector_layers.CircleMarker at 0x7fd101f46dd8>,\n",
       " <folium.vector_layers.CircleMarker at 0x7fd101f46e10>,\n",
       " <folium.vector_layers.CircleMarker at 0x7fd101f46e48>,\n",
       " <folium.vector_layers.CircleMarker at 0x7fd101f46e80>,\n",
       " <folium.vector_layers.CircleMarker at 0x7fd101f46eb8>,\n",
       " <folium.vector_layers.CircleMarker at 0x7fd101f46ef0>,\n",
       " <folium.vector_layers.CircleMarker at 0x7fd101f46f28>,\n",
       " <folium.vector_layers.CircleMarker at 0x7fd101f46f60>,\n",
       " <folium.vector_layers.CircleMarker at 0x7fd101f46f98>,\n",
       " <folium.vector_layers.CircleMarker at 0x7fd101f46fd0>,\n",
       " <folium.vector_layers.CircleMarker at 0x7fd101f46048>,\n",
       " <folium.vector_layers.CircleMarker at 0x7fd101f54080>,\n",
       " <folium.vector_layers.CircleMarker at 0x7fd101f540b8>,\n",
       " <folium.vector_layers.CircleMarker at 0x7fd101f540f0>,\n",
       " <folium.vector_layers.CircleMarker at 0x7fd101f54128>,\n",
       " <folium.vector_layers.CircleMarker at 0x7fd101f54160>,\n",
       " <folium.vector_layers.CircleMarker at 0x7fd101f54198>,\n",
       " <folium.vector_layers.CircleMarker at 0x7fd101f541d0>,\n",
       " <folium.vector_layers.CircleMarker at 0x7fd101f54208>,\n",
       " <folium.vector_layers.CircleMarker at 0x7fd101f54240>,\n",
       " <folium.vector_layers.CircleMarker at 0x7fd101f54278>,\n",
       " <folium.vector_layers.CircleMarker at 0x7fd101f542b0>,\n",
       " <folium.vector_layers.CircleMarker at 0x7fd101f542e8>,\n",
       " <folium.vector_layers.CircleMarker at 0x7fd101f54320>,\n",
       " <folium.vector_layers.CircleMarker at 0x7fd101f54358>,\n",
       " <folium.vector_layers.CircleMarker at 0x7fd101f54390>,\n",
       " <folium.vector_layers.CircleMarker at 0x7fd101f543c8>,\n",
       " <folium.vector_layers.CircleMarker at 0x7fd101f54400>,\n",
       " <folium.vector_layers.CircleMarker at 0x7fd101f54438>,\n",
       " <folium.vector_layers.CircleMarker at 0x7fd101f54470>,\n",
       " <folium.vector_layers.CircleMarker at 0x7fd101f544a8>,\n",
       " <folium.vector_layers.CircleMarker at 0x7fd101f544e0>,\n",
       " <folium.vector_layers.CircleMarker at 0x7fd101f54518>,\n",
       " <folium.vector_layers.CircleMarker at 0x7fd101f54550>,\n",
       " <folium.vector_layers.CircleMarker at 0x7fd101f54588>,\n",
       " <folium.vector_layers.CircleMarker at 0x7fd101f545c0>,\n",
       " <folium.vector_layers.CircleMarker at 0x7fd101f545f8>,\n",
       " <folium.vector_layers.CircleMarker at 0x7fd101f54630>,\n",
       " <folium.vector_layers.CircleMarker at 0x7fd101f54668>,\n",
       " <folium.vector_layers.CircleMarker at 0x7fd101f546a0>,\n",
       " <folium.vector_layers.CircleMarker at 0x7fd101f546d8>,\n",
       " <folium.vector_layers.CircleMarker at 0x7fd101f54710>,\n",
       " <folium.vector_layers.CircleMarker at 0x7fd101f54748>,\n",
       " <folium.vector_layers.CircleMarker at 0x7fd101f54780>,\n",
       " <folium.vector_layers.CircleMarker at 0x7fd101f547b8>,\n",
       " <folium.vector_layers.CircleMarker at 0x7fd101f547f0>,\n",
       " <folium.vector_layers.CircleMarker at 0x7fd101f54828>,\n",
       " <folium.vector_layers.CircleMarker at 0x7fd101f54860>,\n",
       " <folium.vector_layers.CircleMarker at 0x7fd101f54898>,\n",
       " <folium.vector_layers.CircleMarker at 0x7fd101f548d0>,\n",
       " <folium.vector_layers.CircleMarker at 0x7fd101f54908>,\n",
       " <folium.vector_layers.CircleMarker at 0x7fd101f54940>,\n",
       " <folium.vector_layers.CircleMarker at 0x7fd101f54978>,\n",
       " <folium.vector_layers.CircleMarker at 0x7fd101f549b0>,\n",
       " <folium.vector_layers.CircleMarker at 0x7fd101f549e8>,\n",
       " <folium.vector_layers.CircleMarker at 0x7fd101f54a20>,\n",
       " <folium.vector_layers.CircleMarker at 0x7fd101f54a58>,\n",
       " <folium.vector_layers.CircleMarker at 0x7fd101f54a90>,\n",
       " <folium.vector_layers.CircleMarker at 0x7fd101f54ac8>,\n",
       " <folium.vector_layers.CircleMarker at 0x7fd101f54b00>,\n",
       " <folium.vector_layers.CircleMarker at 0x7fd101f54b38>,\n",
       " <folium.vector_layers.CircleMarker at 0x7fd101f54b70>,\n",
       " <folium.vector_layers.CircleMarker at 0x7fd101f54ba8>,\n",
       " <folium.vector_layers.CircleMarker at 0x7fd101f54be0>,\n",
       " <folium.vector_layers.CircleMarker at 0x7fd101f54c18>,\n",
       " <folium.vector_layers.CircleMarker at 0x7fd101f54c50>,\n",
       " <folium.vector_layers.CircleMarker at 0x7fd101f54c88>,\n",
       " <folium.vector_layers.CircleMarker at 0x7fd101f54cc0>,\n",
       " <folium.vector_layers.CircleMarker at 0x7fd101f54cf8>,\n",
       " <folium.vector_layers.CircleMarker at 0x7fd101f54d30>,\n",
       " <folium.vector_layers.CircleMarker at 0x7fd101f54d68>,\n",
       " <folium.vector_layers.CircleMarker at 0x7fd101f54da0>,\n",
       " <folium.vector_layers.CircleMarker at 0x7fd101f54dd8>,\n",
       " <folium.vector_layers.CircleMarker at 0x7fd101f54e10>,\n",
       " <folium.vector_layers.CircleMarker at 0x7fd101f54e48>,\n",
       " <folium.vector_layers.CircleMarker at 0x7fd101f54e80>,\n",
       " <folium.vector_layers.CircleMarker at 0x7fd101f54eb8>,\n",
       " <folium.vector_layers.CircleMarker at 0x7fd101f54ef0>,\n",
       " <folium.vector_layers.CircleMarker at 0x7fd101f54f28>,\n",
       " <folium.vector_layers.CircleMarker at 0x7fd101f54f60>,\n",
       " <folium.vector_layers.CircleMarker at 0x7fd101f54f98>,\n",
       " <folium.vector_layers.CircleMarker at 0x7fd101f54fd0>,\n",
       " <folium.vector_layers.CircleMarker at 0x7fd101f54048>,\n",
       " <folium.vector_layers.CircleMarker at 0x7fd101f61080>,\n",
       " <folium.vector_layers.CircleMarker at 0x7fd101f610b8>,\n",
       " <folium.vector_layers.CircleMarker at 0x7fd101f610f0>,\n",
       " <folium.vector_layers.CircleMarker at 0x7fd101f61128>,\n",
       " <folium.vector_layers.CircleMarker at 0x7fd101f61160>,\n",
       " <folium.vector_layers.CircleMarker at 0x7fd101f61198>,\n",
       " <folium.vector_layers.CircleMarker at 0x7fd101f611d0>,\n",
       " <folium.vector_layers.CircleMarker at 0x7fd101f61208>,\n",
       " <folium.vector_layers.CircleMarker at 0x7fd101f61240>,\n",
       " <folium.vector_layers.CircleMarker at 0x7fd101f61278>,\n",
       " <folium.vector_layers.CircleMarker at 0x7fd101f612b0>,\n",
       " <folium.vector_layers.CircleMarker at 0x7fd101f612e8>,\n",
       " <folium.vector_layers.CircleMarker at 0x7fd101f61320>,\n",
       " <folium.vector_layers.CircleMarker at 0x7fd101f61358>,\n",
       " <folium.vector_layers.CircleMarker at 0x7fd101f61390>,\n",
       " <folium.vector_layers.CircleMarker at 0x7fd101f613c8>,\n",
       " <folium.vector_layers.CircleMarker at 0x7fd101f61400>,\n",
       " <folium.vector_layers.CircleMarker at 0x7fd101f61438>,\n",
       " <folium.vector_layers.CircleMarker at 0x7fd101f61470>,\n",
       " <folium.vector_layers.CircleMarker at 0x7fd101f614a8>,\n",
       " <folium.vector_layers.CircleMarker at 0x7fd101f614e0>,\n",
       " <folium.vector_layers.CircleMarker at 0x7fd101f61518>,\n",
       " <folium.vector_layers.CircleMarker at 0x7fd101f61550>,\n",
       " <folium.vector_layers.CircleMarker at 0x7fd101f61588>,\n",
       " <folium.vector_layers.CircleMarker at 0x7fd101f615c0>,\n",
       " <folium.vector_layers.CircleMarker at 0x7fd101f615f8>,\n",
       " <folium.vector_layers.CircleMarker at 0x7fd101f61630>,\n",
       " <folium.vector_layers.CircleMarker at 0x7fd101f61668>,\n",
       " <folium.vector_layers.CircleMarker at 0x7fd101f616a0>,\n",
       " <folium.vector_layers.CircleMarker at 0x7fd101f616d8>,\n",
       " <folium.vector_layers.CircleMarker at 0x7fd101f61710>,\n",
       " <folium.vector_layers.CircleMarker at 0x7fd101f61748>,\n",
       " <folium.vector_layers.CircleMarker at 0x7fd101f61780>,\n",
       " <folium.vector_layers.CircleMarker at 0x7fd101f617b8>,\n",
       " <folium.vector_layers.CircleMarker at 0x7fd101f617f0>,\n",
       " <folium.vector_layers.CircleMarker at 0x7fd101f61828>,\n",
       " <folium.vector_layers.CircleMarker at 0x7fd101f61860>,\n",
       " <folium.vector_layers.CircleMarker at 0x7fd101f61898>,\n",
       " <folium.vector_layers.CircleMarker at 0x7fd101f618d0>,\n",
       " <folium.vector_layers.CircleMarker at 0x7fd101f61908>,\n",
       " <folium.vector_layers.CircleMarker at 0x7fd101f61940>,\n",
       " <folium.vector_layers.CircleMarker at 0x7fd101f61978>,\n",
       " <folium.vector_layers.CircleMarker at 0x7fd101f619b0>,\n",
       " <folium.vector_layers.CircleMarker at 0x7fd101f619e8>,\n",
       " <folium.vector_layers.CircleMarker at 0x7fd101f61a20>,\n",
       " <folium.vector_layers.CircleMarker at 0x7fd101f61a58>,\n",
       " <folium.vector_layers.CircleMarker at 0x7fd101f61a90>,\n",
       " <folium.vector_layers.CircleMarker at 0x7fd101f61ac8>,\n",
       " <folium.vector_layers.CircleMarker at 0x7fd101f61b00>,\n",
       " <folium.vector_layers.CircleMarker at 0x7fd101f61b38>,\n",
       " <folium.vector_layers.CircleMarker at 0x7fd101f61b70>,\n",
       " <folium.vector_layers.CircleMarker at 0x7fd101f61ba8>,\n",
       " <folium.vector_layers.CircleMarker at 0x7fd101f61be0>,\n",
       " <folium.vector_layers.CircleMarker at 0x7fd101f61c18>,\n",
       " <folium.vector_layers.CircleMarker at 0x7fd101f61c50>,\n",
       " <folium.vector_layers.CircleMarker at 0x7fd101f61c88>,\n",
       " <folium.vector_layers.CircleMarker at 0x7fd101f61cc0>,\n",
       " <folium.vector_layers.CircleMarker at 0x7fd101f61cf8>,\n",
       " <folium.vector_layers.CircleMarker at 0x7fd101f61d30>,\n",
       " <folium.vector_layers.CircleMarker at 0x7fd101f61d68>,\n",
       " <folium.vector_layers.CircleMarker at 0x7fd101f61da0>,\n",
       " <folium.vector_layers.CircleMarker at 0x7fd101f61dd8>,\n",
       " <folium.vector_layers.CircleMarker at 0x7fd101f61e10>,\n",
       " <folium.vector_layers.CircleMarker at 0x7fd101f61e48>,\n",
       " <folium.vector_layers.CircleMarker at 0x7fd101f61e80>,\n",
       " <folium.vector_layers.CircleMarker at 0x7fd101f61eb8>,\n",
       " <folium.vector_layers.CircleMarker at 0x7fd101f61ef0>,\n",
       " <folium.vector_layers.CircleMarker at 0x7fd101f61f28>,\n",
       " <folium.vector_layers.CircleMarker at 0x7fd101f61f60>,\n",
       " <folium.vector_layers.CircleMarker at 0x7fd101f61f98>,\n",
       " <folium.vector_layers.CircleMarker at 0x7fd101f61fd0>,\n",
       " <folium.vector_layers.CircleMarker at 0x7fd101f61048>,\n",
       " <folium.vector_layers.CircleMarker at 0x7fd101eef080>,\n",
       " <folium.vector_layers.CircleMarker at 0x7fd101eef0b8>,\n",
       " <folium.vector_layers.CircleMarker at 0x7fd101eef0f0>,\n",
       " <folium.vector_layers.CircleMarker at 0x7fd101eef128>,\n",
       " <folium.vector_layers.CircleMarker at 0x7fd101eef160>,\n",
       " <folium.vector_layers.CircleMarker at 0x7fd101eef198>,\n",
       " <folium.vector_layers.CircleMarker at 0x7fd101eef1d0>,\n",
       " <folium.vector_layers.CircleMarker at 0x7fd101eef208>,\n",
       " <folium.vector_layers.CircleMarker at 0x7fd101eef240>,\n",
       " <folium.vector_layers.CircleMarker at 0x7fd101eef278>,\n",
       " <folium.vector_layers.CircleMarker at 0x7fd101eef2b0>,\n",
       " <folium.vector_layers.CircleMarker at 0x7fd101eef2e8>,\n",
       " <folium.vector_layers.CircleMarker at 0x7fd101eef320>,\n",
       " <folium.vector_layers.CircleMarker at 0x7fd101eef358>,\n",
       " <folium.vector_layers.CircleMarker at 0x7fd101eef390>,\n",
       " <folium.vector_layers.CircleMarker at 0x7fd101eef3c8>,\n",
       " <folium.vector_layers.CircleMarker at 0x7fd101eef400>,\n",
       " <folium.vector_layers.CircleMarker at 0x7fd101eef438>,\n",
       " <folium.vector_layers.CircleMarker at 0x7fd101eef470>,\n",
       " <folium.vector_layers.CircleMarker at 0x7fd101eef4a8>,\n",
       " <folium.vector_layers.CircleMarker at 0x7fd101eef4e0>,\n",
       " <folium.vector_layers.CircleMarker at 0x7fd101eef518>,\n",
       " <folium.vector_layers.CircleMarker at 0x7fd101eef550>,\n",
       " <folium.vector_layers.CircleMarker at 0x7fd101eef588>,\n",
       " <folium.vector_layers.CircleMarker at 0x7fd101eef5c0>,\n",
       " <folium.vector_layers.CircleMarker at 0x7fd101eef5f8>,\n",
       " <folium.vector_layers.CircleMarker at 0x7fd101eef630>,\n",
       " <folium.vector_layers.CircleMarker at 0x7fd101eef668>,\n",
       " <folium.vector_layers.CircleMarker at 0x7fd101eef6a0>,\n",
       " <folium.vector_layers.CircleMarker at 0x7fd101eef6d8>,\n",
       " <folium.vector_layers.CircleMarker at 0x7fd101eef710>,\n",
       " <folium.vector_layers.CircleMarker at 0x7fd101eef748>,\n",
       " <folium.vector_layers.CircleMarker at 0x7fd101eef780>,\n",
       " <folium.vector_layers.CircleMarker at 0x7fd101eef7b8>,\n",
       " <folium.vector_layers.CircleMarker at 0x7fd101eef7f0>,\n",
       " <folium.vector_layers.CircleMarker at 0x7fd101eef828>,\n",
       " <folium.vector_layers.CircleMarker at 0x7fd101eef860>,\n",
       " <folium.vector_layers.CircleMarker at 0x7fd101eef898>,\n",
       " <folium.vector_layers.CircleMarker at 0x7fd101eef8d0>,\n",
       " <folium.vector_layers.CircleMarker at 0x7fd101eef908>,\n",
       " <folium.vector_layers.CircleMarker at 0x7fd101eef940>,\n",
       " <folium.vector_layers.CircleMarker at 0x7fd101eef978>,\n",
       " <folium.vector_layers.CircleMarker at 0x7fd101eef9b0>,\n",
       " <folium.vector_layers.CircleMarker at 0x7fd101eef9e8>,\n",
       " <folium.vector_layers.CircleMarker at 0x7fd101eefa20>,\n",
       " <folium.vector_layers.CircleMarker at 0x7fd101eefa58>,\n",
       " <folium.vector_layers.CircleMarker at 0x7fd101eefa90>,\n",
       " <folium.vector_layers.CircleMarker at 0x7fd101eefac8>,\n",
       " <folium.vector_layers.CircleMarker at 0x7fd101eefb00>,\n",
       " <folium.vector_layers.CircleMarker at 0x7fd101eefb38>,\n",
       " <folium.vector_layers.CircleMarker at 0x7fd101eefb70>,\n",
       " <folium.vector_layers.CircleMarker at 0x7fd101eefba8>,\n",
       " <folium.vector_layers.CircleMarker at 0x7fd101eefbe0>,\n",
       " <folium.vector_layers.CircleMarker at 0x7fd101eefc18>,\n",
       " <folium.vector_layers.CircleMarker at 0x7fd101eefc50>,\n",
       " <folium.vector_layers.CircleMarker at 0x7fd101eefc88>,\n",
       " <folium.vector_layers.CircleMarker at 0x7fd101eefcc0>,\n",
       " <folium.vector_layers.CircleMarker at 0x7fd101eefcf8>,\n",
       " <folium.vector_layers.CircleMarker at 0x7fd101eefd30>,\n",
       " <folium.vector_layers.CircleMarker at 0x7fd101eefd68>,\n",
       " <folium.vector_layers.CircleMarker at 0x7fd101eefda0>,\n",
       " <folium.vector_layers.CircleMarker at 0x7fd101eefdd8>,\n",
       " <folium.vector_layers.CircleMarker at 0x7fd101eefe10>,\n",
       " <folium.vector_layers.CircleMarker at 0x7fd101eefe48>,\n",
       " <folium.vector_layers.CircleMarker at 0x7fd101eefe80>,\n",
       " <folium.vector_layers.CircleMarker at 0x7fd101eefeb8>,\n",
       " <folium.vector_layers.CircleMarker at 0x7fd101eefef0>,\n",
       " <folium.vector_layers.CircleMarker at 0x7fd101eeff28>,\n",
       " <folium.vector_layers.CircleMarker at 0x7fd101eeff60>,\n",
       " <folium.vector_layers.CircleMarker at 0x7fd101eeff98>,\n",
       " <folium.vector_layers.CircleMarker at 0x7fd101eeffd0>,\n",
       " <folium.vector_layers.CircleMarker at 0x7fd101eef048>,\n",
       " <folium.vector_layers.CircleMarker at 0x7fd101efc048>,\n",
       " <folium.vector_layers.CircleMarker at 0x7fd101efc0b8>,\n",
       " <folium.vector_layers.CircleMarker at 0x7fd101efc0f0>,\n",
       " <folium.vector_layers.CircleMarker at 0x7fd101efc128>,\n",
       " <folium.vector_layers.CircleMarker at 0x7fd101efc160>,\n",
       " <folium.vector_layers.CircleMarker at 0x7fd101efc198>,\n",
       " <folium.vector_layers.CircleMarker at 0x7fd101efc1d0>,\n",
       " <folium.vector_layers.CircleMarker at 0x7fd101efc208>,\n",
       " <folium.vector_layers.CircleMarker at 0x7fd101efc240>,\n",
       " <folium.vector_layers.CircleMarker at 0x7fd101efc278>,\n",
       " <folium.vector_layers.CircleMarker at 0x7fd101efc2b0>,\n",
       " <folium.vector_layers.CircleMarker at 0x7fd101efc2e8>,\n",
       " <folium.vector_layers.CircleMarker at 0x7fd101efc320>,\n",
       " <folium.vector_layers.CircleMarker at 0x7fd101efc358>,\n",
       " <folium.vector_layers.CircleMarker at 0x7fd101efc390>,\n",
       " <folium.vector_layers.CircleMarker at 0x7fd101efc3c8>,\n",
       " <folium.vector_layers.CircleMarker at 0x7fd101efc400>,\n",
       " <folium.vector_layers.CircleMarker at 0x7fd101efc438>,\n",
       " <folium.vector_layers.CircleMarker at 0x7fd101efc470>,\n",
       " <folium.vector_layers.CircleMarker at 0x7fd101efc4a8>,\n",
       " <folium.vector_layers.CircleMarker at 0x7fd101efc4e0>,\n",
       " <folium.vector_layers.CircleMarker at 0x7fd101efc518>,\n",
       " <folium.vector_layers.CircleMarker at 0x7fd101efc550>,\n",
       " <folium.vector_layers.CircleMarker at 0x7fd101efc588>,\n",
       " <folium.vector_layers.CircleMarker at 0x7fd101efc5c0>,\n",
       " <folium.vector_layers.CircleMarker at 0x7fd101efc5f8>,\n",
       " <folium.vector_layers.CircleMarker at 0x7fd101efc630>,\n",
       " <folium.vector_layers.CircleMarker at 0x7fd101efc668>,\n",
       " <folium.vector_layers.CircleMarker at 0x7fd101efc6a0>,\n",
       " <folium.vector_layers.CircleMarker at 0x7fd101efc6d8>,\n",
       " <folium.vector_layers.CircleMarker at 0x7fd101efc710>,\n",
       " <folium.vector_layers.CircleMarker at 0x7fd101efc748>,\n",
       " <folium.vector_layers.CircleMarker at 0x7fd101efc780>,\n",
       " <folium.vector_layers.CircleMarker at 0x7fd101efc7b8>,\n",
       " <folium.vector_layers.CircleMarker at 0x7fd101efc7f0>,\n",
       " <folium.vector_layers.CircleMarker at 0x7fd101efc828>,\n",
       " <folium.vector_layers.CircleMarker at 0x7fd101efc860>,\n",
       " <folium.vector_layers.CircleMarker at 0x7fd101efc898>,\n",
       " <folium.vector_layers.CircleMarker at 0x7fd101efc8d0>,\n",
       " <folium.vector_layers.CircleMarker at 0x7fd101efc908>,\n",
       " <folium.vector_layers.CircleMarker at 0x7fd101efc940>,\n",
       " <folium.vector_layers.CircleMarker at 0x7fd101efc978>,\n",
       " <folium.vector_layers.CircleMarker at 0x7fd101efc9b0>,\n",
       " <folium.vector_layers.CircleMarker at 0x7fd101efc9e8>,\n",
       " <folium.vector_layers.CircleMarker at 0x7fd101efca20>,\n",
       " <folium.vector_layers.CircleMarker at 0x7fd101efca58>,\n",
       " <folium.vector_layers.CircleMarker at 0x7fd101efca90>,\n",
       " <folium.vector_layers.CircleMarker at 0x7fd101efcac8>,\n",
       " <folium.vector_layers.CircleMarker at 0x7fd101efcb00>,\n",
       " <folium.vector_layers.CircleMarker at 0x7fd101efcb38>,\n",
       " <folium.vector_layers.CircleMarker at 0x7fd101efcb70>,\n",
       " <folium.vector_layers.CircleMarker at 0x7fd101efcba8>,\n",
       " <folium.vector_layers.CircleMarker at 0x7fd101efcbe0>,\n",
       " <folium.vector_layers.CircleMarker at 0x7fd101efcc18>,\n",
       " <folium.vector_layers.CircleMarker at 0x7fd101efcc50>,\n",
       " <folium.vector_layers.CircleMarker at 0x7fd101efcc88>,\n",
       " <folium.vector_layers.CircleMarker at 0x7fd101efccc0>,\n",
       " <folium.vector_layers.CircleMarker at 0x7fd101efccf8>,\n",
       " <folium.vector_layers.CircleMarker at 0x7fd101efcd30>,\n",
       " <folium.vector_layers.CircleMarker at 0x7fd101efcd68>,\n",
       " <folium.vector_layers.CircleMarker at 0x7fd101efcda0>,\n",
       " <folium.vector_layers.CircleMarker at 0x7fd101efcdd8>,\n",
       " <folium.vector_layers.CircleMarker at 0x7fd101efce10>,\n",
       " <folium.vector_layers.CircleMarker at 0x7fd101efce48>,\n",
       " <folium.vector_layers.CircleMarker at 0x7fd101efce80>,\n",
       " <folium.vector_layers.CircleMarker at 0x7fd101efceb8>,\n",
       " <folium.vector_layers.CircleMarker at 0x7fd101efcef0>,\n",
       " <folium.vector_layers.CircleMarker at 0x7fd101efcf28>,\n",
       " <folium.vector_layers.CircleMarker at 0x7fd101efcf60>,\n",
       " <folium.vector_layers.CircleMarker at 0x7fd101efcf98>,\n",
       " <folium.vector_layers.CircleMarker at 0x7fd101efcfd0>,\n",
       " <folium.vector_layers.CircleMarker at 0x7fd101efc080>,\n",
       " <folium.vector_layers.CircleMarker at 0x7fd101f0b048>,\n",
       " <folium.vector_layers.CircleMarker at 0x7fd101f0b0b8>,\n",
       " <folium.vector_layers.CircleMarker at 0x7fd101f0b0f0>,\n",
       " <folium.vector_layers.CircleMarker at 0x7fd101f0b128>,\n",
       " <folium.vector_layers.CircleMarker at 0x7fd101f0b160>,\n",
       " <folium.vector_layers.CircleMarker at 0x7fd101f0b198>,\n",
       " <folium.vector_layers.CircleMarker at 0x7fd101f0b1d0>,\n",
       " <folium.vector_layers.CircleMarker at 0x7fd101f0b208>,\n",
       " <folium.vector_layers.CircleMarker at 0x7fd101f0b240>,\n",
       " <folium.vector_layers.CircleMarker at 0x7fd101f0b278>,\n",
       " <folium.vector_layers.CircleMarker at 0x7fd101f0b2b0>,\n",
       " <folium.vector_layers.CircleMarker at 0x7fd101f0b2e8>,\n",
       " <folium.vector_layers.CircleMarker at 0x7fd101f0b320>,\n",
       " <folium.vector_layers.CircleMarker at 0x7fd101f0b358>,\n",
       " <folium.vector_layers.CircleMarker at 0x7fd101f0b390>,\n",
       " <folium.vector_layers.CircleMarker at 0x7fd101f0b3c8>,\n",
       " <folium.vector_layers.CircleMarker at 0x7fd101f0b400>,\n",
       " <folium.vector_layers.CircleMarker at 0x7fd101f0b438>,\n",
       " <folium.vector_layers.CircleMarker at 0x7fd101f0b470>,\n",
       " <folium.vector_layers.CircleMarker at 0x7fd101f0b4a8>,\n",
       " <folium.vector_layers.CircleMarker at 0x7fd101f0b4e0>,\n",
       " <folium.vector_layers.CircleMarker at 0x7fd101f0b518>,\n",
       " <folium.vector_layers.CircleMarker at 0x7fd101f0b550>,\n",
       " <folium.vector_layers.CircleMarker at 0x7fd101f0b588>,\n",
       " <folium.vector_layers.CircleMarker at 0x7fd101f0b5c0>,\n",
       " <folium.vector_layers.CircleMarker at 0x7fd101f0b5f8>,\n",
       " <folium.vector_layers.CircleMarker at 0x7fd101f0b630>,\n",
       " <folium.vector_layers.CircleMarker at 0x7fd101f0b668>,\n",
       " <folium.vector_layers.CircleMarker at 0x7fd101f0b6a0>,\n",
       " <folium.vector_layers.CircleMarker at 0x7fd101f0b6d8>,\n",
       " <folium.vector_layers.CircleMarker at 0x7fd101f0b710>,\n",
       " <folium.vector_layers.CircleMarker at 0x7fd101f0b748>,\n",
       " <folium.vector_layers.CircleMarker at 0x7fd101f0b780>,\n",
       " <folium.vector_layers.CircleMarker at 0x7fd101f0b7b8>,\n",
       " <folium.vector_layers.CircleMarker at 0x7fd101f0b7f0>,\n",
       " <folium.vector_layers.CircleMarker at 0x7fd101f0b828>,\n",
       " <folium.vector_layers.CircleMarker at 0x7fd101f0b860>,\n",
       " <folium.vector_layers.CircleMarker at 0x7fd101f0b898>,\n",
       " <folium.vector_layers.CircleMarker at 0x7fd101f0b8d0>,\n",
       " <folium.vector_layers.CircleMarker at 0x7fd101f0b908>,\n",
       " <folium.vector_layers.CircleMarker at 0x7fd101f0b940>,\n",
       " <folium.vector_layers.CircleMarker at 0x7fd101f0b978>,\n",
       " <folium.vector_layers.CircleMarker at 0x7fd101f0b9b0>,\n",
       " <folium.vector_layers.CircleMarker at 0x7fd101f0b9e8>,\n",
       " <folium.vector_layers.CircleMarker at 0x7fd101f0ba20>,\n",
       " <folium.vector_layers.CircleMarker at 0x7fd101f0ba58>,\n",
       " <folium.vector_layers.CircleMarker at 0x7fd101f0ba90>,\n",
       " <folium.vector_layers.CircleMarker at 0x7fd101f0bac8>,\n",
       " <folium.vector_layers.CircleMarker at 0x7fd101f0bb00>,\n",
       " <folium.vector_layers.CircleMarker at 0x7fd101f0bb38>,\n",
       " <folium.vector_layers.CircleMarker at 0x7fd101f0bb70>,\n",
       " <folium.vector_layers.CircleMarker at 0x7fd101f0bba8>,\n",
       " <folium.vector_layers.CircleMarker at 0x7fd101f0bbe0>,\n",
       " <folium.vector_layers.CircleMarker at 0x7fd101f0bc18>,\n",
       " <folium.vector_layers.CircleMarker at 0x7fd101f0bc50>,\n",
       " <folium.vector_layers.CircleMarker at 0x7fd101f0bc88>,\n",
       " <folium.vector_layers.CircleMarker at 0x7fd101f0bcc0>,\n",
       " <folium.vector_layers.CircleMarker at 0x7fd101f0bcf8>,\n",
       " <folium.vector_layers.CircleMarker at 0x7fd101f0bd30>,\n",
       " <folium.vector_layers.CircleMarker at 0x7fd101f0bd68>,\n",
       " <folium.vector_layers.CircleMarker at 0x7fd101f0bda0>,\n",
       " <folium.vector_layers.CircleMarker at 0x7fd101f0bdd8>,\n",
       " <folium.vector_layers.CircleMarker at 0x7fd101f0be10>,\n",
       " <folium.vector_layers.CircleMarker at 0x7fd101f0be48>,\n",
       " <folium.vector_layers.CircleMarker at 0x7fd101f0be80>,\n",
       " <folium.vector_layers.CircleMarker at 0x7fd101f0beb8>,\n",
       " <folium.vector_layers.CircleMarker at 0x7fd101f0bef0>,\n",
       " <folium.vector_layers.CircleMarker at 0x7fd101f0bf28>,\n",
       " <folium.vector_layers.CircleMarker at 0x7fd101f0bf60>,\n",
       " <folium.vector_layers.CircleMarker at 0x7fd101f0bf98>,\n",
       " <folium.vector_layers.CircleMarker at 0x7fd101f0bfd0>,\n",
       " <folium.vector_layers.CircleMarker at 0x7fd101f0b080>,\n",
       " <folium.vector_layers.CircleMarker at 0x7fd101f19080>,\n",
       " <folium.vector_layers.CircleMarker at 0x7fd101f190b8>,\n",
       " <folium.vector_layers.CircleMarker at 0x7fd101f190f0>,\n",
       " <folium.vector_layers.CircleMarker at 0x7fd101f19128>,\n",
       " <folium.vector_layers.CircleMarker at 0x7fd101f19160>,\n",
       " <folium.vector_layers.CircleMarker at 0x7fd101f19198>,\n",
       " <folium.vector_layers.CircleMarker at 0x7fd101f191d0>,\n",
       " <folium.vector_layers.CircleMarker at 0x7fd101f19208>,\n",
       " <folium.vector_layers.CircleMarker at 0x7fd101f19240>,\n",
       " <folium.vector_layers.CircleMarker at 0x7fd101f19278>,\n",
       " <folium.vector_layers.CircleMarker at 0x7fd101f192b0>,\n",
       " <folium.vector_layers.CircleMarker at 0x7fd101f192e8>,\n",
       " <folium.vector_layers.CircleMarker at 0x7fd101f19320>,\n",
       " <folium.vector_layers.CircleMarker at 0x7fd101f19358>,\n",
       " <folium.vector_layers.CircleMarker at 0x7fd101f19390>,\n",
       " <folium.vector_layers.CircleMarker at 0x7fd101f193c8>,\n",
       " <folium.vector_layers.CircleMarker at 0x7fd101f19400>,\n",
       " <folium.vector_layers.CircleMarker at 0x7fd101f19438>,\n",
       " <folium.vector_layers.CircleMarker at 0x7fd101f19470>,\n",
       " <folium.vector_layers.CircleMarker at 0x7fd101f194a8>,\n",
       " <folium.vector_layers.CircleMarker at 0x7fd101f194e0>,\n",
       " <folium.vector_layers.CircleMarker at 0x7fd101f19518>,\n",
       " <folium.vector_layers.CircleMarker at 0x7fd101f19550>,\n",
       " <folium.vector_layers.CircleMarker at 0x7fd101f19588>,\n",
       " <folium.vector_layers.CircleMarker at 0x7fd101f195c0>,\n",
       " <folium.vector_layers.CircleMarker at 0x7fd101f195f8>,\n",
       " <folium.vector_layers.CircleMarker at 0x7fd101f19630>,\n",
       " <folium.vector_layers.CircleMarker at 0x7fd101f19668>,\n",
       " <folium.vector_layers.CircleMarker at 0x7fd101f196a0>,\n",
       " <folium.vector_layers.CircleMarker at 0x7fd101f196d8>,\n",
       " <folium.vector_layers.CircleMarker at 0x7fd101f19710>,\n",
       " <folium.vector_layers.CircleMarker at 0x7fd101f19748>,\n",
       " <folium.vector_layers.CircleMarker at 0x7fd101f19780>,\n",
       " <folium.vector_layers.CircleMarker at 0x7fd101f197b8>,\n",
       " <folium.vector_layers.CircleMarker at 0x7fd101f197f0>,\n",
       " <folium.vector_layers.CircleMarker at 0x7fd101f19828>,\n",
       " <folium.vector_layers.CircleMarker at 0x7fd101f19860>,\n",
       " <folium.vector_layers.CircleMarker at 0x7fd101f19898>,\n",
       " <folium.vector_layers.CircleMarker at 0x7fd101f198d0>,\n",
       " <folium.vector_layers.CircleMarker at 0x7fd101f19908>,\n",
       " <folium.vector_layers.CircleMarker at 0x7fd101f19940>,\n",
       " <folium.vector_layers.CircleMarker at 0x7fd101f19978>,\n",
       " <folium.vector_layers.CircleMarker at 0x7fd101f199b0>,\n",
       " <folium.vector_layers.CircleMarker at 0x7fd101f199e8>,\n",
       " <folium.vector_layers.CircleMarker at 0x7fd101f19a20>,\n",
       " <folium.vector_layers.CircleMarker at 0x7fd101f19a58>,\n",
       " <folium.vector_layers.CircleMarker at 0x7fd101f19a90>,\n",
       " <folium.vector_layers.CircleMarker at 0x7fd101f19ac8>,\n",
       " <folium.vector_layers.CircleMarker at 0x7fd101f19b00>,\n",
       " <folium.vector_layers.CircleMarker at 0x7fd101f19b38>,\n",
       " <folium.vector_layers.CircleMarker at 0x7fd101f19b70>,\n",
       " <folium.vector_layers.CircleMarker at 0x7fd101f19ba8>,\n",
       " <folium.vector_layers.CircleMarker at 0x7fd101f19be0>,\n",
       " <folium.vector_layers.CircleMarker at 0x7fd101f19c18>,\n",
       " <folium.vector_layers.CircleMarker at 0x7fd101f19c50>,\n",
       " <folium.vector_layers.CircleMarker at 0x7fd101f19c88>,\n",
       " <folium.vector_layers.CircleMarker at 0x7fd101f19cc0>,\n",
       " <folium.vector_layers.CircleMarker at 0x7fd101f19cf8>,\n",
       " <folium.vector_layers.CircleMarker at 0x7fd101f19d30>,\n",
       " <folium.vector_layers.CircleMarker at 0x7fd101f19d68>,\n",
       " <folium.vector_layers.CircleMarker at 0x7fd101f19da0>,\n",
       " <folium.vector_layers.CircleMarker at 0x7fd101f19dd8>,\n",
       " <folium.vector_layers.CircleMarker at 0x7fd101f19e10>,\n",
       " <folium.vector_layers.CircleMarker at 0x7fd101f19e48>,\n",
       " <folium.vector_layers.CircleMarker at 0x7fd101f19e80>,\n",
       " <folium.vector_layers.CircleMarker at 0x7fd101f19eb8>,\n",
       " <folium.vector_layers.CircleMarker at 0x7fd101f19ef0>,\n",
       " <folium.vector_layers.CircleMarker at 0x7fd101f19f28>,\n",
       " <folium.vector_layers.CircleMarker at 0x7fd101f19f60>,\n",
       " <folium.vector_layers.CircleMarker at 0x7fd101f19f98>,\n",
       " <folium.vector_layers.CircleMarker at 0x7fd101f19fd0>,\n",
       " <folium.vector_layers.CircleMarker at 0x7fd101f19048>,\n",
       " <folium.vector_layers.CircleMarker at 0x7fd101ea6048>,\n",
       " <folium.vector_layers.CircleMarker at 0x7fd101ea60b8>,\n",
       " <folium.vector_layers.CircleMarker at 0x7fd101ea60f0>,\n",
       " <folium.vector_layers.CircleMarker at 0x7fd101ea6128>,\n",
       " <folium.vector_layers.CircleMarker at 0x7fd101ea6160>,\n",
       " <folium.vector_layers.CircleMarker at 0x7fd101ea6198>,\n",
       " <folium.vector_layers.CircleMarker at 0x7fd101ea61d0>,\n",
       " <folium.vector_layers.CircleMarker at 0x7fd101ea6208>,\n",
       " <folium.vector_layers.CircleMarker at 0x7fd101ea6240>,\n",
       " <folium.vector_layers.CircleMarker at 0x7fd101ea6278>,\n",
       " <folium.vector_layers.CircleMarker at 0x7fd101ea62b0>,\n",
       " <folium.vector_layers.CircleMarker at 0x7fd101ea62e8>,\n",
       " <folium.vector_layers.CircleMarker at 0x7fd101ea6320>,\n",
       " <folium.vector_layers.CircleMarker at 0x7fd101ea6358>,\n",
       " <folium.vector_layers.CircleMarker at 0x7fd101ea6390>,\n",
       " <folium.vector_layers.CircleMarker at 0x7fd101ea63c8>,\n",
       " <folium.vector_layers.CircleMarker at 0x7fd101ea6400>,\n",
       " <folium.vector_layers.CircleMarker at 0x7fd101ea6438>,\n",
       " <folium.vector_layers.CircleMarker at 0x7fd101ea6470>,\n",
       " <folium.vector_layers.CircleMarker at 0x7fd101ea64a8>,\n",
       " <folium.vector_layers.CircleMarker at 0x7fd101ea64e0>,\n",
       " <folium.vector_layers.CircleMarker at 0x7fd101ea6518>,\n",
       " <folium.vector_layers.CircleMarker at 0x7fd101ea6550>,\n",
       " <folium.vector_layers.CircleMarker at 0x7fd101ea6588>,\n",
       " <folium.vector_layers.CircleMarker at 0x7fd101ea65c0>,\n",
       " <folium.vector_layers.CircleMarker at 0x7fd101ea65f8>,\n",
       " <folium.vector_layers.CircleMarker at 0x7fd101ea6630>,\n",
       " <folium.vector_layers.CircleMarker at 0x7fd101ea6668>,\n",
       " <folium.vector_layers.CircleMarker at 0x7fd101ea66a0>,\n",
       " <folium.vector_layers.CircleMarker at 0x7fd101ea66d8>,\n",
       " <folium.vector_layers.CircleMarker at 0x7fd101ea6710>,\n",
       " <folium.vector_layers.CircleMarker at 0x7fd101ea6748>,\n",
       " <folium.vector_layers.CircleMarker at 0x7fd101ea6780>,\n",
       " <folium.vector_layers.CircleMarker at 0x7fd101ea67b8>,\n",
       " <folium.vector_layers.CircleMarker at 0x7fd101ea67f0>,\n",
       " <folium.vector_layers.CircleMarker at 0x7fd101ea6828>,\n",
       " <folium.vector_layers.CircleMarker at 0x7fd101ea6860>,\n",
       " <folium.vector_layers.CircleMarker at 0x7fd101ea6898>,\n",
       " <folium.vector_layers.CircleMarker at 0x7fd101ea68d0>,\n",
       " <folium.vector_layers.CircleMarker at 0x7fd101ea6908>,\n",
       " <folium.vector_layers.CircleMarker at 0x7fd101ea6940>,\n",
       " <folium.vector_layers.CircleMarker at 0x7fd101ea6978>,\n",
       " <folium.vector_layers.CircleMarker at 0x7fd101ea69b0>,\n",
       " <folium.vector_layers.CircleMarker at 0x7fd101ea69e8>,\n",
       " <folium.vector_layers.CircleMarker at 0x7fd101ea6a20>,\n",
       " <folium.vector_layers.CircleMarker at 0x7fd101ea6a58>,\n",
       " <folium.vector_layers.CircleMarker at 0x7fd101ea6a90>,\n",
       " <folium.vector_layers.CircleMarker at 0x7fd101ea6ac8>,\n",
       " <folium.vector_layers.CircleMarker at 0x7fd101ea6b00>,\n",
       " <folium.vector_layers.CircleMarker at 0x7fd101ea6b38>,\n",
       " <folium.vector_layers.CircleMarker at 0x7fd101ea6b70>,\n",
       " <folium.vector_layers.CircleMarker at 0x7fd101ea6ba8>,\n",
       " <folium.vector_layers.CircleMarker at 0x7fd101ea6be0>,\n",
       " <folium.vector_layers.CircleMarker at 0x7fd101ea6c18>,\n",
       " <folium.vector_layers.CircleMarker at 0x7fd101ea6c50>,\n",
       " <folium.vector_layers.CircleMarker at 0x7fd101ea6c88>,\n",
       " <folium.vector_layers.CircleMarker at 0x7fd101ea6cc0>,\n",
       " <folium.vector_layers.CircleMarker at 0x7fd101ea6cf8>,\n",
       " <folium.vector_layers.CircleMarker at 0x7fd101ea6d30>,\n",
       " <folium.vector_layers.CircleMarker at 0x7fd101ea6d68>,\n",
       " <folium.vector_layers.CircleMarker at 0x7fd101ea6da0>,\n",
       " <folium.vector_layers.CircleMarker at 0x7fd101ea6dd8>,\n",
       " <folium.vector_layers.CircleMarker at 0x7fd101ea6e10>,\n",
       " <folium.vector_layers.CircleMarker at 0x7fd101ea6e48>,\n",
       " <folium.vector_layers.CircleMarker at 0x7fd101ea6e80>,\n",
       " <folium.vector_layers.CircleMarker at 0x7fd101ea6eb8>,\n",
       " <folium.vector_layers.CircleMarker at 0x7fd101ea6ef0>,\n",
       " <folium.vector_layers.CircleMarker at 0x7fd101ea6f28>,\n",
       " <folium.vector_layers.CircleMarker at 0x7fd101ea6f60>,\n",
       " <folium.vector_layers.CircleMarker at 0x7fd101ea6f98>,\n",
       " <folium.vector_layers.CircleMarker at 0x7fd101ea6fd0>,\n",
       " <folium.vector_layers.CircleMarker at 0x7fd101ea6080>,\n",
       " <folium.vector_layers.CircleMarker at 0x7fd101eb4080>,\n",
       " <folium.vector_layers.CircleMarker at 0x7fd101eb40b8>,\n",
       " <folium.vector_layers.CircleMarker at 0x7fd101eb40f0>,\n",
       " <folium.vector_layers.CircleMarker at 0x7fd101eb4128>,\n",
       " <folium.vector_layers.CircleMarker at 0x7fd101eb4160>,\n",
       " <folium.vector_layers.CircleMarker at 0x7fd101eb4198>,\n",
       " <folium.vector_layers.CircleMarker at 0x7fd101eb41d0>,\n",
       " <folium.vector_layers.CircleMarker at 0x7fd101eb4208>,\n",
       " <folium.vector_layers.CircleMarker at 0x7fd101eb4240>,\n",
       " <folium.vector_layers.CircleMarker at 0x7fd101eb4278>,\n",
       " <folium.vector_layers.CircleMarker at 0x7fd101eb42b0>,\n",
       " <folium.vector_layers.CircleMarker at 0x7fd101eb42e8>,\n",
       " <folium.vector_layers.CircleMarker at 0x7fd101eb4320>,\n",
       " <folium.vector_layers.CircleMarker at 0x7fd101eb4358>,\n",
       " <folium.vector_layers.CircleMarker at 0x7fd101eb4390>,\n",
       " <folium.vector_layers.CircleMarker at 0x7fd101eb43c8>,\n",
       " <folium.vector_layers.CircleMarker at 0x7fd101eb4400>,\n",
       " <folium.vector_layers.CircleMarker at 0x7fd101eb4438>,\n",
       " <folium.vector_layers.CircleMarker at 0x7fd101eb4470>,\n",
       " <folium.vector_layers.CircleMarker at 0x7fd101eb44a8>,\n",
       " <folium.vector_layers.CircleMarker at 0x7fd101eb44e0>,\n",
       " <folium.vector_layers.CircleMarker at 0x7fd101eb4518>,\n",
       " <folium.vector_layers.CircleMarker at 0x7fd101eb4550>,\n",
       " <folium.vector_layers.CircleMarker at 0x7fd101eb4588>,\n",
       " <folium.vector_layers.CircleMarker at 0x7fd101eb45c0>,\n",
       " <folium.vector_layers.CircleMarker at 0x7fd101eb45f8>,\n",
       " <folium.vector_layers.CircleMarker at 0x7fd101eb4630>,\n",
       " <folium.vector_layers.CircleMarker at 0x7fd101eb4668>,\n",
       " <folium.vector_layers.CircleMarker at 0x7fd101eb46a0>,\n",
       " <folium.vector_layers.CircleMarker at 0x7fd101eb46d8>,\n",
       " <folium.vector_layers.CircleMarker at 0x7fd101eb4710>,\n",
       " <folium.vector_layers.CircleMarker at 0x7fd101eb4748>,\n",
       " <folium.vector_layers.CircleMarker at 0x7fd101eb4780>,\n",
       " <folium.vector_layers.CircleMarker at 0x7fd101eb47b8>,\n",
       " <folium.vector_layers.CircleMarker at 0x7fd101eb47f0>,\n",
       " <folium.vector_layers.CircleMarker at 0x7fd101eb4828>,\n",
       " <folium.vector_layers.CircleMarker at 0x7fd101eb4860>,\n",
       " <folium.vector_layers.CircleMarker at 0x7fd101eb4898>,\n",
       " <folium.vector_layers.CircleMarker at 0x7fd101eb48d0>]"
      ]
     },
     "execution_count": 55,
     "metadata": {},
     "output_type": "execute_result"
    }
   ],
   "source": [
    "trip_markers\n"
   ]
  },
  {
   "cell_type": "code",
   "execution_count": 56,
   "metadata": {},
   "outputs": [
    {
     "data": {
      "text/plain": [
       "[{'trip_distance': 18.38,\n",
       "  'pickup_latitude': 40.64499,\n",
       "  'pickup_longitude': -73.78115},\n",
       " {'trip_distance': 1.3,\n",
       "  'pickup_latitude': 40.766931,\n",
       "  'pickup_longitude': -73.982098},\n",
       " {'trip_distance': 4.5,\n",
       "  'pickup_latitude': 40.77773,\n",
       "  'pickup_longitude': -73.951902},\n",
       " {'trip_distance': 2.4,\n",
       "  'pickup_latitude': 40.795678,\n",
       "  'pickup_longitude': -73.971049}]"
      ]
     },
     "execution_count": 56,
     "metadata": {},
     "output_type": "execute_result"
    }
   ],
   "source": [
    "cleaned_trips[0:4]"
   ]
  },
  {
   "cell_type": "code",
   "execution_count": 57,
   "metadata": {},
   "outputs": [
    {
     "data": {
      "text/plain": [
       "[[40.64499, -73.78115],\n",
       " [40.766931, -73.982098],\n",
       " [40.77773, -73.951902],\n",
       " [40.795678, -73.971049]]"
      ]
     },
     "execution_count": 57,
     "metadata": {},
     "output_type": "execute_result"
    }
   ],
   "source": [
    "trip_markers and len(trip_markers) # 1000\n",
    "\n",
    "list(map(lambda marker: marker.location, trip_markers[0:4]))\n",
    "# [[40.64499, -73.78115],\n",
    "#  [40.766931, -73.982098],\n",
    "#  [40.77773, -73.951902],\n",
    "#  [40.795678, -73.971049]]"
   ]
  },
  {
   "cell_type": "markdown",
   "metadata": {},
   "source": [
    "Ok, now that we have a function that creates locations, and a function that creates markers, it is time to write a function to plot a map. \n",
    "\n",
    "Write a function called `map_from` that, provided the first argument of a list location and second argument an integer representing the `zoom_start`, returns a `folium` map the corresponding location and `zoom_start` attributes.\n",
    "\n",
    "> Hint: The following is how to write a map with folium:\n",
    "> ```python \n",
    "    folium.Map(location=location, zoom_start=zoom_amount)\n",
    "> ```"
   ]
  },
  {
   "cell_type": "code",
   "execution_count": 58,
   "metadata": {},
   "outputs": [],
   "source": [
    "def map_from(location, zoom_amount):\n",
    "    return folium.Map(location=location, zoom_start=zoom_amount)"
   ]
  },
  {
   "cell_type": "code",
   "execution_count": 44,
   "metadata": {},
   "outputs": [
    {
     "ename": "AttributeError",
     "evalue": "'Map' object has no attribute 'zoom_start'",
     "output_type": "error",
     "traceback": [
      "\u001b[0;31m\u001b[0m",
      "\u001b[0;31mAttributeError\u001b[0mTraceback (most recent call last)",
      "\u001b[0;32m<ipython-input-44-9505087fb7df>\u001b[0m in \u001b[0;36m<module>\u001b[0;34m\u001b[0m\n\u001b[1;32m      1\u001b[0m \u001b[0mtimes_square_map\u001b[0m \u001b[0;34m=\u001b[0m \u001b[0mmap_from\u001b[0m\u001b[0;34m(\u001b[0m\u001b[0;34m[\u001b[0m\u001b[0;36m40.7589\u001b[0m\u001b[0;34m,\u001b[0m \u001b[0;34m-\u001b[0m\u001b[0;36m73.9851\u001b[0m\u001b[0;34m]\u001b[0m\u001b[0;34m,\u001b[0m \u001b[0;36m15\u001b[0m\u001b[0;34m)\u001b[0m\u001b[0;34m\u001b[0m\u001b[0;34m\u001b[0m\u001b[0m\n\u001b[1;32m      2\u001b[0m \u001b[0mtimes_square_map\u001b[0m \u001b[0;32mand\u001b[0m \u001b[0mtimes_square_map\u001b[0m\u001b[0;34m.\u001b[0m\u001b[0mlocation\u001b[0m \u001b[0;31m# [40.7589, -73.9851]\u001b[0m\u001b[0;34m\u001b[0m\u001b[0;34m\u001b[0m\u001b[0m\n\u001b[0;32m----> 3\u001b[0;31m \u001b[0mtimes_square_map\u001b[0m \u001b[0;32mand\u001b[0m \u001b[0mtimes_square_map\u001b[0m\u001b[0;34m.\u001b[0m\u001b[0mzoom_start\u001b[0m \u001b[0;31m# 15\u001b[0m\u001b[0;34m\u001b[0m\u001b[0;34m\u001b[0m\u001b[0m\n\u001b[0m",
      "\u001b[0;31mAttributeError\u001b[0m: 'Map' object has no attribute 'zoom_start'"
     ]
    }
   ],
   "source": [
    "times_square_map = map_from([40.7589, -73.9851], 15)\n",
    "times_square_map and times_square_map.location # [40.7589, -73.9851]\n",
    "times_square_map and times_square_map.zoom_start # 15"
   ]
  },
  {
   "cell_type": "code",
   "execution_count": null,
   "metadata": {
    "scrolled": true
   },
   "outputs": [],
   "source": [
    "times_square_marker and times_square_marker.add_to(times_square_map)\n",
    "times_square_map"
   ]
  },
  {
   "cell_type": "markdown",
   "metadata": {},
   "source": [
    "Now that we have a marker and a map, now let's write a function that adds a lot of markers to a map.  This function should add each marker in the list to the map object then return the updated map object."
   ]
  },
  {
   "cell_type": "code",
   "execution_count": null,
   "metadata": {},
   "outputs": [],
   "source": [
    "manhattan_map = map_from([40.7589, -73.9851], 13)"
   ]
  },
  {
   "cell_type": "code",
   "execution_count": null,
   "metadata": {},
   "outputs": [],
   "source": [
    "def add_markers(markers, map_obj):\n",
    "    pass"
   ]
  },
  {
   "cell_type": "code",
   "execution_count": null,
   "metadata": {
    "scrolled": false
   },
   "outputs": [],
   "source": [
    "map_with_markers = add_markers(trip_markers, manhattan_map)"
   ]
  },
  {
   "cell_type": "code",
   "execution_count": null,
   "metadata": {},
   "outputs": [],
   "source": [
    "map_with_markers"
   ]
  },
  {
   "cell_type": "markdown",
   "metadata": {},
   "source": [
    "### Using Nearest Neighbors"
   ]
  },
  {
   "cell_type": "markdown",
   "metadata": {},
   "source": [
    "Ok, let's write a function that given a latitude and longitude will predict the distance for us.  We'll do this by first finding the nearest trips given a latitude and longitude. "
   ]
  },
  {
   "cell_type": "markdown",
   "metadata": {},
   "source": [
    "Here we once again apply the nearest neighbors formula. As a first step, write a function named `distance_location` that calculates the distance in pickup location between two trips."
   ]
  },
  {
   "cell_type": "code",
   "execution_count": null,
   "metadata": {},
   "outputs": [],
   "source": [
    "import math\n",
    "\n",
    "def distance_location(selected_trip, neighbor_trip):\n",
    "    pass"
   ]
  },
  {
   "cell_type": "code",
   "execution_count": null,
   "metadata": {},
   "outputs": [],
   "source": [
    "first_trip = {'pickup_latitude': 40.64499, 'pickup_longitude': -73.78115, 'trip_distance': 18.38}\n",
    "second_trip = {'pickup_latitude': 40.766931, 'pickup_longitude': -73.982098, 'trip_distance': 1.3}\n",
    "distance_first_and_second = distance_location(first_trip, second_trip)\n",
    "\n",
    "distance_first_and_second and round(distance_first_and_second, 3) # 0.235"
   ]
  },
  {
   "cell_type": "markdown",
   "metadata": {},
   "source": [
    "Ok, next write a function called `distance_between_neighbors` that adds a new key-value pair, called `distance_from_selected`, that calculates the distance of the `neighbor_trip` from the `selected_trip`."
   ]
  },
  {
   "cell_type": "code",
   "execution_count": null,
   "metadata": {},
   "outputs": [],
   "source": [
    "def distance_between_neighbors(selected_trip, neighbor_trip):\n",
    "    pass"
   ]
  },
  {
   "cell_type": "code",
   "execution_count": null,
   "metadata": {},
   "outputs": [],
   "source": [
    "distance_between_neighbors(first_trip, second_trip)\n",
    "\n",
    "# {'distance_from_selected': 0.23505256047318146,\n",
    "#  'pickup_latitude': 40.766931,\n",
    "#  'pickup_longitude': -73.982098,\n",
    "#  'trip_distance': 1.3}"
   ]
  },
  {
   "cell_type": "markdown",
   "metadata": {},
   "source": [
    "Ok, now our `neighbor_trip` has another attribute called `distance_from_selected`, that indicates the distance from the `neighbor_trip`'s pickup location from the `selected_trip`."
   ]
  },
  {
   "cell_type": "markdown",
   "metadata": {},
   "source": [
    "> ** Understand the data:** Our dictionary now has a few attributes, two of which say distance.  Let's make sure we understand the difference. \n",
    "> * **`distance_from_selected`:** This is our calculation of the distance of the neighbor's pickup location from the selected trip.\n",
    "> * **`trip_distance`:** This is the attribute we were provided initially.  It tells us the length of the neighbor's taxi trip from pickup to drop-off.  "
   ]
  },
  {
   "cell_type": "markdown",
   "metadata": {},
   "source": [
    "Next, write a function called `distance_all` that provided a list of neighbors, returns each of those neighbors with their respective `distance_from_selected` numbers."
   ]
  },
  {
   "cell_type": "code",
   "execution_count": null,
   "metadata": {},
   "outputs": [],
   "source": [
    "def distance_all(selected_individual, neighbors):\n",
    "    pass"
   ]
  },
  {
   "cell_type": "code",
   "execution_count": null,
   "metadata": {},
   "outputs": [],
   "source": [
    "cleaned_trips and distance_all(first_trip, cleaned_trips[0:4])"
   ]
  },
  {
   "cell_type": "markdown",
   "metadata": {},
   "source": [
    "Now write the nearest neighbors formula to calculate the distance of the `selected_trip` from all of the `cleaned_trips` in our dataset.  If no number is provided, it should return the top 3 neighbors."
   ]
  },
  {
   "cell_type": "code",
   "execution_count": null,
   "metadata": {},
   "outputs": [],
   "source": [
    "def nearest_neighbors(selected_trip, trips, number = 3):\n",
    "    pass"
   ]
  },
  {
   "cell_type": "code",
   "execution_count": null,
   "metadata": {},
   "outputs": [],
   "source": [
    "new_trip = {'pickup_latitude': 40.64499,\n",
    "'pickup_longitude': -73.78115,\n",
    "'trip_distance': 18.38}\n",
    "\n",
    "nearest_three_neighbors = nearest_neighbors(new_trip, cleaned_trips or [], number = 3)\n",
    "nearest_three_neighbors\n",
    "# [{'distance_from_selected': 0.0004569288784918792,\n",
    "#   'pickup_latitude': 40.64483,\n",
    "#   'pickup_longitude': -73.781578,\n",
    "#   'trip_distance': 7.78},\n",
    "#  {'distance_from_selected': 0.0011292165425673159,\n",
    "#   'pickup_latitude': 40.644657,\n",
    "#   'pickup_longitude': -73.782229,\n",
    "#   'trip_distance': 12.7},\n",
    "#  {'distance_from_selected': 0.0042359798158141185,\n",
    "#   'pickup_latitude': 40.648509,\n",
    "#   'pickup_longitude': -73.783508,\n",
    "#   'trip_distance': 17.3}]"
   ]
  },
  {
   "cell_type": "markdown",
   "metadata": {},
   "source": [
    "Ok great! Now that we can provide a new trip location, and find the distances of the three nearest trips, we can take  calculate an estimate of the trip distance for that new trip location.  \n",
    "\n",
    "We do so simply by calculating the average of it's nearest neighbors."
   ]
  },
  {
   "cell_type": "code",
   "execution_count": null,
   "metadata": {},
   "outputs": [],
   "source": [
    "import statistics\n",
    "def mean_distance(neighbors):\n",
    "    nearest_distances = list(map(lambda neighbor: neighbor['trip_distance'], neighbors))\n",
    "    return round(statistics.mean(nearest_distances), 3)\n",
    "\n",
    "nearest_three_neighbors = nearest_neighbors(new_trip, cleaned_trips or [], number = 3)\n",
    "distance_estimate_of_selected_trip = mean_distance(nearest_three_neighbors) # 12.593\n",
    "distance_estimate_of_selected_trip"
   ]
  },
  {
   "cell_type": "markdown",
   "metadata": {},
   "source": [
    "### Choosing the correct number of neighbors"
   ]
  },
  {
   "cell_type": "markdown",
   "metadata": {},
   "source": [
    "Now, as we know from the last lesson, one tricky element is to determine how many neighbors to choose, our $k$ value,  before calculating the average.  We want to choose our value of $k$ such that it properly matches actual data, and so that it applies to new data.  There are fancy formulas to ensure that we **train** our algorithm so that our formula is optimized for all data, but here let's see different $k$ values manually.  This is the gist of choosing our $k$ value:\n",
    "\n",
    "* If we choose a $k$ value too low, our formula will be too heavily influenced by a single neighbor, whereas if our $k$ value is too high, we will be choosing so many neighbors that our nearest neighbors formula will not be adjust enough according to locations.\n",
    "\n",
    "Ok, let's experiment with this."
   ]
  },
  {
   "cell_type": "markdown",
   "metadata": {},
   "source": [
    "First, let's choose a midtown location, to see what the trip distance would be.  A Google search reveals the coordinates of 51st and 7th avenue to be the following."
   ]
  },
  {
   "cell_type": "code",
   "execution_count": null,
   "metadata": {},
   "outputs": [],
   "source": [
    "midtown_trip = dict(pickup_latitude=40.761710, pickup_longitude=-73.982760)"
   ]
  },
  {
   "cell_type": "code",
   "execution_count": null,
   "metadata": {},
   "outputs": [],
   "source": [
    "seven_closest = nearest_neighbors(midtown_trip, cleaned_trips, number = 7)\n",
    "seven_closest\n",
    "# [{'trip_distance': 0.58,\n",
    "#   'pickup_latitude': 40.761372,\n",
    "#   'pickup_longitude': -73.982602,\n",
    "#   'distance_from_selected': 0.00037310588309379025},\n",
    "#  {'trip_distance': 0.8,\n",
    "#   'pickup_latitude': 40.762444,\n",
    "#   'pickup_longitude': -73.98244,\n",
    "#   'distance_from_selected': 0.00080072217404248},\n",
    "#  {'trip_distance': 1.4,\n",
    "#   'pickup_latitude': 40.762767,\n",
    "#   'pickup_longitude': -73.982293,\n",
    "#   'distance_from_selected': 0.0011555682584735844},\n",
    "#  {'trip_distance': 8.3,\n",
    "#   'pickup_latitude': 40.762868,\n",
    "#   'pickup_longitude': -73.983233,\n",
    "#   'distance_from_selected': 0.0012508768924205918},\n",
    "#  {'trip_distance': 1.26,\n",
    "#   'pickup_latitude': 40.760057,\n",
    "#   'pickup_longitude': -73.983502,\n",
    "#   'distance_from_selected': 0.0018118976240381972},\n",
    "#  {'trip_distance': 0.0,\n",
    "#   'pickup_latitude': 40.760644,\n",
    "#   'pickup_longitude': -73.984531,\n",
    "#   'distance_from_selected': 0.002067074502774709},\n",
    "#  {'trip_distance': 1.72,\n",
    "#   'pickup_latitude': 40.762107,\n",
    "#   'pickup_longitude': -73.98479,\n",
    "#   'distance_from_selected': 0.0020684557041472677}]"
   ]
  },
  {
   "cell_type": "markdown",
   "metadata": {},
   "source": [
    "Looking at the `distance_from_selected` it appears that our our trips are still fairly close to our selected trip.  Notice that most of the data is within a distance of .002 away, so going to the top 7 nearest neighbors didn't seem to give us neighbors too far from each other, which is a good sign.\n",
    "\n",
    "Still, it's hard to know what distance in latitude and longitude really look like, so let's map the data. "
   ]
  },
  {
   "cell_type": "code",
   "execution_count": null,
   "metadata": {},
   "outputs": [],
   "source": [
    "midtown_location = location(midtown_trip) # [40.76171, -73.98276]\n",
    "midtown_map = map_from(midtown_location, 16)\n",
    "closest_markers = markers_from_trips(seven_closest)\n",
    "\n",
    "add_markers(closest_markers, midtown_map)"
   ]
  },
  {
   "cell_type": "markdown",
   "metadata": {},
   "source": [
    "Ok.  These locations stay fairly close to our estimated location of 51st street and 7th Avenue.  So they could be a good estimate of a trip distance."
   ]
  },
  {
   "cell_type": "code",
   "execution_count": null,
   "metadata": {},
   "outputs": [],
   "source": [
    "mean_distance(seven_closest) # 2.009"
   ]
  },
  {
   "cell_type": "markdown",
   "metadata": {},
   "source": [
    "Ok, now let's try a different location"
   ]
  },
  {
   "cell_type": "code",
   "execution_count": null,
   "metadata": {},
   "outputs": [],
   "source": [
    "charging_bull_closest = nearest_neighbors({'pickup_latitude': 40.7049, 'pickup_longitude': -74.0137}, cleaned_trips, number = 12)"
   ]
  },
  {
   "cell_type": "code",
   "execution_count": null,
   "metadata": {
    "scrolled": true
   },
   "outputs": [],
   "source": [
    "mean_distance(charging_bull_closest) # 3.145"
   ]
  },
  {
   "cell_type": "markdown",
   "metadata": {},
   "source": [
    "Ok, so there appears to be a significant difference between choosing a location near Times Square versus choosing a location at Wall Street."
   ]
  },
  {
   "cell_type": "markdown",
   "metadata": {},
   "source": [
    "### Summary"
   ]
  },
  {
   "cell_type": "markdown",
   "metadata": {},
   "source": [
    "In this lab, we used the nearest neighbors function to predict the length of a taxi ride.  To do so, we selected a location, then found a number of taxi rides closest to that location, and finally took the average trip lengths of the nearest taxi rides to find an estimate of the new ride's trip length.  You can see that even with just a little bit of math and programming we can begin to make meaningful predictions with data."
   ]
  }
 ],
 "metadata": {
  "kernelspec": {
   "display_name": "Python 3",
   "language": "python",
   "name": "python3"
  },
  "language_info": {
   "codemirror_mode": {
    "name": "ipython",
    "version": 3
   },
   "file_extension": ".py",
   "mimetype": "text/x-python",
   "name": "python",
   "nbconvert_exporter": "python",
   "pygments_lexer": "ipython3",
   "version": "3.6.9"
  }
 },
 "nbformat": 4,
 "nbformat_minor": 2
}
