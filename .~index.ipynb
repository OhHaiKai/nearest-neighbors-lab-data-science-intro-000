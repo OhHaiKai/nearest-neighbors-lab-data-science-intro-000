{
 "cells": [
  {
   "cell_type": "markdown",
   "metadata": {},
   "source": [
    "# Nearest Neighbors Lab"
   ]
  },
  {
   "cell_type": "markdown",
   "metadata": {},
   "source": [
    "### Introduction\n",
    "\n",
    "In this lab, you apply nearest neighbors technique to help a taxi company predict the length of their rides.  Imagine that we are hired to consult for LiftOff, a limo and taxi service that is just opening up in NYC.  Liftoff wants it's taxi drivers to target longer rides, as the longer the ride the more money it makes.  LiftOff has the following theory:\n",
    "\n",
    "* the pickup location of a taxi ride can help predict the length of the ride.  \n",
    "\n",
    "\n",
    "\n",
    "LiftOff asks us to do some analysis to write a function that will allow it to **predict the length of a taxi ride for any given location **.\n",
    "\n",
    "Our technique will be the following:\n",
    "  * **Collect** Obtain the data containing all of the taxi information, and only select the attributes of taxi trips that we need \n",
    "  * ** Explore ** Examine the attributes of our data, and plot some of our data on a map\n",
    "  * ** Train ** Write our nearest neighbors formula, and change the number of nearby trips to predict the length of a new trip\n",
    "  * ** Predict ** Use our function to predict trip lengths of new locations"
   ]
  },
  {
   "cell_type": "markdown",
   "metadata": {},
   "source": [
    "### Collect and Explore the data"
   ]
  },
  {
   "cell_type": "markdown",
   "metadata": {},
   "source": [
    "#### Collect the Data"
   ]
  },
  {
   "cell_type": "markdown",
   "metadata": {},
   "source": [
    "Luckily for us, [NYC Open Data](https://opendata.cityofnewyork.us/) collects information about NYC taxi trips and provides this data on [its website](https://data.cityofnewyork.us/Transportation/2014-Yellow-Taxi-Trip-Data/gn7m-em8n)."
   ]
  },
  {
   "cell_type": "markdown",
   "metadata": {},
   "source": [
    "![](./nyc-taxi.png)"
   ]
  },
  {
   "cell_type": "markdown",
   "metadata": {},
   "source": [
    "For your reading pleasure, the data has already been downloaded into the [trips.json](https://github.com/learn-co-curriculum/nearest-neighbors-lab/blob/master/trips.json) file in this lab which you can find here.  We'll use Python's `json` library to take the data from the `trips.json` file and store it as a variable in our notebook."
   ]
  },
  {
   "cell_type": "code",
   "execution_count": 1,
   "metadata": {},
   "outputs": [],
   "source": [
    "import json\n",
    "# First, read the file\n",
    "trips_file = open('trips.json')\n",
    "# Then, convert contents to list of dictionaries \n",
    "trips = json.load(trips_file)"
   ]
  },
  {
   "cell_type": "markdown",
   "metadata": {},
   "source": [
    "> Press shift + enter"
   ]
  },
  {
   "cell_type": "markdown",
   "metadata": {},
   "source": [
    "#### Explore the data"
   ]
  },
  {
   "cell_type": "markdown",
   "metadata": {},
   "source": [
    "The next step is to explore the data.  First, let's see how many trips we have."
   ]
  },
  {
   "cell_type": "code",
   "execution_count": 2,
   "metadata": {},
   "outputs": [
    {
     "data": {
      "text/plain": [
       "1000"
      ]
     },
     "execution_count": 2,
     "metadata": {},
     "output_type": "execute_result"
    }
   ],
   "source": [
    "len(trips)"
   ]
  },
  {
   "cell_type": "markdown",
   "metadata": {},
   "source": [
    "Not bad at all.  Now let's see what each individual trip looks like.  Each trip is a dictionary, so we can see the attributes of each trip with the `keys` function."
   ]
  },
  {
   "cell_type": "code",
   "execution_count": 3,
   "metadata": {
    "scrolled": true
   },
   "outputs": [
    {
     "data": {
      "text/plain": [
       "dict_keys(['dropoff_datetime', 'dropoff_latitude', 'dropoff_longitude', 'fare_amount', 'imp_surcharge', 'mta_tax', 'passenger_count', 'payment_type', 'pickup_datetime', 'pickup_latitude', 'pickup_longitude', 'rate_code', 'tip_amount', 'tolls_amount', 'total_amount', 'trip_distance', 'vendor_id'])"
      ]
     },
     "execution_count": 3,
     "metadata": {},
     "output_type": "execute_result"
    }
   ],
   "source": [
    "trips[0].keys()"
   ]
  },
  {
   "cell_type": "markdown",
   "metadata": {},
   "source": [
    "#### Limit our data"
   ]
  },
  {
   "cell_type": "markdown",
   "metadata": {},
   "source": [
    "Ok, now that we have explored some of our data, let's begin to think through what data is relevant for our task."
   ]
  },
  {
   "cell_type": "markdown",
   "metadata": {
    "collapsed": true
   },
   "source": [
    "Remember that our task is to **use the trip location to predict the length of a trip**.  So let's select the `pickup_latitude`, `pickup_longitude`, and `trip_distance` from each trip.  That will give us the trip location and related `trip_distance` for each trip.  Then based on these **actual** trip distances we can use nearest neighbors to predict an **expected** trip distance for a trip, provided an **actual** location."
   ]
  },
  {
   "cell_type": "markdown",
   "metadata": {},
   "source": [
    "** Add in about trip distance ** "
   ]
  },
  {
   "cell_type": "markdown",
   "metadata": {},
   "source": [
    "Write a function called `parse_trips(trips)` that returns a list of the trips with only the following attributes: \n",
    "* `trip_distance`\n",
    "* `pickup_latitude`\n",
    "* `pickup_longitude`"
   ]
  },
  {
   "cell_type": "code",
   "execution_count": 4,
   "metadata": {},
   "outputs": [],
   "source": [
    "def parse_trips(trips):\n",
    "    return list(map(lambda trip: {'trip_distance': trip['trip_distance'], 'pickup_latitude': trip['pickup_latitude'], 'pickup_longitude': trip['pickup_longitude']},trips))"
   ]
  },
  {
   "cell_type": "code",
   "execution_count": 5,
   "metadata": {},
   "outputs": [
    {
     "data": {
      "text/plain": [
       "{'trip_distance': '18.379999999999999',\n",
       " 'pickup_latitude': '40.64499',\n",
       " 'pickup_longitude': '-73.781149999999997'}"
      ]
     },
     "execution_count": 5,
     "metadata": {},
     "output_type": "execute_result"
    }
   ],
   "source": [
    "parsed_trips = parse_trips(trips)\n",
    "parsed_trips and parsed_trips[0]\n",
    "\n",
    "# {'pickup_latitude': '40.64499',\n",
    "#  'pickup_longitude': '-73.78115',\n",
    "#  'trip_distance': '18.38'}"
   ]
  },
  {
   "cell_type": "markdown",
   "metadata": {},
   "source": [
    "Now, there's just one change to make.  If you look at one of the trips, all of the values are strings.  Let's change them to be floats."
   ]
  },
  {
   "cell_type": "code",
   "execution_count": 6,
   "metadata": {},
   "outputs": [],
   "source": [
    "def float_values(trips):    \n",
    "    return trips and list(map(lambda trip: {'trip_distance': float(trip['trip_distance']), 'pickup_latitude': float(trip['pickup_latitude']), 'pickup_longitude': float(trip['pickup_longitude'])},trips))"
   ]
  },
  {
   "cell_type": "code",
   "execution_count": 7,
   "metadata": {},
   "outputs": [],
   "source": [
    "cleaned_trips = float_values(parsed_trips)"
   ]
  },
  {
   "cell_type": "code",
   "execution_count": 8,
   "metadata": {},
   "outputs": [
    {
     "data": {
      "text/plain": [
       "{'trip_distance': 18.38,\n",
       " 'pickup_latitude': 40.64499,\n",
       " 'pickup_longitude': -73.78115}"
      ]
     },
     "execution_count": 8,
     "metadata": {},
     "output_type": "execute_result"
    }
   ],
   "source": [
    "cleaned_trips[0]\n",
    "\n",
    "# {'pickup_latitude': 40.64499,\n",
    "#  'pickup_longitude': -73.78115,\n",
    "#  'trip_distance': 18.38}"
   ]
  },
  {
   "cell_type": "markdown",
   "metadata": {},
   "source": [
    "### Exploring the Data"
   ]
  },
  {
   "cell_type": "markdown",
   "metadata": {},
   "source": [
    "Now that we have paired down our data, let's get a sense of our trip data.  We can use the `folium` Python library to plot a map of Manhattan, and our data.  First we must import `folium`, and then use the `Map` function to pass through a `location`, and `zoom_start`.  If a map isn't showing up below, copy and paste the command `pip install -r requirements.txt` into your terminal to install `folium` then try again."
   ]
  },
  {
   "cell_type": "code",
   "execution_count": 9,
   "metadata": {},
   "outputs": [],
   "source": [
    "import folium\n",
    "manhattan_map = folium.Map(location=[40.7589, -73.9851], zoom_start=11)"
   ]
  },
  {
   "cell_type": "code",
   "execution_count": 10,
   "metadata": {
    "scrolled": true
   },
   "outputs": [
    {
     "data": {
      "text/html": [
       "<div style=\"width:100%;\"><div style=\"position:relative;width:100%;height:0;padding-bottom:60%;\"><iframe src=\"data:text/html;charset=utf-8;base64,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\" style=\"position:absolute;width:100%;height:100%;left:0;top:0;border:none !important;\" allowfullscreen webkitallowfullscreen mozallowfullscreen></iframe></div></div>"
      ],
      "text/plain": [
       "<folium.folium.Map at 0x7fd12f2ab470>"
      ]
     },
     "execution_count": 10,
     "metadata": {},
     "output_type": "execute_result"
    }
   ],
   "source": [
    "manhattan_map"
   ]
  },
  {
   "cell_type": "markdown",
   "metadata": {},
   "source": [
    "Ok, now let's see how we could add a dot to mark a specific location.  We'll start with Times Square."
   ]
  },
  {
   "cell_type": "code",
   "execution_count": 11,
   "metadata": {},
   "outputs": [
    {
     "data": {
      "text/plain": [
       "<folium.vector_layers.CircleMarker at 0x7fd102727fd0>"
      ]
     },
     "execution_count": 11,
     "metadata": {},
     "output_type": "execute_result"
    }
   ],
   "source": [
    "marker = folium.CircleMarker(location = [40.7589, -73.9851], radius=10)\n",
    "marker.add_to(manhattan_map)"
   ]
  },
  {
   "cell_type": "markdown",
   "metadata": {},
   "source": [
    "Above, we first create a marker.  Then we add that circle marker to the `manhattan_map` we created earlier. "
   ]
  },
  {
   "cell_type": "code",
   "execution_count": 12,
   "metadata": {
    "scrolled": false
   },
   "outputs": [
    {
     "data": {
      "text/html": [
       "<div style=\"width:100%;\"><div style=\"position:relative;width:100%;height:0;padding-bottom:60%;\"><iframe src=\"data:text/html;charset=utf-8;base64,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\" style=\"position:absolute;width:100%;height:100%;left:0;top:0;border:none !important;\" allowfullscreen webkitallowfullscreen mozallowfullscreen></iframe></div></div>"
      ],
      "text/plain": [
       "<folium.folium.Map at 0x7fd12f2ab470>"
      ]
     },
     "execution_count": 12,
     "metadata": {},
     "output_type": "execute_result"
    }
   ],
   "source": [
    "manhattan_map"
   ]
  },
  {
   "cell_type": "markdown",
   "metadata": {},
   "source": [
    "Do you see that blue dot near Time's Square?  That is our marker.  \n",
    "\n",
    "So now that we can plot one marker on a map, we should have a sense of how we can plot many markers on a map to display our taxi ride data.  We simply plot a map, and then we add a marker for each location of a taxi trip.\n",
    "\n",
    "Now let's write some functions to allow us to plot maps and add markers a little more easily.  "
   ]
  },
  {
   "cell_type": "markdown",
   "metadata": {},
   "source": [
    "#### Writing some map plotting functions"
   ]
  },
  {
   "cell_type": "markdown",
   "metadata": {},
   "source": [
    "As a first step towards this, note that the functions to create both a marker and map each take in a location as two element list, representing the latitude and longitude values.  Take another look:\n",
    "\n",
    "```python\n",
    "marker = folium.CircleMarker(location = [40.7589, -73.9851])\n",
    "manhattan_map = folium.Map(location=[40.7589, -73.9851])\n",
    "```\n",
    "\n",
    "So let's write a function called to create this two element list from a trip.  Write a function called `location` that  takes in a trip as an argument and returns a list where the first element is the latitude and the second is the longitude.  Remember that a location looks like the following:"
   ]
  },
  {
   "cell_type": "code",
   "execution_count": 13,
   "metadata": {},
   "outputs": [
    {
     "data": {
      "text/plain": [
       "{'pickup_latitude': 40.64499,\n",
       " 'pickup_longitude': -73.78115,\n",
       " 'trip_distance': 18.38}"
      ]
     },
     "execution_count": 13,
     "metadata": {},
     "output_type": "execute_result"
    }
   ],
   "source": [
    "first_trip = {'pickup_latitude': 40.64499, 'pickup_longitude': -73.78115,  'trip_distance': 18.38}\n",
    "first_trip"
   ]
  },
  {
   "cell_type": "code",
   "execution_count": 14,
   "metadata": {},
   "outputs": [],
   "source": [
    "def location(trip):\n",
    "    return [trip['pickup_latitude'], trip['pickup_longitude']]"
   ]
  },
  {
   "cell_type": "code",
   "execution_count": 27,
   "metadata": {},
   "outputs": [
    {
     "data": {
      "text/plain": [
       "[40.64499, -73.78115]"
      ]
     },
     "execution_count": 27,
     "metadata": {},
     "output_type": "execute_result"
    }
   ],
   "source": [
    "first_location = location(first_trip) # [40.64499, -73.78115]\n",
    "first_location # [40.64499, -73.78115]"
   ]
  },
  {
   "cell_type": "markdown",
   "metadata": {},
   "source": [
    "Ok, now that we can turn a trip into a location, let's turn a location into a marker.  Write a function called `to_marker` that takes in a location (in the form of a list) as an argument, and returns a folium `circleMarker` for that location.  The radius of the marker should always equal 6."
   ]
  },
  {
   "cell_type": "code",
   "execution_count": 28,
   "metadata": {},
   "outputs": [],
   "source": [
    "def to_marker(location):\n",
    "    return folium.CircleMarker(location, radius = 6)"
   ]
  },
  {
   "cell_type": "code",
   "execution_count": 30,
   "metadata": {},
   "outputs": [
    {
     "data": {
      "text/plain": [
       "6"
      ]
     },
     "execution_count": 30,
     "metadata": {},
     "output_type": "execute_result"
    }
   ],
   "source": [
    "import json\n",
    "times_square_marker = to_marker([40.7589, -73.9851])\n",
    "\n",
    "times_square_marker and times_square_marker.location # [40.7589, -73.9851]\n",
    "times_square_marker and json.loads(str(times_square_marker.options['radius'])) # 6"
   ]
  },
  {
   "cell_type": "markdown",
   "metadata": {},
   "source": [
    "Ok, now that we know how to produce a single marker, let's write a function to produce lots.  We can write a function called `markers_from_trips` that takes in a list of trips, and returns a marker object for each trip.  "
   ]
  },
  {
   "cell_type": "code",
   "execution_count": 31,
   "metadata": {},
   "outputs": [],
   "source": [
    "def markers_from_trips(trips):\n",
    "    return list(map(lambda trip: to_marker(location(trip)), trips))"
   ]
  },
  {
   "cell_type": "code",
   "execution_count": 32,
   "metadata": {},
   "outputs": [],
   "source": [
    "trip_markers = markers_from_trips(cleaned_trips)"
   ]
  },
  {
   "cell_type": "code",
   "execution_count": 35,
   "metadata": {},
   "outputs": [
    {
     "data": {
      "text/plain": [
       "[<folium.vector_layers.CircleMarker at 0x7fd102721fd0>,\n",
       " <folium.vector_layers.CircleMarker at 0x7fd102721ef0>,\n",
       " <folium.vector_layers.CircleMarker at 0x7fd10265b048>,\n",
       " <folium.vector_layers.CircleMarker at 0x7fd10265b128>,\n",
       " <folium.vector_layers.CircleMarker at 0x7fd10265b0b8>,\n",
       " <folium.vector_layers.CircleMarker at 0x7fd10265b160>,\n",
       " <folium.vector_layers.CircleMarker at 0x7fd10265b1d0>,\n",
       " <folium.vector_layers.CircleMarker at 0x7fd10265b518>,\n",
       " <folium.vector_layers.CircleMarker at 0x7fd10265b358>,\n",
       " <folium.vector_layers.CircleMarker at 0x7fd10265b278>,\n",
       " <folium.vector_layers.CircleMarker at 0x7fd10265b240>,\n",
       " <folium.vector_layers.CircleMarker at 0x7fd10265b198>,\n",
       " <folium.vector_layers.CircleMarker at 0x7fd10265b3c8>,\n",
       " <folium.vector_layers.CircleMarker at 0x7fd10265b2b0>,\n",
       " <folium.vector_layers.CircleMarker at 0x7fd10265b438>,\n",
       " <folium.vector_layers.CircleMarker at 0x7fd10265b4e0>,\n",
       " <folium.vector_layers.CircleMarker at 0x7fd10265b4a8>,\n",
       " <folium.vector_layers.CircleMarker at 0x7fd10265b400>,\n",
       " <folium.vector_layers.CircleMarker at 0x7fd10265b550>,\n",
       " <folium.vector_layers.CircleMarker at 0x7fd10265b588>,\n",
       " <folium.vector_layers.CircleMarker at 0x7fd10265b5c0>,\n",
       " <folium.vector_layers.CircleMarker at 0x7fd10265b5f8>,\n",
       " <folium.vector_layers.CircleMarker at 0x7fd10265b630>,\n",
       " <folium.vector_layers.CircleMarker at 0x7fd10265b668>,\n",
       " <folium.vector_layers.CircleMarker at 0x7fd10265b6a0>,\n",
       " <folium.vector_layers.CircleMarker at 0x7fd10265b6d8>,\n",
       " <folium.vector_layers.CircleMarker at 0x7fd10265b710>,\n",
       " <folium.vector_layers.CircleMarker at 0x7fd10265b748>,\n",
       " <folium.vector_layers.CircleMarker at 0x7fd10265b780>,\n",
       " <folium.vector_layers.CircleMarker at 0x7fd10265b7b8>,\n",
       " <folium.vector_layers.CircleMarker at 0x7fd10265b7f0>,\n",
       " <folium.vector_layers.CircleMarker at 0x7fd10265b828>,\n",
       " <folium.vector_layers.CircleMarker at 0x7fd10265b860>,\n",
       " <folium.vector_layers.CircleMarker at 0x7fd10265b898>,\n",
       " <folium.vector_layers.CircleMarker at 0x7fd10265b8d0>,\n",
       " <folium.vector_layers.CircleMarker at 0x7fd10265b908>,\n",
       " <folium.vector_layers.CircleMarker at 0x7fd10265b940>,\n",
       " <folium.vector_layers.CircleMarker at 0x7fd10265b978>,\n",
       " <folium.vector_layers.CircleMarker at 0x7fd10265b9b0>,\n",
       " <folium.vector_layers.CircleMarker at 0x7fd10265b9e8>,\n",
       " <folium.vector_layers.CircleMarker at 0x7fd10265ba20>,\n",
       " <folium.vector_layers.CircleMarker at 0x7fd10265ba58>,\n",
       " <folium.vector_layers.CircleMarker at 0x7fd10265ba90>,\n",
       " <folium.vector_layers.CircleMarker at 0x7fd10265bac8>,\n",
       " <folium.vector_layers.CircleMarker at 0x7fd10265bb00>,\n",
       " <folium.vector_layers.CircleMarker at 0x7fd10265bb38>,\n",
       " <folium.vector_layers.CircleMarker at 0x7fd10265bb70>,\n",
       " <folium.vector_layers.CircleMarker at 0x7fd10265bba8>,\n",
       " <folium.vector_layers.CircleMarker at 0x7fd10265bbe0>,\n",
       " <folium.vector_layers.CircleMarker at 0x7fd10265bc18>,\n",
       " <folium.vector_layers.CircleMarker at 0x7fd10265bc50>,\n",
       " <folium.vector_layers.CircleMarker at 0x7fd10265bc88>,\n",
       " <folium.vector_layers.CircleMarker at 0x7fd10265bcc0>,\n",
       " <folium.vector_layers.CircleMarker at 0x7fd10265bcf8>,\n",
       " <folium.vector_layers.CircleMarker at 0x7fd10265bd30>,\n",
       " <folium.vector_layers.CircleMarker at 0x7fd10265bd68>,\n",
       " <folium.vector_layers.CircleMarker at 0x7fd10265bda0>,\n",
       " <folium.vector_layers.CircleMarker at 0x7fd10265bdd8>,\n",
       " <folium.vector_layers.CircleMarker at 0x7fd10265be10>,\n",
       " <folium.vector_layers.CircleMarker at 0x7fd10265be48>,\n",
       " <folium.vector_layers.CircleMarker at 0x7fd10265be80>,\n",
       " <folium.vector_layers.CircleMarker at 0x7fd10265beb8>,\n",
       " <folium.vector_layers.CircleMarker at 0x7fd10265bef0>,\n",
       " <folium.vector_layers.CircleMarker at 0x7fd10265bf28>,\n",
       " <folium.vector_layers.CircleMarker at 0x7fd10265bf60>,\n",
       " <folium.vector_layers.CircleMarker at 0x7fd10265bf98>,\n",
       " <folium.vector_layers.CircleMarker at 0x7fd10265bfd0>,\n",
       " <folium.vector_layers.CircleMarker at 0x7fd10265b2e8>,\n",
       " <folium.vector_layers.CircleMarker at 0x7fd102667080>,\n",
       " <folium.vector_layers.CircleMarker at 0x7fd1026670b8>,\n",
       " <folium.vector_layers.CircleMarker at 0x7fd1026670f0>,\n",
       " <folium.vector_layers.CircleMarker at 0x7fd102667128>,\n",
       " <folium.vector_layers.CircleMarker at 0x7fd102667160>,\n",
       " <folium.vector_layers.CircleMarker at 0x7fd102667198>,\n",
       " <folium.vector_layers.CircleMarker at 0x7fd1026671d0>,\n",
       " <folium.vector_layers.CircleMarker at 0x7fd102667208>,\n",
       " <folium.vector_layers.CircleMarker at 0x7fd102667240>,\n",
       " <folium.vector_layers.CircleMarker at 0x7fd102667278>,\n",
       " <folium.vector_layers.CircleMarker at 0x7fd1026672b0>,\n",
       " <folium.vector_layers.CircleMarker at 0x7fd1026672e8>,\n",
       " <folium.vector_layers.CircleMarker at 0x7fd102667320>,\n",
       " <folium.vector_layers.CircleMarker at 0x7fd102667358>,\n",
       " <folium.vector_layers.CircleMarker at 0x7fd102667390>,\n",
       " <folium.vector_layers.CircleMarker at 0x7fd1026673c8>,\n",
       " <folium.vector_layers.CircleMarker at 0x7fd102727ac8>,\n",
       " <folium.vector_layers.CircleMarker at 0x7fd102667438>,\n",
       " <folium.vector_layers.CircleMarker at 0x7fd102667470>,\n",
       " <folium.vector_layers.CircleMarker at 0x7fd1026674a8>,\n",
       " <folium.vector_layers.CircleMarker at 0x7fd1026674e0>,\n",
       " <folium.vector_layers.CircleMarker at 0x7fd102667518>,\n",
       " <folium.vector_layers.CircleMarker at 0x7fd102667550>,\n",
       " <folium.vector_layers.CircleMarker at 0x7fd102667588>,\n",
       " <folium.vector_layers.CircleMarker at 0x7fd1026675c0>,\n",
       " <folium.vector_layers.CircleMarker at 0x7fd1026675f8>,\n",
       " <folium.vector_layers.CircleMarker at 0x7fd102667630>,\n",
       " <folium.vector_layers.CircleMarker at 0x7fd102667668>,\n",
       " <folium.vector_layers.CircleMarker at 0x7fd1026676a0>,\n",
       " <folium.vector_layers.CircleMarker at 0x7fd1026676d8>,\n",
       " <folium.vector_layers.CircleMarker at 0x7fd102667710>,\n",
       " <folium.vector_layers.CircleMarker at 0x7fd102667748>,\n",
       " <folium.vector_layers.CircleMarker at 0x7fd102667780>,\n",
       " <folium.vector_layers.CircleMarker at 0x7fd1026677b8>,\n",
       " <folium.vector_layers.CircleMarker at 0x7fd1026677f0>,\n",
       " <folium.vector_layers.CircleMarker at 0x7fd102667828>,\n",
       " <folium.vector_layers.CircleMarker at 0x7fd102667860>,\n",
       " <folium.vector_layers.CircleMarker at 0x7fd102667898>,\n",
       " <folium.vector_layers.CircleMarker at 0x7fd1026678d0>,\n",
       " <folium.vector_layers.CircleMarker at 0x7fd102667908>,\n",
       " <folium.vector_layers.CircleMarker at 0x7fd102667940>,\n",
       " <folium.vector_layers.CircleMarker at 0x7fd10265b0f0>,\n",
       " <folium.vector_layers.CircleMarker at 0x7fd102667400>,\n",
       " <folium.vector_layers.CircleMarker at 0x7fd102667978>,\n",
       " <folium.vector_layers.CircleMarker at 0x7fd1026679b0>,\n",
       " <folium.vector_layers.CircleMarker at 0x7fd1026679e8>,\n",
       " <folium.vector_layers.CircleMarker at 0x7fd102667a20>,\n",
       " <folium.vector_layers.CircleMarker at 0x7fd102667a58>,\n",
       " <folium.vector_layers.CircleMarker at 0x7fd102667a90>,\n",
       " <folium.vector_layers.CircleMarker at 0x7fd102667ac8>,\n",
       " <folium.vector_layers.CircleMarker at 0x7fd102667b00>,\n",
       " <folium.vector_layers.CircleMarker at 0x7fd102667b38>,\n",
       " <folium.vector_layers.CircleMarker at 0x7fd102667b70>,\n",
       " <folium.vector_layers.CircleMarker at 0x7fd102667ba8>,\n",
       " <folium.vector_layers.CircleMarker at 0x7fd102667be0>,\n",
       " <folium.vector_layers.CircleMarker at 0x7fd102667c18>,\n",
       " <folium.vector_layers.CircleMarker at 0x7fd102667c50>,\n",
       " <folium.vector_layers.CircleMarker at 0x7fd102667c88>,\n",
       " <folium.vector_layers.CircleMarker at 0x7fd102667cc0>,\n",
       " <folium.vector_layers.CircleMarker at 0x7fd102667cf8>,\n",
       " <folium.vector_layers.CircleMarker at 0x7fd102667d30>,\n",
       " <folium.vector_layers.CircleMarker at 0x7fd102667d68>,\n",
       " <folium.vector_layers.CircleMarker at 0x7fd102667da0>,\n",
       " <folium.vector_layers.CircleMarker at 0x7fd102667dd8>,\n",
       " <folium.vector_layers.CircleMarker at 0x7fd102667e10>,\n",
       " <folium.vector_layers.CircleMarker at 0x7fd11c818630>,\n",
       " <folium.vector_layers.CircleMarker at 0x7fd102727048>,\n",
       " <folium.vector_layers.CircleMarker at 0x7fd11f782358>,\n",
       " <folium.vector_layers.CircleMarker at 0x7fd11f782630>,\n",
       " <folium.vector_layers.CircleMarker at 0x7fd12f295c18>,\n",
       " <folium.vector_layers.CircleMarker at 0x7fd12f295dd8>,\n",
       " <folium.vector_layers.CircleMarker at 0x7fd102667048>,\n",
       " <folium.vector_layers.CircleMarker at 0x7fd102667e80>,\n",
       " <folium.vector_layers.CircleMarker at 0x7fd102667eb8>,\n",
       " <folium.vector_layers.CircleMarker at 0x7fd102667ef0>,\n",
       " <folium.vector_layers.CircleMarker at 0x7fd102667f28>,\n",
       " <folium.vector_layers.CircleMarker at 0x7fd102667f60>,\n",
       " <folium.vector_layers.CircleMarker at 0x7fd102667f98>,\n",
       " <folium.vector_layers.CircleMarker at 0x7fd102667fd0>,\n",
       " <folium.vector_layers.CircleMarker at 0x7fd102667e48>,\n",
       " <folium.vector_layers.CircleMarker at 0x7fd102675080>,\n",
       " <folium.vector_layers.CircleMarker at 0x7fd1026750b8>,\n",
       " <folium.vector_layers.CircleMarker at 0x7fd1026750f0>,\n",
       " <folium.vector_layers.CircleMarker at 0x7fd102675128>,\n",
       " <folium.vector_layers.CircleMarker at 0x7fd102675160>,\n",
       " <folium.vector_layers.CircleMarker at 0x7fd102675198>,\n",
       " <folium.vector_layers.CircleMarker at 0x7fd1026751d0>,\n",
       " <folium.vector_layers.CircleMarker at 0x7fd102675208>,\n",
       " <folium.vector_layers.CircleMarker at 0x7fd102675240>,\n",
       " <folium.vector_layers.CircleMarker at 0x7fd102675278>,\n",
       " <folium.vector_layers.CircleMarker at 0x7fd1026752b0>,\n",
       " <folium.vector_layers.CircleMarker at 0x7fd1026752e8>,\n",
       " <folium.vector_layers.CircleMarker at 0x7fd102675320>,\n",
       " <folium.vector_layers.CircleMarker at 0x7fd102675358>,\n",
       " <folium.vector_layers.CircleMarker at 0x7fd102675390>,\n",
       " <folium.vector_layers.CircleMarker at 0x7fd1026753c8>,\n",
       " <folium.vector_layers.CircleMarker at 0x7fd102675400>,\n",
       " <folium.vector_layers.CircleMarker at 0x7fd102675438>,\n",
       " <folium.vector_layers.CircleMarker at 0x7fd102675470>,\n",
       " <folium.vector_layers.CircleMarker at 0x7fd1026754a8>,\n",
       " <folium.vector_layers.CircleMarker at 0x7fd1026754e0>,\n",
       " <folium.vector_layers.CircleMarker at 0x7fd102675518>,\n",
       " <folium.vector_layers.CircleMarker at 0x7fd102675550>,\n",
       " <folium.vector_layers.CircleMarker at 0x7fd102675588>,\n",
       " <folium.vector_layers.CircleMarker at 0x7fd1026755c0>,\n",
       " <folium.vector_layers.CircleMarker at 0x7fd1026755f8>,\n",
       " <folium.vector_layers.CircleMarker at 0x7fd102675630>,\n",
       " <folium.vector_layers.CircleMarker at 0x7fd102675668>,\n",
       " <folium.vector_layers.CircleMarker at 0x7fd1026756a0>,\n",
       " <folium.vector_layers.CircleMarker at 0x7fd1026756d8>,\n",
       " <folium.vector_layers.CircleMarker at 0x7fd102675710>,\n",
       " <folium.vector_layers.CircleMarker at 0x7fd102675748>,\n",
       " <folium.vector_layers.CircleMarker at 0x7fd102675780>,\n",
       " <folium.vector_layers.CircleMarker at 0x7fd1026757b8>,\n",
       " <folium.vector_layers.CircleMarker at 0x7fd1026757f0>,\n",
       " <folium.vector_layers.CircleMarker at 0x7fd102675828>,\n",
       " <folium.vector_layers.CircleMarker at 0x7fd102675860>,\n",
       " <folium.vector_layers.CircleMarker at 0x7fd102675898>,\n",
       " <folium.vector_layers.CircleMarker at 0x7fd1026758d0>,\n",
       " <folium.vector_layers.CircleMarker at 0x7fd102675908>,\n",
       " <folium.vector_layers.CircleMarker at 0x7fd102675940>,\n",
       " <folium.vector_layers.CircleMarker at 0x7fd102675978>,\n",
       " <folium.vector_layers.CircleMarker at 0x7fd1026759b0>,\n",
       " <folium.vector_layers.CircleMarker at 0x7fd1026759e8>,\n",
       " <folium.vector_layers.CircleMarker at 0x7fd102675a20>,\n",
       " <folium.vector_layers.CircleMarker at 0x7fd102675a58>,\n",
       " <folium.vector_layers.CircleMarker at 0x7fd102675a90>,\n",
       " <folium.vector_layers.CircleMarker at 0x7fd102675ac8>,\n",
       " <folium.vector_layers.CircleMarker at 0x7fd102675b00>,\n",
       " <folium.vector_layers.CircleMarker at 0x7fd102675b38>,\n",
       " <folium.vector_layers.CircleMarker at 0x7fd102675b70>,\n",
       " <folium.vector_layers.CircleMarker at 0x7fd102675ba8>,\n",
       " <folium.vector_layers.CircleMarker at 0x7fd102675be0>,\n",
       " <folium.vector_layers.CircleMarker at 0x7fd102675c18>,\n",
       " <folium.vector_layers.CircleMarker at 0x7fd102675c50>,\n",
       " <folium.vector_layers.CircleMarker at 0x7fd102675c88>,\n",
       " <folium.vector_layers.CircleMarker at 0x7fd102675cc0>,\n",
       " <folium.vector_layers.CircleMarker at 0x7fd102675cf8>,\n",
       " <folium.vector_layers.CircleMarker at 0x7fd102675d30>,\n",
       " <folium.vector_layers.CircleMarker at 0x7fd102675d68>,\n",
       " <folium.vector_layers.CircleMarker at 0x7fd102675da0>,\n",
       " <folium.vector_layers.CircleMarker at 0x7fd102675dd8>,\n",
       " <folium.vector_layers.CircleMarker at 0x7fd102675e10>,\n",
       " <folium.vector_layers.CircleMarker at 0x7fd102675e48>,\n",
       " <folium.vector_layers.CircleMarker at 0x7fd102675e80>,\n",
       " <folium.vector_layers.CircleMarker at 0x7fd102675eb8>,\n",
       " <folium.vector_layers.CircleMarker at 0x7fd102675ef0>,\n",
       " <folium.vector_layers.CircleMarker at 0x7fd102675f28>,\n",
       " <folium.vector_layers.CircleMarker at 0x7fd102675f60>,\n",
       " <folium.vector_layers.CircleMarker at 0x7fd102675f98>,\n",
       " <folium.vector_layers.CircleMarker at 0x7fd102675fd0>,\n",
       " <folium.vector_layers.CircleMarker at 0x7fd102675048>,\n",
       " <folium.vector_layers.CircleMarker at 0x7fd102682080>,\n",
       " <folium.vector_layers.CircleMarker at 0x7fd1026820b8>,\n",
       " <folium.vector_layers.CircleMarker at 0x7fd1026820f0>,\n",
       " <folium.vector_layers.CircleMarker at 0x7fd102682128>,\n",
       " <folium.vector_layers.CircleMarker at 0x7fd102682160>,\n",
       " <folium.vector_layers.CircleMarker at 0x7fd102682198>,\n",
       " <folium.vector_layers.CircleMarker at 0x7fd1026821d0>,\n",
       " <folium.vector_layers.CircleMarker at 0x7fd102682208>,\n",
       " <folium.vector_layers.CircleMarker at 0x7fd102682240>,\n",
       " <folium.vector_layers.CircleMarker at 0x7fd102682278>,\n",
       " <folium.vector_layers.CircleMarker at 0x7fd1026822b0>,\n",
       " <folium.vector_layers.CircleMarker at 0x7fd1026822e8>,\n",
       " <folium.vector_layers.CircleMarker at 0x7fd102682320>,\n",
       " <folium.vector_layers.CircleMarker at 0x7fd102682358>,\n",
       " <folium.vector_layers.CircleMarker at 0x7fd102682390>,\n",
       " <folium.vector_layers.CircleMarker at 0x7fd1026823c8>,\n",
       " <folium.vector_layers.CircleMarker at 0x7fd102682400>,\n",
       " <folium.vector_layers.CircleMarker at 0x7fd102682438>,\n",
       " <folium.vector_layers.CircleMarker at 0x7fd102682470>,\n",
       " <folium.vector_layers.CircleMarker at 0x7fd1026824a8>,\n",
       " <folium.vector_layers.CircleMarker at 0x7fd1026824e0>,\n",
       " <folium.vector_layers.CircleMarker at 0x7fd102682518>,\n",
       " <folium.vector_layers.CircleMarker at 0x7fd102682550>,\n",
       " <folium.vector_layers.CircleMarker at 0x7fd102682588>,\n",
       " <folium.vector_layers.CircleMarker at 0x7fd1026825c0>,\n",
       " <folium.vector_layers.CircleMarker at 0x7fd1026825f8>,\n",
       " <folium.vector_layers.CircleMarker at 0x7fd102682630>,\n",
       " <folium.vector_layers.CircleMarker at 0x7fd102682668>,\n",
       " <folium.vector_layers.CircleMarker at 0x7fd1026826a0>,\n",
       " <folium.vector_layers.CircleMarker at 0x7fd1026826d8>,\n",
       " <folium.vector_layers.CircleMarker at 0x7fd102682710>,\n",
       " <folium.vector_layers.CircleMarker at 0x7fd102682748>,\n",
       " <folium.vector_layers.CircleMarker at 0x7fd102682780>,\n",
       " <folium.vector_layers.CircleMarker at 0x7fd1026827b8>,\n",
       " <folium.vector_layers.CircleMarker at 0x7fd1026827f0>,\n",
       " <folium.vector_layers.CircleMarker at 0x7fd102682828>,\n",
       " <folium.vector_layers.CircleMarker at 0x7fd102682860>,\n",
       " <folium.vector_layers.CircleMarker at 0x7fd102682898>,\n",
       " <folium.vector_layers.CircleMarker at 0x7fd1026828d0>,\n",
       " <folium.vector_layers.CircleMarker at 0x7fd102682908>,\n",
       " <folium.vector_layers.CircleMarker at 0x7fd102682940>,\n",
       " <folium.vector_layers.CircleMarker at 0x7fd102682978>,\n",
       " <folium.vector_layers.CircleMarker at 0x7fd1026829b0>,\n",
       " <folium.vector_layers.CircleMarker at 0x7fd1026829e8>,\n",
       " <folium.vector_layers.CircleMarker at 0x7fd102682a20>,\n",
       " <folium.vector_layers.CircleMarker at 0x7fd102682a58>,\n",
       " <folium.vector_layers.CircleMarker at 0x7fd102682a90>,\n",
       " <folium.vector_layers.CircleMarker at 0x7fd102682ac8>,\n",
       " <folium.vector_layers.CircleMarker at 0x7fd102682b00>,\n",
       " <folium.vector_layers.CircleMarker at 0x7fd102682b38>,\n",
       " <folium.vector_layers.CircleMarker at 0x7fd102682b70>,\n",
       " <folium.vector_layers.CircleMarker at 0x7fd102682ba8>,\n",
       " <folium.vector_layers.CircleMarker at 0x7fd102682be0>,\n",
       " <folium.vector_layers.CircleMarker at 0x7fd102682c18>,\n",
       " <folium.vector_layers.CircleMarker at 0x7fd102682c50>,\n",
       " <folium.vector_layers.CircleMarker at 0x7fd102682c88>,\n",
       " <folium.vector_layers.CircleMarker at 0x7fd102682cc0>,\n",
       " <folium.vector_layers.CircleMarker at 0x7fd102682cf8>,\n",
       " <folium.vector_layers.CircleMarker at 0x7fd102682d30>,\n",
       " <folium.vector_layers.CircleMarker at 0x7fd102682d68>,\n",
       " <folium.vector_layers.CircleMarker at 0x7fd102682da0>,\n",
       " <folium.vector_layers.CircleMarker at 0x7fd102682dd8>,\n",
       " <folium.vector_layers.CircleMarker at 0x7fd102682e10>,\n",
       " <folium.vector_layers.CircleMarker at 0x7fd102682e48>,\n",
       " <folium.vector_layers.CircleMarker at 0x7fd102682e80>,\n",
       " <folium.vector_layers.CircleMarker at 0x7fd102682eb8>,\n",
       " <folium.vector_layers.CircleMarker at 0x7fd102682ef0>,\n",
       " <folium.vector_layers.CircleMarker at 0x7fd102682f28>,\n",
       " <folium.vector_layers.CircleMarker at 0x7fd102682f60>,\n",
       " <folium.vector_layers.CircleMarker at 0x7fd102682f98>,\n",
       " <folium.vector_layers.CircleMarker at 0x7fd102682fd0>,\n",
       " <folium.vector_layers.CircleMarker at 0x7fd102682048>,\n",
       " <folium.vector_layers.CircleMarker at 0x7fd102611048>,\n",
       " <folium.vector_layers.CircleMarker at 0x7fd1026110b8>,\n",
       " <folium.vector_layers.CircleMarker at 0x7fd1026110f0>,\n",
       " <folium.vector_layers.CircleMarker at 0x7fd102611128>,\n",
       " <folium.vector_layers.CircleMarker at 0x7fd102611160>,\n",
       " <folium.vector_layers.CircleMarker at 0x7fd102611198>,\n",
       " <folium.vector_layers.CircleMarker at 0x7fd1026111d0>,\n",
       " <folium.vector_layers.CircleMarker at 0x7fd102611208>,\n",
       " <folium.vector_layers.CircleMarker at 0x7fd102611240>,\n",
       " <folium.vector_layers.CircleMarker at 0x7fd102611278>,\n",
       " <folium.vector_layers.CircleMarker at 0x7fd1026112b0>,\n",
       " <folium.vector_layers.CircleMarker at 0x7fd1026112e8>,\n",
       " <folium.vector_layers.CircleMarker at 0x7fd102611320>,\n",
       " <folium.vector_layers.CircleMarker at 0x7fd102611358>,\n",
       " <folium.vector_layers.CircleMarker at 0x7fd102611390>,\n",
       " <folium.vector_layers.CircleMarker at 0x7fd1026113c8>,\n",
       " <folium.vector_layers.CircleMarker at 0x7fd102611400>,\n",
       " <folium.vector_layers.CircleMarker at 0x7fd102611438>,\n",
       " <folium.vector_layers.CircleMarker at 0x7fd102611470>,\n",
       " <folium.vector_layers.CircleMarker at 0x7fd1026114a8>,\n",
       " <folium.vector_layers.CircleMarker at 0x7fd1026114e0>,\n",
       " <folium.vector_layers.CircleMarker at 0x7fd102611518>,\n",
       " <folium.vector_layers.CircleMarker at 0x7fd102611550>,\n",
       " <folium.vector_layers.CircleMarker at 0x7fd102611588>,\n",
       " <folium.vector_layers.CircleMarker at 0x7fd1026115c0>,\n",
       " <folium.vector_layers.CircleMarker at 0x7fd1026115f8>,\n",
       " <folium.vector_layers.CircleMarker at 0x7fd102611630>,\n",
       " <folium.vector_layers.CircleMarker at 0x7fd102611668>,\n",
       " <folium.vector_layers.CircleMarker at 0x7fd1026116a0>,\n",
       " <folium.vector_layers.CircleMarker at 0x7fd1026116d8>,\n",
       " <folium.vector_layers.CircleMarker at 0x7fd102611710>,\n",
       " <folium.vector_layers.CircleMarker at 0x7fd102611748>,\n",
       " <folium.vector_layers.CircleMarker at 0x7fd102611780>,\n",
       " <folium.vector_layers.CircleMarker at 0x7fd1026117b8>,\n",
       " <folium.vector_layers.CircleMarker at 0x7fd1026117f0>,\n",
       " <folium.vector_layers.CircleMarker at 0x7fd102611828>,\n",
       " <folium.vector_layers.CircleMarker at 0x7fd102611860>,\n",
       " <folium.vector_layers.CircleMarker at 0x7fd102611898>,\n",
       " <folium.vector_layers.CircleMarker at 0x7fd1026118d0>,\n",
       " <folium.vector_layers.CircleMarker at 0x7fd102611908>,\n",
       " <folium.vector_layers.CircleMarker at 0x7fd102611940>,\n",
       " <folium.vector_layers.CircleMarker at 0x7fd102611978>,\n",
       " <folium.vector_layers.CircleMarker at 0x7fd1026119b0>,\n",
       " <folium.vector_layers.CircleMarker at 0x7fd1026119e8>,\n",
       " <folium.vector_layers.CircleMarker at 0x7fd102611a20>,\n",
       " <folium.vector_layers.CircleMarker at 0x7fd102611a58>,\n",
       " <folium.vector_layers.CircleMarker at 0x7fd102611a90>,\n",
       " <folium.vector_layers.CircleMarker at 0x7fd102611ac8>,\n",
       " <folium.vector_layers.CircleMarker at 0x7fd102611b00>,\n",
       " <folium.vector_layers.CircleMarker at 0x7fd102611b38>,\n",
       " <folium.vector_layers.CircleMarker at 0x7fd102611b70>,\n",
       " <folium.vector_layers.CircleMarker at 0x7fd102611ba8>,\n",
       " <folium.vector_layers.CircleMarker at 0x7fd102611be0>,\n",
       " <folium.vector_layers.CircleMarker at 0x7fd102611c18>,\n",
       " <folium.vector_layers.CircleMarker at 0x7fd102611c50>,\n",
       " <folium.vector_layers.CircleMarker at 0x7fd102611c88>,\n",
       " <folium.vector_layers.CircleMarker at 0x7fd102611cc0>,\n",
       " <folium.vector_layers.CircleMarker at 0x7fd102611cf8>,\n",
       " <folium.vector_layers.CircleMarker at 0x7fd102611d30>,\n",
       " <folium.vector_layers.CircleMarker at 0x7fd102611d68>,\n",
       " <folium.vector_layers.CircleMarker at 0x7fd102611da0>,\n",
       " <folium.vector_layers.CircleMarker at 0x7fd102611dd8>,\n",
       " <folium.vector_layers.CircleMarker at 0x7fd102611e10>,\n",
       " <folium.vector_layers.CircleMarker at 0x7fd102611e48>,\n",
       " <folium.vector_layers.CircleMarker at 0x7fd102611e80>,\n",
       " <folium.vector_layers.CircleMarker at 0x7fd102611eb8>,\n",
       " <folium.vector_layers.CircleMarker at 0x7fd102611ef0>,\n",
       " <folium.vector_layers.CircleMarker at 0x7fd102611f28>,\n",
       " <folium.vector_layers.CircleMarker at 0x7fd102611f60>,\n",
       " <folium.vector_layers.CircleMarker at 0x7fd102611f98>,\n",
       " <folium.vector_layers.CircleMarker at 0x7fd102611fd0>,\n",
       " <folium.vector_layers.CircleMarker at 0x7fd102611080>,\n",
       " <folium.vector_layers.CircleMarker at 0x7fd10261d080>,\n",
       " <folium.vector_layers.CircleMarker at 0x7fd10261d0b8>,\n",
       " <folium.vector_layers.CircleMarker at 0x7fd10261d0f0>,\n",
       " <folium.vector_layers.CircleMarker at 0x7fd10261d128>,\n",
       " <folium.vector_layers.CircleMarker at 0x7fd10261d160>,\n",
       " <folium.vector_layers.CircleMarker at 0x7fd10261d198>,\n",
       " <folium.vector_layers.CircleMarker at 0x7fd10261d1d0>,\n",
       " <folium.vector_layers.CircleMarker at 0x7fd10261d208>,\n",
       " <folium.vector_layers.CircleMarker at 0x7fd10261d240>,\n",
       " <folium.vector_layers.CircleMarker at 0x7fd10261d278>,\n",
       " <folium.vector_layers.CircleMarker at 0x7fd10261d2b0>,\n",
       " <folium.vector_layers.CircleMarker at 0x7fd10261d2e8>,\n",
       " <folium.vector_layers.CircleMarker at 0x7fd10261d320>,\n",
       " <folium.vector_layers.CircleMarker at 0x7fd10261d358>,\n",
       " <folium.vector_layers.CircleMarker at 0x7fd10261d390>,\n",
       " <folium.vector_layers.CircleMarker at 0x7fd10261d3c8>,\n",
       " <folium.vector_layers.CircleMarker at 0x7fd10261d400>,\n",
       " <folium.vector_layers.CircleMarker at 0x7fd10261d438>,\n",
       " <folium.vector_layers.CircleMarker at 0x7fd10261d470>,\n",
       " <folium.vector_layers.CircleMarker at 0x7fd10261d4a8>,\n",
       " <folium.vector_layers.CircleMarker at 0x7fd10261d4e0>,\n",
       " <folium.vector_layers.CircleMarker at 0x7fd10261d518>,\n",
       " <folium.vector_layers.CircleMarker at 0x7fd10261d550>,\n",
       " <folium.vector_layers.CircleMarker at 0x7fd10261d588>,\n",
       " <folium.vector_layers.CircleMarker at 0x7fd10261d5c0>,\n",
       " <folium.vector_layers.CircleMarker at 0x7fd10261d5f8>,\n",
       " <folium.vector_layers.CircleMarker at 0x7fd10261d630>,\n",
       " <folium.vector_layers.CircleMarker at 0x7fd10261d668>,\n",
       " <folium.vector_layers.CircleMarker at 0x7fd10261d6a0>,\n",
       " <folium.vector_layers.CircleMarker at 0x7fd10261d6d8>,\n",
       " <folium.vector_layers.CircleMarker at 0x7fd10261d710>,\n",
       " <folium.vector_layers.CircleMarker at 0x7fd10261d748>,\n",
       " <folium.vector_layers.CircleMarker at 0x7fd10261d780>,\n",
       " <folium.vector_layers.CircleMarker at 0x7fd10261d7b8>,\n",
       " <folium.vector_layers.CircleMarker at 0x7fd10261d7f0>,\n",
       " <folium.vector_layers.CircleMarker at 0x7fd10261d828>,\n",
       " <folium.vector_layers.CircleMarker at 0x7fd10261d860>,\n",
       " <folium.vector_layers.CircleMarker at 0x7fd10261d898>,\n",
       " <folium.vector_layers.CircleMarker at 0x7fd10261d8d0>,\n",
       " <folium.vector_layers.CircleMarker at 0x7fd10261d908>,\n",
       " <folium.vector_layers.CircleMarker at 0x7fd10261d940>,\n",
       " <folium.vector_layers.CircleMarker at 0x7fd10261d978>,\n",
       " <folium.vector_layers.CircleMarker at 0x7fd10261d9b0>,\n",
       " <folium.vector_layers.CircleMarker at 0x7fd10261d9e8>,\n",
       " <folium.vector_layers.CircleMarker at 0x7fd10261da20>,\n",
       " <folium.vector_layers.CircleMarker at 0x7fd10261da58>,\n",
       " <folium.vector_layers.CircleMarker at 0x7fd10261da90>,\n",
       " <folium.vector_layers.CircleMarker at 0x7fd10261dac8>,\n",
       " <folium.vector_layers.CircleMarker at 0x7fd10261db00>,\n",
       " <folium.vector_layers.CircleMarker at 0x7fd10261db38>,\n",
       " <folium.vector_layers.CircleMarker at 0x7fd10261db70>,\n",
       " <folium.vector_layers.CircleMarker at 0x7fd10261dba8>,\n",
       " <folium.vector_layers.CircleMarker at 0x7fd10261dbe0>,\n",
       " <folium.vector_layers.CircleMarker at 0x7fd10261dc18>,\n",
       " <folium.vector_layers.CircleMarker at 0x7fd10261dc50>,\n",
       " <folium.vector_layers.CircleMarker at 0x7fd10261dc88>,\n",
       " <folium.vector_layers.CircleMarker at 0x7fd10261dcc0>,\n",
       " <folium.vector_layers.CircleMarker at 0x7fd10261dcf8>,\n",
       " <folium.vector_layers.CircleMarker at 0x7fd10261dd30>,\n",
       " <folium.vector_layers.CircleMarker at 0x7fd10261dd68>,\n",
       " <folium.vector_layers.CircleMarker at 0x7fd10261dda0>,\n",
       " <folium.vector_layers.CircleMarker at 0x7fd10261ddd8>,\n",
       " <folium.vector_layers.CircleMarker at 0x7fd10261de10>,\n",
       " <folium.vector_layers.CircleMarker at 0x7fd10261de48>,\n",
       " <folium.vector_layers.CircleMarker at 0x7fd10261de80>,\n",
       " <folium.vector_layers.CircleMarker at 0x7fd10261deb8>,\n",
       " <folium.vector_layers.CircleMarker at 0x7fd10261def0>,\n",
       " <folium.vector_layers.CircleMarker at 0x7fd10261df28>,\n",
       " <folium.vector_layers.CircleMarker at 0x7fd10261df60>,\n",
       " <folium.vector_layers.CircleMarker at 0x7fd10261df98>,\n",
       " <folium.vector_layers.CircleMarker at 0x7fd10261dfd0>,\n",
       " <folium.vector_layers.CircleMarker at 0x7fd10261d048>,\n",
       " <folium.vector_layers.CircleMarker at 0x7fd10262b048>,\n",
       " <folium.vector_layers.CircleMarker at 0x7fd10262b0b8>,\n",
       " <folium.vector_layers.CircleMarker at 0x7fd10262b0f0>,\n",
       " <folium.vector_layers.CircleMarker at 0x7fd10262b128>,\n",
       " <folium.vector_layers.CircleMarker at 0x7fd10262b160>,\n",
       " <folium.vector_layers.CircleMarker at 0x7fd10262b198>,\n",
       " <folium.vector_layers.CircleMarker at 0x7fd10262b1d0>,\n",
       " <folium.vector_layers.CircleMarker at 0x7fd10262b208>,\n",
       " <folium.vector_layers.CircleMarker at 0x7fd10262b240>,\n",
       " <folium.vector_layers.CircleMarker at 0x7fd10262b278>,\n",
       " <folium.vector_layers.CircleMarker at 0x7fd10262b2b0>,\n",
       " <folium.vector_layers.CircleMarker at 0x7fd10262b2e8>,\n",
       " <folium.vector_layers.CircleMarker at 0x7fd10262b320>,\n",
       " <folium.vector_layers.CircleMarker at 0x7fd10262b358>,\n",
       " <folium.vector_layers.CircleMarker at 0x7fd10262b390>,\n",
       " <folium.vector_layers.CircleMarker at 0x7fd10262b3c8>,\n",
       " <folium.vector_layers.CircleMarker at 0x7fd10262b400>,\n",
       " <folium.vector_layers.CircleMarker at 0x7fd10262b438>,\n",
       " <folium.vector_layers.CircleMarker at 0x7fd10262b470>,\n",
       " <folium.vector_layers.CircleMarker at 0x7fd10262b4a8>,\n",
       " <folium.vector_layers.CircleMarker at 0x7fd10262b4e0>,\n",
       " <folium.vector_layers.CircleMarker at 0x7fd10262b518>,\n",
       " <folium.vector_layers.CircleMarker at 0x7fd10262b550>,\n",
       " <folium.vector_layers.CircleMarker at 0x7fd10262b588>,\n",
       " <folium.vector_layers.CircleMarker at 0x7fd10262b5c0>,\n",
       " <folium.vector_layers.CircleMarker at 0x7fd10262b5f8>,\n",
       " <folium.vector_layers.CircleMarker at 0x7fd10262b630>,\n",
       " <folium.vector_layers.CircleMarker at 0x7fd10262b668>,\n",
       " <folium.vector_layers.CircleMarker at 0x7fd10262b6a0>,\n",
       " <folium.vector_layers.CircleMarker at 0x7fd10262b6d8>,\n",
       " <folium.vector_layers.CircleMarker at 0x7fd10262b710>,\n",
       " <folium.vector_layers.CircleMarker at 0x7fd10262b748>,\n",
       " <folium.vector_layers.CircleMarker at 0x7fd10262b780>,\n",
       " <folium.vector_layers.CircleMarker at 0x7fd10262b7b8>,\n",
       " <folium.vector_layers.CircleMarker at 0x7fd10262b7f0>,\n",
       " <folium.vector_layers.CircleMarker at 0x7fd10262b828>,\n",
       " <folium.vector_layers.CircleMarker at 0x7fd10262b860>,\n",
       " <folium.vector_layers.CircleMarker at 0x7fd10262b898>,\n",
       " <folium.vector_layers.CircleMarker at 0x7fd10262b8d0>,\n",
       " <folium.vector_layers.CircleMarker at 0x7fd10262b908>,\n",
       " <folium.vector_layers.CircleMarker at 0x7fd10262b940>,\n",
       " <folium.vector_layers.CircleMarker at 0x7fd10262b978>,\n",
       " <folium.vector_layers.CircleMarker at 0x7fd10262b9b0>,\n",
       " <folium.vector_layers.CircleMarker at 0x7fd10262b9e8>,\n",
       " <folium.vector_layers.CircleMarker at 0x7fd10262ba20>,\n",
       " <folium.vector_layers.CircleMarker at 0x7fd10262ba58>,\n",
       " <folium.vector_layers.CircleMarker at 0x7fd10262ba90>,\n",
       " <folium.vector_layers.CircleMarker at 0x7fd10262bac8>,\n",
       " <folium.vector_layers.CircleMarker at 0x7fd10262bb00>,\n",
       " <folium.vector_layers.CircleMarker at 0x7fd10262bb38>,\n",
       " <folium.vector_layers.CircleMarker at 0x7fd10262bb70>,\n",
       " <folium.vector_layers.CircleMarker at 0x7fd10262bba8>,\n",
       " <folium.vector_layers.CircleMarker at 0x7fd10262bbe0>,\n",
       " <folium.vector_layers.CircleMarker at 0x7fd10262bc18>,\n",
       " <folium.vector_layers.CircleMarker at 0x7fd10262bc50>,\n",
       " <folium.vector_layers.CircleMarker at 0x7fd10262bc88>,\n",
       " <folium.vector_layers.CircleMarker at 0x7fd10262bcc0>,\n",
       " <folium.vector_layers.CircleMarker at 0x7fd10262bcf8>,\n",
       " <folium.vector_layers.CircleMarker at 0x7fd10262bd30>,\n",
       " <folium.vector_layers.CircleMarker at 0x7fd10262bd68>,\n",
       " <folium.vector_layers.CircleMarker at 0x7fd10262bda0>,\n",
       " <folium.vector_layers.CircleMarker at 0x7fd10262bdd8>,\n",
       " <folium.vector_layers.CircleMarker at 0x7fd10262be10>,\n",
       " <folium.vector_layers.CircleMarker at 0x7fd10262be48>,\n",
       " <folium.vector_layers.CircleMarker at 0x7fd10262be80>,\n",
       " <folium.vector_layers.CircleMarker at 0x7fd10262beb8>,\n",
       " <folium.vector_layers.CircleMarker at 0x7fd10262bef0>,\n",
       " <folium.vector_layers.CircleMarker at 0x7fd10262bf28>,\n",
       " <folium.vector_layers.CircleMarker at 0x7fd10262bf60>,\n",
       " <folium.vector_layers.CircleMarker at 0x7fd10262bf98>,\n",
       " <folium.vector_layers.CircleMarker at 0x7fd10262bfd0>,\n",
       " <folium.vector_layers.CircleMarker at 0x7fd10262b080>,\n",
       " <folium.vector_layers.CircleMarker at 0x7fd10263a080>,\n",
       " <folium.vector_layers.CircleMarker at 0x7fd10263a0b8>,\n",
       " <folium.vector_layers.CircleMarker at 0x7fd10263a0f0>,\n",
       " <folium.vector_layers.CircleMarker at 0x7fd10263a128>,\n",
       " <folium.vector_layers.CircleMarker at 0x7fd10263a160>,\n",
       " <folium.vector_layers.CircleMarker at 0x7fd10263a198>,\n",
       " <folium.vector_layers.CircleMarker at 0x7fd10263a1d0>,\n",
       " <folium.vector_layers.CircleMarker at 0x7fd10263a208>,\n",
       " <folium.vector_layers.CircleMarker at 0x7fd10263a240>,\n",
       " <folium.vector_layers.CircleMarker at 0x7fd10263a278>,\n",
       " <folium.vector_layers.CircleMarker at 0x7fd10263a2b0>,\n",
       " <folium.vector_layers.CircleMarker at 0x7fd10263a2e8>,\n",
       " <folium.vector_layers.CircleMarker at 0x7fd10263a320>,\n",
       " <folium.vector_layers.CircleMarker at 0x7fd10263a358>,\n",
       " <folium.vector_layers.CircleMarker at 0x7fd10263a390>,\n",
       " <folium.vector_layers.CircleMarker at 0x7fd10263a3c8>,\n",
       " <folium.vector_layers.CircleMarker at 0x7fd10263a400>,\n",
       " <folium.vector_layers.CircleMarker at 0x7fd10263a438>,\n",
       " <folium.vector_layers.CircleMarker at 0x7fd10263a470>,\n",
       " <folium.vector_layers.CircleMarker at 0x7fd10263a4a8>,\n",
       " <folium.vector_layers.CircleMarker at 0x7fd10263a4e0>,\n",
       " <folium.vector_layers.CircleMarker at 0x7fd10263a518>,\n",
       " <folium.vector_layers.CircleMarker at 0x7fd10263a550>,\n",
       " <folium.vector_layers.CircleMarker at 0x7fd10263a588>,\n",
       " <folium.vector_layers.CircleMarker at 0x7fd10263a5c0>,\n",
       " <folium.vector_layers.CircleMarker at 0x7fd10263a5f8>,\n",
       " <folium.vector_layers.CircleMarker at 0x7fd10263a630>,\n",
       " <folium.vector_layers.CircleMarker at 0x7fd10263a668>,\n",
       " <folium.vector_layers.CircleMarker at 0x7fd10263a6a0>,\n",
       " <folium.vector_layers.CircleMarker at 0x7fd10263a6d8>,\n",
       " <folium.vector_layers.CircleMarker at 0x7fd10263a710>,\n",
       " <folium.vector_layers.CircleMarker at 0x7fd10263a748>,\n",
       " <folium.vector_layers.CircleMarker at 0x7fd10263a780>,\n",
       " <folium.vector_layers.CircleMarker at 0x7fd10263a7b8>,\n",
       " <folium.vector_layers.CircleMarker at 0x7fd10263a7f0>,\n",
       " <folium.vector_layers.CircleMarker at 0x7fd10263a828>,\n",
       " <folium.vector_layers.CircleMarker at 0x7fd10263a860>,\n",
       " <folium.vector_layers.CircleMarker at 0x7fd10263a898>,\n",
       " <folium.vector_layers.CircleMarker at 0x7fd10263a8d0>,\n",
       " <folium.vector_layers.CircleMarker at 0x7fd10263a908>,\n",
       " <folium.vector_layers.CircleMarker at 0x7fd10263a940>,\n",
       " <folium.vector_layers.CircleMarker at 0x7fd10263a978>,\n",
       " <folium.vector_layers.CircleMarker at 0x7fd10263a9b0>,\n",
       " <folium.vector_layers.CircleMarker at 0x7fd10263a9e8>,\n",
       " <folium.vector_layers.CircleMarker at 0x7fd10263aa20>,\n",
       " <folium.vector_layers.CircleMarker at 0x7fd10263aa58>,\n",
       " <folium.vector_layers.CircleMarker at 0x7fd10263aa90>,\n",
       " <folium.vector_layers.CircleMarker at 0x7fd10263aac8>,\n",
       " <folium.vector_layers.CircleMarker at 0x7fd10263ab00>,\n",
       " <folium.vector_layers.CircleMarker at 0x7fd10263ab38>,\n",
       " <folium.vector_layers.CircleMarker at 0x7fd10263ab70>,\n",
       " <folium.vector_layers.CircleMarker at 0x7fd10263aba8>,\n",
       " <folium.vector_layers.CircleMarker at 0x7fd10263abe0>,\n",
       " <folium.vector_layers.CircleMarker at 0x7fd10263ac18>,\n",
       " <folium.vector_layers.CircleMarker at 0x7fd10263ac50>,\n",
       " <folium.vector_layers.CircleMarker at 0x7fd10263ac88>,\n",
       " <folium.vector_layers.CircleMarker at 0x7fd10263acc0>,\n",
       " <folium.vector_layers.CircleMarker at 0x7fd10263acf8>,\n",
       " <folium.vector_layers.CircleMarker at 0x7fd10263ad30>,\n",
       " <folium.vector_layers.CircleMarker at 0x7fd10263ad68>,\n",
       " <folium.vector_layers.CircleMarker at 0x7fd10263ada0>,\n",
       " <folium.vector_layers.CircleMarker at 0x7fd10263add8>,\n",
       " <folium.vector_layers.CircleMarker at 0x7fd10263ae10>,\n",
       " <folium.vector_layers.CircleMarker at 0x7fd10263ae48>,\n",
       " <folium.vector_layers.CircleMarker at 0x7fd10263ae80>,\n",
       " <folium.vector_layers.CircleMarker at 0x7fd10263aeb8>,\n",
       " <folium.vector_layers.CircleMarker at 0x7fd10263aef0>,\n",
       " <folium.vector_layers.CircleMarker at 0x7fd10263af28>,\n",
       " <folium.vector_layers.CircleMarker at 0x7fd10263af60>,\n",
       " <folium.vector_layers.CircleMarker at 0x7fd10263af98>,\n",
       " <folium.vector_layers.CircleMarker at 0x7fd10263afd0>,\n",
       " <folium.vector_layers.CircleMarker at 0x7fd10263a048>,\n",
       " <folium.vector_layers.CircleMarker at 0x7fd102647080>,\n",
       " <folium.vector_layers.CircleMarker at 0x7fd1026470b8>,\n",
       " <folium.vector_layers.CircleMarker at 0x7fd1026470f0>,\n",
       " <folium.vector_layers.CircleMarker at 0x7fd102647128>,\n",
       " <folium.vector_layers.CircleMarker at 0x7fd102647160>,\n",
       " <folium.vector_layers.CircleMarker at 0x7fd102647198>,\n",
       " <folium.vector_layers.CircleMarker at 0x7fd1026471d0>,\n",
       " <folium.vector_layers.CircleMarker at 0x7fd102647208>,\n",
       " <folium.vector_layers.CircleMarker at 0x7fd102647240>,\n",
       " <folium.vector_layers.CircleMarker at 0x7fd102647278>,\n",
       " <folium.vector_layers.CircleMarker at 0x7fd1026472b0>,\n",
       " <folium.vector_layers.CircleMarker at 0x7fd1026472e8>,\n",
       " <folium.vector_layers.CircleMarker at 0x7fd102647320>,\n",
       " <folium.vector_layers.CircleMarker at 0x7fd102647358>,\n",
       " <folium.vector_layers.CircleMarker at 0x7fd102647390>,\n",
       " <folium.vector_layers.CircleMarker at 0x7fd1026473c8>,\n",
       " <folium.vector_layers.CircleMarker at 0x7fd102647400>,\n",
       " <folium.vector_layers.CircleMarker at 0x7fd102647438>,\n",
       " <folium.vector_layers.CircleMarker at 0x7fd102647470>,\n",
       " <folium.vector_layers.CircleMarker at 0x7fd1026474a8>,\n",
       " <folium.vector_layers.CircleMarker at 0x7fd1026474e0>,\n",
       " <folium.vector_layers.CircleMarker at 0x7fd102647518>,\n",
       " <folium.vector_layers.CircleMarker at 0x7fd102647550>,\n",
       " <folium.vector_layers.CircleMarker at 0x7fd102647588>,\n",
       " <folium.vector_layers.CircleMarker at 0x7fd1026475c0>,\n",
       " <folium.vector_layers.CircleMarker at 0x7fd1026475f8>,\n",
       " <folium.vector_layers.CircleMarker at 0x7fd102647630>,\n",
       " <folium.vector_layers.CircleMarker at 0x7fd102647668>,\n",
       " <folium.vector_layers.CircleMarker at 0x7fd1026476a0>,\n",
       " <folium.vector_layers.CircleMarker at 0x7fd1026476d8>,\n",
       " <folium.vector_layers.CircleMarker at 0x7fd102647710>,\n",
       " <folium.vector_layers.CircleMarker at 0x7fd102647748>,\n",
       " <folium.vector_layers.CircleMarker at 0x7fd102647780>,\n",
       " <folium.vector_layers.CircleMarker at 0x7fd1026477b8>,\n",
       " <folium.vector_layers.CircleMarker at 0x7fd1026477f0>,\n",
       " <folium.vector_layers.CircleMarker at 0x7fd102647828>,\n",
       " <folium.vector_layers.CircleMarker at 0x7fd102647860>,\n",
       " <folium.vector_layers.CircleMarker at 0x7fd102647898>,\n",
       " <folium.vector_layers.CircleMarker at 0x7fd1026478d0>,\n",
       " <folium.vector_layers.CircleMarker at 0x7fd102647908>,\n",
       " <folium.vector_layers.CircleMarker at 0x7fd102647940>,\n",
       " <folium.vector_layers.CircleMarker at 0x7fd102647978>,\n",
       " <folium.vector_layers.CircleMarker at 0x7fd1026479b0>,\n",
       " <folium.vector_layers.CircleMarker at 0x7fd1026479e8>,\n",
       " <folium.vector_layers.CircleMarker at 0x7fd102647a20>,\n",
       " <folium.vector_layers.CircleMarker at 0x7fd102647a58>,\n",
       " <folium.vector_layers.CircleMarker at 0x7fd102647a90>,\n",
       " <folium.vector_layers.CircleMarker at 0x7fd102647ac8>,\n",
       " <folium.vector_layers.CircleMarker at 0x7fd102647b00>,\n",
       " <folium.vector_layers.CircleMarker at 0x7fd102647b38>,\n",
       " <folium.vector_layers.CircleMarker at 0x7fd102647b70>,\n",
       " <folium.vector_layers.CircleMarker at 0x7fd102647ba8>,\n",
       " <folium.vector_layers.CircleMarker at 0x7fd102647be0>,\n",
       " <folium.vector_layers.CircleMarker at 0x7fd102647c18>,\n",
       " <folium.vector_layers.CircleMarker at 0x7fd102647c50>,\n",
       " <folium.vector_layers.CircleMarker at 0x7fd102647c88>,\n",
       " <folium.vector_layers.CircleMarker at 0x7fd102647cc0>,\n",
       " <folium.vector_layers.CircleMarker at 0x7fd102647cf8>,\n",
       " <folium.vector_layers.CircleMarker at 0x7fd102647d30>,\n",
       " <folium.vector_layers.CircleMarker at 0x7fd102647d68>,\n",
       " <folium.vector_layers.CircleMarker at 0x7fd102647da0>,\n",
       " <folium.vector_layers.CircleMarker at 0x7fd102647dd8>,\n",
       " <folium.vector_layers.CircleMarker at 0x7fd102647e10>,\n",
       " <folium.vector_layers.CircleMarker at 0x7fd102647e48>,\n",
       " <folium.vector_layers.CircleMarker at 0x7fd102647e80>,\n",
       " <folium.vector_layers.CircleMarker at 0x7fd102647eb8>,\n",
       " <folium.vector_layers.CircleMarker at 0x7fd102647ef0>,\n",
       " <folium.vector_layers.CircleMarker at 0x7fd102647f28>,\n",
       " <folium.vector_layers.CircleMarker at 0x7fd102647f60>,\n",
       " <folium.vector_layers.CircleMarker at 0x7fd102647f98>,\n",
       " <folium.vector_layers.CircleMarker at 0x7fd102647fd0>,\n",
       " <folium.vector_layers.CircleMarker at 0x7fd102647048>,\n",
       " <folium.vector_layers.CircleMarker at 0x7fd1025d6080>,\n",
       " <folium.vector_layers.CircleMarker at 0x7fd1025d60b8>,\n",
       " <folium.vector_layers.CircleMarker at 0x7fd1025d60f0>,\n",
       " <folium.vector_layers.CircleMarker at 0x7fd1025d6128>,\n",
       " <folium.vector_layers.CircleMarker at 0x7fd1025d6160>,\n",
       " <folium.vector_layers.CircleMarker at 0x7fd1025d6198>,\n",
       " <folium.vector_layers.CircleMarker at 0x7fd1025d61d0>,\n",
       " <folium.vector_layers.CircleMarker at 0x7fd1025d6208>,\n",
       " <folium.vector_layers.CircleMarker at 0x7fd1025d6240>,\n",
       " <folium.vector_layers.CircleMarker at 0x7fd1025d6278>,\n",
       " <folium.vector_layers.CircleMarker at 0x7fd1025d62b0>,\n",
       " <folium.vector_layers.CircleMarker at 0x7fd1025d62e8>,\n",
       " <folium.vector_layers.CircleMarker at 0x7fd1025d6320>,\n",
       " <folium.vector_layers.CircleMarker at 0x7fd1025d6358>,\n",
       " <folium.vector_layers.CircleMarker at 0x7fd1025d6390>,\n",
       " <folium.vector_layers.CircleMarker at 0x7fd1025d63c8>,\n",
       " <folium.vector_layers.CircleMarker at 0x7fd1025d6400>,\n",
       " <folium.vector_layers.CircleMarker at 0x7fd1025d6438>,\n",
       " <folium.vector_layers.CircleMarker at 0x7fd1025d6470>,\n",
       " <folium.vector_layers.CircleMarker at 0x7fd1025d64a8>,\n",
       " <folium.vector_layers.CircleMarker at 0x7fd1025d64e0>,\n",
       " <folium.vector_layers.CircleMarker at 0x7fd1025d6518>,\n",
       " <folium.vector_layers.CircleMarker at 0x7fd1025d6550>,\n",
       " <folium.vector_layers.CircleMarker at 0x7fd1025d6588>,\n",
       " <folium.vector_layers.CircleMarker at 0x7fd1025d65c0>,\n",
       " <folium.vector_layers.CircleMarker at 0x7fd1025d65f8>,\n",
       " <folium.vector_layers.CircleMarker at 0x7fd1025d6630>,\n",
       " <folium.vector_layers.CircleMarker at 0x7fd1025d6668>,\n",
       " <folium.vector_layers.CircleMarker at 0x7fd1025d66a0>,\n",
       " <folium.vector_layers.CircleMarker at 0x7fd1025d66d8>,\n",
       " <folium.vector_layers.CircleMarker at 0x7fd1025d6710>,\n",
       " <folium.vector_layers.CircleMarker at 0x7fd1025d6748>,\n",
       " <folium.vector_layers.CircleMarker at 0x7fd1025d6780>,\n",
       " <folium.vector_layers.CircleMarker at 0x7fd1025d67b8>,\n",
       " <folium.vector_layers.CircleMarker at 0x7fd1025d67f0>,\n",
       " <folium.vector_layers.CircleMarker at 0x7fd1025d6828>,\n",
       " <folium.vector_layers.CircleMarker at 0x7fd1025d6860>,\n",
       " <folium.vector_layers.CircleMarker at 0x7fd1025d6898>,\n",
       " <folium.vector_layers.CircleMarker at 0x7fd1025d68d0>,\n",
       " <folium.vector_layers.CircleMarker at 0x7fd1025d6908>,\n",
       " <folium.vector_layers.CircleMarker at 0x7fd1025d6940>,\n",
       " <folium.vector_layers.CircleMarker at 0x7fd1025d6978>,\n",
       " <folium.vector_layers.CircleMarker at 0x7fd1025d69b0>,\n",
       " <folium.vector_layers.CircleMarker at 0x7fd1025d69e8>,\n",
       " <folium.vector_layers.CircleMarker at 0x7fd1025d6a20>,\n",
       " <folium.vector_layers.CircleMarker at 0x7fd1025d6a58>,\n",
       " <folium.vector_layers.CircleMarker at 0x7fd1025d6a90>,\n",
       " <folium.vector_layers.CircleMarker at 0x7fd1025d6ac8>,\n",
       " <folium.vector_layers.CircleMarker at 0x7fd1025d6b00>,\n",
       " <folium.vector_layers.CircleMarker at 0x7fd1025d6b38>,\n",
       " <folium.vector_layers.CircleMarker at 0x7fd1025d6b70>,\n",
       " <folium.vector_layers.CircleMarker at 0x7fd1025d6ba8>,\n",
       " <folium.vector_layers.CircleMarker at 0x7fd1025d6be0>,\n",
       " <folium.vector_layers.CircleMarker at 0x7fd1025d6c18>,\n",
       " <folium.vector_layers.CircleMarker at 0x7fd1025d6c50>,\n",
       " <folium.vector_layers.CircleMarker at 0x7fd1025d6c88>,\n",
       " <folium.vector_layers.CircleMarker at 0x7fd1025d6cc0>,\n",
       " <folium.vector_layers.CircleMarker at 0x7fd1025d6cf8>,\n",
       " <folium.vector_layers.CircleMarker at 0x7fd1025d6d30>,\n",
       " <folium.vector_layers.CircleMarker at 0x7fd1025d6d68>,\n",
       " <folium.vector_layers.CircleMarker at 0x7fd1025d6da0>,\n",
       " <folium.vector_layers.CircleMarker at 0x7fd1025d6dd8>,\n",
       " <folium.vector_layers.CircleMarker at 0x7fd1025d6e10>,\n",
       " <folium.vector_layers.CircleMarker at 0x7fd1025d6e48>,\n",
       " <folium.vector_layers.CircleMarker at 0x7fd1025d6e80>,\n",
       " <folium.vector_layers.CircleMarker at 0x7fd1025d6eb8>,\n",
       " <folium.vector_layers.CircleMarker at 0x7fd1025d6ef0>,\n",
       " <folium.vector_layers.CircleMarker at 0x7fd1025d6f28>,\n",
       " <folium.vector_layers.CircleMarker at 0x7fd1025d6f60>,\n",
       " <folium.vector_layers.CircleMarker at 0x7fd1025d6f98>,\n",
       " <folium.vector_layers.CircleMarker at 0x7fd1025d6fd0>,\n",
       " <folium.vector_layers.CircleMarker at 0x7fd1025d6048>,\n",
       " <folium.vector_layers.CircleMarker at 0x7fd1025e2080>,\n",
       " <folium.vector_layers.CircleMarker at 0x7fd1025e20b8>,\n",
       " <folium.vector_layers.CircleMarker at 0x7fd1025e20f0>,\n",
       " <folium.vector_layers.CircleMarker at 0x7fd1025e2128>,\n",
       " <folium.vector_layers.CircleMarker at 0x7fd1025e2160>,\n",
       " <folium.vector_layers.CircleMarker at 0x7fd1025e2198>,\n",
       " <folium.vector_layers.CircleMarker at 0x7fd1025e21d0>,\n",
       " <folium.vector_layers.CircleMarker at 0x7fd1025e2208>,\n",
       " <folium.vector_layers.CircleMarker at 0x7fd1025e2240>,\n",
       " <folium.vector_layers.CircleMarker at 0x7fd1025e2278>,\n",
       " <folium.vector_layers.CircleMarker at 0x7fd1025e22b0>,\n",
       " <folium.vector_layers.CircleMarker at 0x7fd1025e22e8>,\n",
       " <folium.vector_layers.CircleMarker at 0x7fd1025e2320>,\n",
       " <folium.vector_layers.CircleMarker at 0x7fd1025e2358>,\n",
       " <folium.vector_layers.CircleMarker at 0x7fd1025e2390>,\n",
       " <folium.vector_layers.CircleMarker at 0x7fd1025e23c8>,\n",
       " <folium.vector_layers.CircleMarker at 0x7fd1025e2400>,\n",
       " <folium.vector_layers.CircleMarker at 0x7fd1025e2438>,\n",
       " <folium.vector_layers.CircleMarker at 0x7fd1025e2470>,\n",
       " <folium.vector_layers.CircleMarker at 0x7fd1025e24a8>,\n",
       " <folium.vector_layers.CircleMarker at 0x7fd1025e24e0>,\n",
       " <folium.vector_layers.CircleMarker at 0x7fd1025e2518>,\n",
       " <folium.vector_layers.CircleMarker at 0x7fd1025e2550>,\n",
       " <folium.vector_layers.CircleMarker at 0x7fd1025e2588>,\n",
       " <folium.vector_layers.CircleMarker at 0x7fd1025e25c0>,\n",
       " <folium.vector_layers.CircleMarker at 0x7fd1025e25f8>,\n",
       " <folium.vector_layers.CircleMarker at 0x7fd1025e2630>,\n",
       " <folium.vector_layers.CircleMarker at 0x7fd1025e2668>,\n",
       " <folium.vector_layers.CircleMarker at 0x7fd1025e26a0>,\n",
       " <folium.vector_layers.CircleMarker at 0x7fd1025e26d8>,\n",
       " <folium.vector_layers.CircleMarker at 0x7fd1025e2710>,\n",
       " <folium.vector_layers.CircleMarker at 0x7fd1025e2748>,\n",
       " <folium.vector_layers.CircleMarker at 0x7fd1025e2780>,\n",
       " <folium.vector_layers.CircleMarker at 0x7fd1025e27b8>,\n",
       " <folium.vector_layers.CircleMarker at 0x7fd1025e27f0>,\n",
       " <folium.vector_layers.CircleMarker at 0x7fd1025e2828>,\n",
       " <folium.vector_layers.CircleMarker at 0x7fd1025e2860>,\n",
       " <folium.vector_layers.CircleMarker at 0x7fd1025e2898>,\n",
       " <folium.vector_layers.CircleMarker at 0x7fd1025e28d0>,\n",
       " <folium.vector_layers.CircleMarker at 0x7fd1025e2908>,\n",
       " <folium.vector_layers.CircleMarker at 0x7fd1025e2940>,\n",
       " <folium.vector_layers.CircleMarker at 0x7fd1025e2978>,\n",
       " <folium.vector_layers.CircleMarker at 0x7fd1025e29b0>,\n",
       " <folium.vector_layers.CircleMarker at 0x7fd1025e29e8>,\n",
       " <folium.vector_layers.CircleMarker at 0x7fd1025e2a20>,\n",
       " <folium.vector_layers.CircleMarker at 0x7fd1025e2a58>,\n",
       " <folium.vector_layers.CircleMarker at 0x7fd1025e2a90>,\n",
       " <folium.vector_layers.CircleMarker at 0x7fd1025e2ac8>,\n",
       " <folium.vector_layers.CircleMarker at 0x7fd1025e2b00>,\n",
       " <folium.vector_layers.CircleMarker at 0x7fd1025e2b38>,\n",
       " <folium.vector_layers.CircleMarker at 0x7fd1025e2b70>,\n",
       " <folium.vector_layers.CircleMarker at 0x7fd1025e2ba8>,\n",
       " <folium.vector_layers.CircleMarker at 0x7fd1025e2be0>,\n",
       " <folium.vector_layers.CircleMarker at 0x7fd1025e2c18>,\n",
       " <folium.vector_layers.CircleMarker at 0x7fd1025e2c50>,\n",
       " <folium.vector_layers.CircleMarker at 0x7fd1025e2c88>,\n",
       " <folium.vector_layers.CircleMarker at 0x7fd1025e2cc0>,\n",
       " <folium.vector_layers.CircleMarker at 0x7fd1025e2cf8>,\n",
       " <folium.vector_layers.CircleMarker at 0x7fd1025e2d30>,\n",
       " <folium.vector_layers.CircleMarker at 0x7fd1025e2d68>,\n",
       " <folium.vector_layers.CircleMarker at 0x7fd1025e2da0>,\n",
       " <folium.vector_layers.CircleMarker at 0x7fd1025e2dd8>,\n",
       " <folium.vector_layers.CircleMarker at 0x7fd1025e2e10>,\n",
       " <folium.vector_layers.CircleMarker at 0x7fd1025e2e48>,\n",
       " <folium.vector_layers.CircleMarker at 0x7fd1025e2e80>,\n",
       " <folium.vector_layers.CircleMarker at 0x7fd1025e2eb8>,\n",
       " <folium.vector_layers.CircleMarker at 0x7fd1025e2ef0>,\n",
       " <folium.vector_layers.CircleMarker at 0x7fd1025e2f28>,\n",
       " <folium.vector_layers.CircleMarker at 0x7fd1025e2f60>,\n",
       " <folium.vector_layers.CircleMarker at 0x7fd1025e2f98>,\n",
       " <folium.vector_layers.CircleMarker at 0x7fd1025e2fd0>,\n",
       " <folium.vector_layers.CircleMarker at 0x7fd1025e2048>,\n",
       " <folium.vector_layers.CircleMarker at 0x7fd1025f1080>,\n",
       " <folium.vector_layers.CircleMarker at 0x7fd1025f10b8>,\n",
       " <folium.vector_layers.CircleMarker at 0x7fd1025f10f0>,\n",
       " <folium.vector_layers.CircleMarker at 0x7fd1025f1128>,\n",
       " <folium.vector_layers.CircleMarker at 0x7fd1025f1160>,\n",
       " <folium.vector_layers.CircleMarker at 0x7fd1025f1198>,\n",
       " <folium.vector_layers.CircleMarker at 0x7fd1025f11d0>,\n",
       " <folium.vector_layers.CircleMarker at 0x7fd1025f1208>,\n",
       " <folium.vector_layers.CircleMarker at 0x7fd1025f1240>,\n",
       " <folium.vector_layers.CircleMarker at 0x7fd1025f1278>,\n",
       " <folium.vector_layers.CircleMarker at 0x7fd1025f12b0>,\n",
       " <folium.vector_layers.CircleMarker at 0x7fd1025f12e8>,\n",
       " <folium.vector_layers.CircleMarker at 0x7fd1025f1320>,\n",
       " <folium.vector_layers.CircleMarker at 0x7fd1025f1358>,\n",
       " <folium.vector_layers.CircleMarker at 0x7fd1025f1390>,\n",
       " <folium.vector_layers.CircleMarker at 0x7fd1025f13c8>,\n",
       " <folium.vector_layers.CircleMarker at 0x7fd1025f1400>,\n",
       " <folium.vector_layers.CircleMarker at 0x7fd1025f1438>,\n",
       " <folium.vector_layers.CircleMarker at 0x7fd1025f1470>,\n",
       " <folium.vector_layers.CircleMarker at 0x7fd1025f14a8>,\n",
       " <folium.vector_layers.CircleMarker at 0x7fd1025f14e0>,\n",
       " <folium.vector_layers.CircleMarker at 0x7fd1025f1518>,\n",
       " <folium.vector_layers.CircleMarker at 0x7fd1025f1550>,\n",
       " <folium.vector_layers.CircleMarker at 0x7fd1025f1588>,\n",
       " <folium.vector_layers.CircleMarker at 0x7fd1025f15c0>,\n",
       " <folium.vector_layers.CircleMarker at 0x7fd1025f15f8>,\n",
       " <folium.vector_layers.CircleMarker at 0x7fd1025f1630>,\n",
       " <folium.vector_layers.CircleMarker at 0x7fd1025f1668>,\n",
       " <folium.vector_layers.CircleMarker at 0x7fd1025f16a0>,\n",
       " <folium.vector_layers.CircleMarker at 0x7fd1025f16d8>,\n",
       " <folium.vector_layers.CircleMarker at 0x7fd1025f1710>,\n",
       " <folium.vector_layers.CircleMarker at 0x7fd1025f1748>,\n",
       " <folium.vector_layers.CircleMarker at 0x7fd1025f1780>,\n",
       " <folium.vector_layers.CircleMarker at 0x7fd1025f17b8>,\n",
       " <folium.vector_layers.CircleMarker at 0x7fd1025f17f0>,\n",
       " <folium.vector_layers.CircleMarker at 0x7fd1025f1828>,\n",
       " <folium.vector_layers.CircleMarker at 0x7fd1025f1860>,\n",
       " <folium.vector_layers.CircleMarker at 0x7fd1025f1898>,\n",
       " <folium.vector_layers.CircleMarker at 0x7fd1025f18d0>,\n",
       " <folium.vector_layers.CircleMarker at 0x7fd1025f1908>,\n",
       " <folium.vector_layers.CircleMarker at 0x7fd1025f1940>,\n",
       " <folium.vector_layers.CircleMarker at 0x7fd1025f1978>,\n",
       " <folium.vector_layers.CircleMarker at 0x7fd1025f19b0>,\n",
       " <folium.vector_layers.CircleMarker at 0x7fd1025f19e8>,\n",
       " <folium.vector_layers.CircleMarker at 0x7fd1025f1a20>,\n",
       " <folium.vector_layers.CircleMarker at 0x7fd1025f1a58>,\n",
       " <folium.vector_layers.CircleMarker at 0x7fd1025f1a90>,\n",
       " <folium.vector_layers.CircleMarker at 0x7fd1025f1ac8>,\n",
       " <folium.vector_layers.CircleMarker at 0x7fd1025f1b00>,\n",
       " <folium.vector_layers.CircleMarker at 0x7fd1025f1b38>,\n",
       " <folium.vector_layers.CircleMarker at 0x7fd1025f1b70>,\n",
       " <folium.vector_layers.CircleMarker at 0x7fd1025f1ba8>,\n",
       " <folium.vector_layers.CircleMarker at 0x7fd1025f1be0>,\n",
       " <folium.vector_layers.CircleMarker at 0x7fd1025f1c18>,\n",
       " <folium.vector_layers.CircleMarker at 0x7fd1025f1c50>,\n",
       " <folium.vector_layers.CircleMarker at 0x7fd1025f1c88>,\n",
       " <folium.vector_layers.CircleMarker at 0x7fd1025f1cc0>,\n",
       " <folium.vector_layers.CircleMarker at 0x7fd1025f1cf8>,\n",
       " <folium.vector_layers.CircleMarker at 0x7fd1025f1d30>,\n",
       " <folium.vector_layers.CircleMarker at 0x7fd1025f1d68>,\n",
       " <folium.vector_layers.CircleMarker at 0x7fd1025f1da0>,\n",
       " <folium.vector_layers.CircleMarker at 0x7fd1025f1dd8>,\n",
       " <folium.vector_layers.CircleMarker at 0x7fd1025f1e10>,\n",
       " <folium.vector_layers.CircleMarker at 0x7fd1025f1e48>,\n",
       " <folium.vector_layers.CircleMarker at 0x7fd1025f1e80>,\n",
       " <folium.vector_layers.CircleMarker at 0x7fd1025f1eb8>,\n",
       " <folium.vector_layers.CircleMarker at 0x7fd1025f1ef0>,\n",
       " <folium.vector_layers.CircleMarker at 0x7fd1025f1f28>,\n",
       " <folium.vector_layers.CircleMarker at 0x7fd1025f1f60>,\n",
       " <folium.vector_layers.CircleMarker at 0x7fd1025f1f98>,\n",
       " <folium.vector_layers.CircleMarker at 0x7fd1025f1fd0>,\n",
       " <folium.vector_layers.CircleMarker at 0x7fd1025f1048>,\n",
       " <folium.vector_layers.CircleMarker at 0x7fd1025fd080>,\n",
       " <folium.vector_layers.CircleMarker at 0x7fd1025fd0b8>,\n",
       " <folium.vector_layers.CircleMarker at 0x7fd1025fd0f0>,\n",
       " <folium.vector_layers.CircleMarker at 0x7fd1025fd128>,\n",
       " <folium.vector_layers.CircleMarker at 0x7fd1025fd160>,\n",
       " <folium.vector_layers.CircleMarker at 0x7fd1025fd198>,\n",
       " <folium.vector_layers.CircleMarker at 0x7fd1025fd1d0>,\n",
       " <folium.vector_layers.CircleMarker at 0x7fd1025fd208>,\n",
       " <folium.vector_layers.CircleMarker at 0x7fd1025fd240>,\n",
       " <folium.vector_layers.CircleMarker at 0x7fd1025fd278>,\n",
       " <folium.vector_layers.CircleMarker at 0x7fd1025fd2b0>,\n",
       " <folium.vector_layers.CircleMarker at 0x7fd1025fd2e8>,\n",
       " <folium.vector_layers.CircleMarker at 0x7fd1025fd320>,\n",
       " <folium.vector_layers.CircleMarker at 0x7fd1025fd358>,\n",
       " <folium.vector_layers.CircleMarker at 0x7fd1025fd390>,\n",
       " <folium.vector_layers.CircleMarker at 0x7fd1025fd3c8>,\n",
       " <folium.vector_layers.CircleMarker at 0x7fd1025fd400>,\n",
       " <folium.vector_layers.CircleMarker at 0x7fd1025fd438>,\n",
       " <folium.vector_layers.CircleMarker at 0x7fd1025fd470>,\n",
       " <folium.vector_layers.CircleMarker at 0x7fd1025fd4a8>,\n",
       " <folium.vector_layers.CircleMarker at 0x7fd1025fd4e0>,\n",
       " <folium.vector_layers.CircleMarker at 0x7fd1025fd518>,\n",
       " <folium.vector_layers.CircleMarker at 0x7fd1025fd550>,\n",
       " <folium.vector_layers.CircleMarker at 0x7fd1025fd588>,\n",
       " <folium.vector_layers.CircleMarker at 0x7fd1025fd5c0>,\n",
       " <folium.vector_layers.CircleMarker at 0x7fd1025fd5f8>,\n",
       " <folium.vector_layers.CircleMarker at 0x7fd1025fd630>,\n",
       " <folium.vector_layers.CircleMarker at 0x7fd1025fd668>,\n",
       " <folium.vector_layers.CircleMarker at 0x7fd1025fd6a0>,\n",
       " <folium.vector_layers.CircleMarker at 0x7fd1025fd6d8>,\n",
       " <folium.vector_layers.CircleMarker at 0x7fd1025fd710>,\n",
       " <folium.vector_layers.CircleMarker at 0x7fd1025fd748>,\n",
       " <folium.vector_layers.CircleMarker at 0x7fd1025fd780>,\n",
       " <folium.vector_layers.CircleMarker at 0x7fd1025fd7b8>,\n",
       " <folium.vector_layers.CircleMarker at 0x7fd1025fd7f0>,\n",
       " <folium.vector_layers.CircleMarker at 0x7fd1025fd828>,\n",
       " <folium.vector_layers.CircleMarker at 0x7fd1025fd860>,\n",
       " <folium.vector_layers.CircleMarker at 0x7fd1025fd898>,\n",
       " <folium.vector_layers.CircleMarker at 0x7fd1025fd8d0>,\n",
       " <folium.vector_layers.CircleMarker at 0x7fd1025fd908>,\n",
       " <folium.vector_layers.CircleMarker at 0x7fd1025fd940>,\n",
       " <folium.vector_layers.CircleMarker at 0x7fd1025fd978>,\n",
       " <folium.vector_layers.CircleMarker at 0x7fd1025fd9b0>,\n",
       " <folium.vector_layers.CircleMarker at 0x7fd1025fd9e8>,\n",
       " <folium.vector_layers.CircleMarker at 0x7fd1025fda20>,\n",
       " <folium.vector_layers.CircleMarker at 0x7fd1025fda58>,\n",
       " <folium.vector_layers.CircleMarker at 0x7fd1025fda90>,\n",
       " <folium.vector_layers.CircleMarker at 0x7fd1025fdac8>,\n",
       " <folium.vector_layers.CircleMarker at 0x7fd1025fdb00>,\n",
       " <folium.vector_layers.CircleMarker at 0x7fd1025fdb38>,\n",
       " <folium.vector_layers.CircleMarker at 0x7fd1025fdb70>,\n",
       " <folium.vector_layers.CircleMarker at 0x7fd1025fdba8>,\n",
       " <folium.vector_layers.CircleMarker at 0x7fd1025fdbe0>,\n",
       " <folium.vector_layers.CircleMarker at 0x7fd1025fdc18>,\n",
       " <folium.vector_layers.CircleMarker at 0x7fd1025fdc50>,\n",
       " <folium.vector_layers.CircleMarker at 0x7fd1025fdc88>,\n",
       " <folium.vector_layers.CircleMarker at 0x7fd1025fdcc0>,\n",
       " <folium.vector_layers.CircleMarker at 0x7fd1025fdcf8>,\n",
       " <folium.vector_layers.CircleMarker at 0x7fd1025fdd30>,\n",
       " <folium.vector_layers.CircleMarker at 0x7fd1025fdd68>,\n",
       " <folium.vector_layers.CircleMarker at 0x7fd1025fdda0>,\n",
       " <folium.vector_layers.CircleMarker at 0x7fd1025fddd8>,\n",
       " <folium.vector_layers.CircleMarker at 0x7fd1025fde10>,\n",
       " <folium.vector_layers.CircleMarker at 0x7fd1025fde48>,\n",
       " <folium.vector_layers.CircleMarker at 0x7fd1025fde80>,\n",
       " <folium.vector_layers.CircleMarker at 0x7fd1025fdeb8>,\n",
       " <folium.vector_layers.CircleMarker at 0x7fd1025fdef0>,\n",
       " <folium.vector_layers.CircleMarker at 0x7fd1025fdf28>,\n",
       " <folium.vector_layers.CircleMarker at 0x7fd1025fdf60>,\n",
       " <folium.vector_layers.CircleMarker at 0x7fd1025fdf98>,\n",
       " <folium.vector_layers.CircleMarker at 0x7fd1025fdfd0>,\n",
       " <folium.vector_layers.CircleMarker at 0x7fd1025fd048>,\n",
       " <folium.vector_layers.CircleMarker at 0x7fd10260c080>,\n",
       " <folium.vector_layers.CircleMarker at 0x7fd10260c0b8>,\n",
       " <folium.vector_layers.CircleMarker at 0x7fd10260c0f0>,\n",
       " <folium.vector_layers.CircleMarker at 0x7fd10260c128>,\n",
       " <folium.vector_layers.CircleMarker at 0x7fd10260c160>,\n",
       " <folium.vector_layers.CircleMarker at 0x7fd10260c198>,\n",
       " <folium.vector_layers.CircleMarker at 0x7fd10260c1d0>,\n",
       " <folium.vector_layers.CircleMarker at 0x7fd10260c208>,\n",
       " <folium.vector_layers.CircleMarker at 0x7fd10260c240>,\n",
       " <folium.vector_layers.CircleMarker at 0x7fd10260c278>,\n",
       " <folium.vector_layers.CircleMarker at 0x7fd10260c2b0>,\n",
       " <folium.vector_layers.CircleMarker at 0x7fd10260c2e8>,\n",
       " <folium.vector_layers.CircleMarker at 0x7fd10260c320>,\n",
       " <folium.vector_layers.CircleMarker at 0x7fd10260c358>,\n",
       " <folium.vector_layers.CircleMarker at 0x7fd10260c390>,\n",
       " <folium.vector_layers.CircleMarker at 0x7fd10260c3c8>,\n",
       " <folium.vector_layers.CircleMarker at 0x7fd10260c400>,\n",
       " <folium.vector_layers.CircleMarker at 0x7fd10260c438>,\n",
       " <folium.vector_layers.CircleMarker at 0x7fd10260c470>,\n",
       " <folium.vector_layers.CircleMarker at 0x7fd10260c4a8>,\n",
       " <folium.vector_layers.CircleMarker at 0x7fd10260c4e0>,\n",
       " <folium.vector_layers.CircleMarker at 0x7fd10260c518>,\n",
       " <folium.vector_layers.CircleMarker at 0x7fd10260c550>,\n",
       " <folium.vector_layers.CircleMarker at 0x7fd10260c588>,\n",
       " <folium.vector_layers.CircleMarker at 0x7fd10260c5c0>,\n",
       " <folium.vector_layers.CircleMarker at 0x7fd10260c5f8>,\n",
       " <folium.vector_layers.CircleMarker at 0x7fd10260c630>,\n",
       " <folium.vector_layers.CircleMarker at 0x7fd10260c668>,\n",
       " <folium.vector_layers.CircleMarker at 0x7fd10260c6a0>,\n",
       " <folium.vector_layers.CircleMarker at 0x7fd10260c6d8>,\n",
       " <folium.vector_layers.CircleMarker at 0x7fd10260c710>,\n",
       " <folium.vector_layers.CircleMarker at 0x7fd10260c748>,\n",
       " <folium.vector_layers.CircleMarker at 0x7fd10260c780>,\n",
       " <folium.vector_layers.CircleMarker at 0x7fd10260c7b8>,\n",
       " <folium.vector_layers.CircleMarker at 0x7fd10260c7f0>,\n",
       " <folium.vector_layers.CircleMarker at 0x7fd10260c828>,\n",
       " <folium.vector_layers.CircleMarker at 0x7fd102727550>,\n",
       " <folium.vector_layers.CircleMarker at 0x7fd1027275c0>,\n",
       " <folium.vector_layers.CircleMarker at 0x7fd102721278>,\n",
       " <folium.vector_layers.CircleMarker at 0x7fd12f2ab080>,\n",
       " <folium.vector_layers.CircleMarker at 0x7fd1027276a0>,\n",
       " <folium.vector_layers.CircleMarker at 0x7fd10260c048>,\n",
       " <folium.vector_layers.CircleMarker at 0x7fd10260c898>,\n",
       " <folium.vector_layers.CircleMarker at 0x7fd10260c8d0>,\n",
       " <folium.vector_layers.CircleMarker at 0x7fd10260c908>,\n",
       " <folium.vector_layers.CircleMarker at 0x7fd10260c940>,\n",
       " <folium.vector_layers.CircleMarker at 0x7fd10260c978>,\n",
       " <folium.vector_layers.CircleMarker at 0x7fd10260c9b0>,\n",
       " <folium.vector_layers.CircleMarker at 0x7fd10260c9e8>,\n",
       " <folium.vector_layers.CircleMarker at 0x7fd10260ca20>,\n",
       " <folium.vector_layers.CircleMarker at 0x7fd10260ca58>,\n",
       " <folium.vector_layers.CircleMarker at 0x7fd10260ca90>,\n",
       " <folium.vector_layers.CircleMarker at 0x7fd10260cac8>,\n",
       " <folium.vector_layers.CircleMarker at 0x7fd10260cb00>,\n",
       " <folium.vector_layers.CircleMarker at 0x7fd10260cb38>,\n",
       " <folium.vector_layers.CircleMarker at 0x7fd10260cb70>,\n",
       " <folium.vector_layers.CircleMarker at 0x7fd10260cba8>,\n",
       " <folium.vector_layers.CircleMarker at 0x7fd10260cbe0>,\n",
       " <folium.vector_layers.CircleMarker at 0x7fd10260cc18>,\n",
       " <folium.vector_layers.CircleMarker at 0x7fd10260cc50>]"
      ]
     },
     "execution_count": 35,
     "metadata": {},
     "output_type": "execute_result"
    }
   ],
   "source": [
    "trip_markers\n"
   ]
  },
  {
   "cell_type": "code",
   "execution_count": 33,
   "metadata": {},
   "outputs": [
    {
     "data": {
      "text/plain": [
       "[{'trip_distance': 18.38,\n",
       "  'pickup_latitude': 40.64499,\n",
       "  'pickup_longitude': -73.78115},\n",
       " {'trip_distance': 1.3,\n",
       "  'pickup_latitude': 40.766931,\n",
       "  'pickup_longitude': -73.982098},\n",
       " {'trip_distance': 4.5,\n",
       "  'pickup_latitude': 40.77773,\n",
       "  'pickup_longitude': -73.951902},\n",
       " {'trip_distance': 2.4,\n",
       "  'pickup_latitude': 40.795678,\n",
       "  'pickup_longitude': -73.971049}]"
      ]
     },
     "execution_count": 33,
     "metadata": {},
     "output_type": "execute_result"
    }
   ],
   "source": [
    "cleaned_trips[0:4]"
   ]
  },
  {
   "cell_type": "code",
   "execution_count": 34,
   "metadata": {},
   "outputs": [
    {
     "data": {
      "text/plain": [
       "[[40.64499, -73.78115],\n",
       " [40.766931, -73.982098],\n",
       " [40.77773, -73.951902],\n",
       " [40.795678, -73.971049]]"
      ]
     },
     "execution_count": 34,
     "metadata": {},
     "output_type": "execute_result"
    }
   ],
   "source": [
    "trip_markers and len(trip_markers) # 1000\n",
    "\n",
    "list(map(lambda marker: marker.location, trip_markers[0:4]))\n",
    "# [[40.64499, -73.78115],\n",
    "#  [40.766931, -73.982098],\n",
    "#  [40.77773, -73.951902],\n",
    "#  [40.795678, -73.971049]]"
   ]
  },
  {
   "cell_type": "markdown",
   "metadata": {},
   "source": [
    "Ok, now that we have a function that creates locations, and a function that creates markers, it is time to write a function to plot a map. \n",
    "\n",
    "Write a function called `map_from` that, provided the first argument of a list location and second argument an integer representing the `zoom_start`, returns a `folium` map the corresponding location and `zoom_start` attributes.\n",
    "\n",
    "> Hint: The following is how to write a map with folium:\n",
    "> ```python \n",
    "    folium.Map(location=location, zoom_start=zoom_amount)\n",
    "> ```"
   ]
  },
  {
   "cell_type": "code",
   "execution_count": null,
   "metadata": {},
   "outputs": [],
   "source": [
    "def map_from(location, zoom_amount):\n",
    "    return folium.Map(location"
   ]
  },
  {
   "cell_type": "code",
   "execution_count": null,
   "metadata": {},
   "outputs": [],
   "source": [
    "times_square_map = map_from([40.7589, -73.9851], 15)\n",
    "times_square_map and times_square_map.location # [40.7589, -73.9851]\n",
    "times_square_map and times_square_map.zoom_start # 15"
   ]
  },
  {
   "cell_type": "code",
   "execution_count": null,
   "metadata": {
    "scrolled": true
   },
   "outputs": [],
   "source": [
    "times_square_marker and times_square_marker.add_to(times_square_map)\n",
    "times_square_map"
   ]
  },
  {
   "cell_type": "markdown",
   "metadata": {},
   "source": [
    "Now that we have a marker and a map, now let's write a function that adds a lot of markers to a map.  This function should add each marker in the list to the map object then return the updated map object."
   ]
  },
  {
   "cell_type": "code",
   "execution_count": null,
   "metadata": {},
   "outputs": [],
   "source": [
    "manhattan_map = map_from([40.7589, -73.9851], 13)"
   ]
  },
  {
   "cell_type": "code",
   "execution_count": null,
   "metadata": {},
   "outputs": [],
   "source": [
    "def add_markers(markers, map_obj):\n",
    "    pass"
   ]
  },
  {
   "cell_type": "code",
   "execution_count": null,
   "metadata": {
    "scrolled": false
   },
   "outputs": [],
   "source": [
    "map_with_markers = add_markers(trip_markers, manhattan_map)"
   ]
  },
  {
   "cell_type": "code",
   "execution_count": null,
   "metadata": {},
   "outputs": [],
   "source": [
    "map_with_markers"
   ]
  },
  {
   "cell_type": "markdown",
   "metadata": {},
   "source": [
    "### Using Nearest Neighbors"
   ]
  },
  {
   "cell_type": "markdown",
   "metadata": {},
   "source": [
    "Ok, let's write a function that given a latitude and longitude will predict the distance for us.  We'll do this by first finding the nearest trips given a latitude and longitude. "
   ]
  },
  {
   "cell_type": "markdown",
   "metadata": {},
   "source": [
    "Here we once again apply the nearest neighbors formula. As a first step, write a function named `distance_location` that calculates the distance in pickup location between two trips."
   ]
  },
  {
   "cell_type": "code",
   "execution_count": null,
   "metadata": {},
   "outputs": [],
   "source": [
    "import math\n",
    "\n",
    "def distance_location(selected_trip, neighbor_trip):\n",
    "    pass"
   ]
  },
  {
   "cell_type": "code",
   "execution_count": null,
   "metadata": {},
   "outputs": [],
   "source": [
    "first_trip = {'pickup_latitude': 40.64499, 'pickup_longitude': -73.78115, 'trip_distance': 18.38}\n",
    "second_trip = {'pickup_latitude': 40.766931, 'pickup_longitude': -73.982098, 'trip_distance': 1.3}\n",
    "distance_first_and_second = distance_location(first_trip, second_trip)\n",
    "\n",
    "distance_first_and_second and round(distance_first_and_second, 3) # 0.235"
   ]
  },
  {
   "cell_type": "markdown",
   "metadata": {},
   "source": [
    "Ok, next write a function called `distance_between_neighbors` that adds a new key-value pair, called `distance_from_selected`, that calculates the distance of the `neighbor_trip` from the `selected_trip`."
   ]
  },
  {
   "cell_type": "code",
   "execution_count": null,
   "metadata": {},
   "outputs": [],
   "source": [
    "def distance_between_neighbors(selected_trip, neighbor_trip):\n",
    "    pass"
   ]
  },
  {
   "cell_type": "code",
   "execution_count": null,
   "metadata": {},
   "outputs": [],
   "source": [
    "distance_between_neighbors(first_trip, second_trip)\n",
    "\n",
    "# {'distance_from_selected': 0.23505256047318146,\n",
    "#  'pickup_latitude': 40.766931,\n",
    "#  'pickup_longitude': -73.982098,\n",
    "#  'trip_distance': 1.3}"
   ]
  },
  {
   "cell_type": "markdown",
   "metadata": {},
   "source": [
    "Ok, now our `neighbor_trip` has another attribute called `distance_from_selected`, that indicates the distance from the `neighbor_trip`'s pickup location from the `selected_trip`."
   ]
  },
  {
   "cell_type": "markdown",
   "metadata": {},
   "source": [
    "> ** Understand the data:** Our dictionary now has a few attributes, two of which say distance.  Let's make sure we understand the difference. \n",
    "> * **`distance_from_selected`:** This is our calculation of the distance of the neighbor's pickup location from the selected trip.\n",
    "> * **`trip_distance`:** This is the attribute we were provided initially.  It tells us the length of the neighbor's taxi trip from pickup to drop-off.  "
   ]
  },
  {
   "cell_type": "markdown",
   "metadata": {},
   "source": [
    "Next, write a function called `distance_all` that provided a list of neighbors, returns each of those neighbors with their respective `distance_from_selected` numbers."
   ]
  },
  {
   "cell_type": "code",
   "execution_count": null,
   "metadata": {},
   "outputs": [],
   "source": [
    "def distance_all(selected_individual, neighbors):\n",
    "    pass"
   ]
  },
  {
   "cell_type": "code",
   "execution_count": null,
   "metadata": {},
   "outputs": [],
   "source": [
    "cleaned_trips and distance_all(first_trip, cleaned_trips[0:4])"
   ]
  },
  {
   "cell_type": "markdown",
   "metadata": {},
   "source": [
    "Now write the nearest neighbors formula to calculate the distance of the `selected_trip` from all of the `cleaned_trips` in our dataset.  If no number is provided, it should return the top 3 neighbors."
   ]
  },
  {
   "cell_type": "code",
   "execution_count": null,
   "metadata": {},
   "outputs": [],
   "source": [
    "def nearest_neighbors(selected_trip, trips, number = 3):\n",
    "    pass"
   ]
  },
  {
   "cell_type": "code",
   "execution_count": null,
   "metadata": {},
   "outputs": [],
   "source": [
    "new_trip = {'pickup_latitude': 40.64499,\n",
    "'pickup_longitude': -73.78115,\n",
    "'trip_distance': 18.38}\n",
    "\n",
    "nearest_three_neighbors = nearest_neighbors(new_trip, cleaned_trips or [], number = 3)\n",
    "nearest_three_neighbors\n",
    "# [{'distance_from_selected': 0.0004569288784918792,\n",
    "#   'pickup_latitude': 40.64483,\n",
    "#   'pickup_longitude': -73.781578,\n",
    "#   'trip_distance': 7.78},\n",
    "#  {'distance_from_selected': 0.0011292165425673159,\n",
    "#   'pickup_latitude': 40.644657,\n",
    "#   'pickup_longitude': -73.782229,\n",
    "#   'trip_distance': 12.7},\n",
    "#  {'distance_from_selected': 0.0042359798158141185,\n",
    "#   'pickup_latitude': 40.648509,\n",
    "#   'pickup_longitude': -73.783508,\n",
    "#   'trip_distance': 17.3}]"
   ]
  },
  {
   "cell_type": "markdown",
   "metadata": {},
   "source": [
    "Ok great! Now that we can provide a new trip location, and find the distances of the three nearest trips, we can take  calculate an estimate of the trip distance for that new trip location.  \n",
    "\n",
    "We do so simply by calculating the average of it's nearest neighbors."
   ]
  },
  {
   "cell_type": "code",
   "execution_count": null,
   "metadata": {},
   "outputs": [],
   "source": [
    "import statistics\n",
    "def mean_distance(neighbors):\n",
    "    nearest_distances = list(map(lambda neighbor: neighbor['trip_distance'], neighbors))\n",
    "    return round(statistics.mean(nearest_distances), 3)\n",
    "\n",
    "nearest_three_neighbors = nearest_neighbors(new_trip, cleaned_trips or [], number = 3)\n",
    "distance_estimate_of_selected_trip = mean_distance(nearest_three_neighbors) # 12.593\n",
    "distance_estimate_of_selected_trip"
   ]
  },
  {
   "cell_type": "markdown",
   "metadata": {},
   "source": [
    "### Choosing the correct number of neighbors"
   ]
  },
  {
   "cell_type": "markdown",
   "metadata": {},
   "source": [
    "Now, as we know from the last lesson, one tricky element is to determine how many neighbors to choose, our $k$ value,  before calculating the average.  We want to choose our value of $k$ such that it properly matches actual data, and so that it applies to new data.  There are fancy formulas to ensure that we **train** our algorithm so that our formula is optimized for all data, but here let's see different $k$ values manually.  This is the gist of choosing our $k$ value:\n",
    "\n",
    "* If we choose a $k$ value too low, our formula will be too heavily influenced by a single neighbor, whereas if our $k$ value is too high, we will be choosing so many neighbors that our nearest neighbors formula will not be adjust enough according to locations.\n",
    "\n",
    "Ok, let's experiment with this."
   ]
  },
  {
   "cell_type": "markdown",
   "metadata": {},
   "source": [
    "First, let's choose a midtown location, to see what the trip distance would be.  A Google search reveals the coordinates of 51st and 7th avenue to be the following."
   ]
  },
  {
   "cell_type": "code",
   "execution_count": null,
   "metadata": {},
   "outputs": [],
   "source": [
    "midtown_trip = dict(pickup_latitude=40.761710, pickup_longitude=-73.982760)"
   ]
  },
  {
   "cell_type": "code",
   "execution_count": null,
   "metadata": {},
   "outputs": [],
   "source": [
    "seven_closest = nearest_neighbors(midtown_trip, cleaned_trips, number = 7)\n",
    "seven_closest\n",
    "# [{'trip_distance': 0.58,\n",
    "#   'pickup_latitude': 40.761372,\n",
    "#   'pickup_longitude': -73.982602,\n",
    "#   'distance_from_selected': 0.00037310588309379025},\n",
    "#  {'trip_distance': 0.8,\n",
    "#   'pickup_latitude': 40.762444,\n",
    "#   'pickup_longitude': -73.98244,\n",
    "#   'distance_from_selected': 0.00080072217404248},\n",
    "#  {'trip_distance': 1.4,\n",
    "#   'pickup_latitude': 40.762767,\n",
    "#   'pickup_longitude': -73.982293,\n",
    "#   'distance_from_selected': 0.0011555682584735844},\n",
    "#  {'trip_distance': 8.3,\n",
    "#   'pickup_latitude': 40.762868,\n",
    "#   'pickup_longitude': -73.983233,\n",
    "#   'distance_from_selected': 0.0012508768924205918},\n",
    "#  {'trip_distance': 1.26,\n",
    "#   'pickup_latitude': 40.760057,\n",
    "#   'pickup_longitude': -73.983502,\n",
    "#   'distance_from_selected': 0.0018118976240381972},\n",
    "#  {'trip_distance': 0.0,\n",
    "#   'pickup_latitude': 40.760644,\n",
    "#   'pickup_longitude': -73.984531,\n",
    "#   'distance_from_selected': 0.002067074502774709},\n",
    "#  {'trip_distance': 1.72,\n",
    "#   'pickup_latitude': 40.762107,\n",
    "#   'pickup_longitude': -73.98479,\n",
    "#   'distance_from_selected': 0.0020684557041472677}]"
   ]
  },
  {
   "cell_type": "markdown",
   "metadata": {},
   "source": [
    "Looking at the `distance_from_selected` it appears that our our trips are still fairly close to our selected trip.  Notice that most of the data is within a distance of .002 away, so going to the top 7 nearest neighbors didn't seem to give us neighbors too far from each other, which is a good sign.\n",
    "\n",
    "Still, it's hard to know what distance in latitude and longitude really look like, so let's map the data. "
   ]
  },
  {
   "cell_type": "code",
   "execution_count": null,
   "metadata": {},
   "outputs": [],
   "source": [
    "midtown_location = location(midtown_trip) # [40.76171, -73.98276]\n",
    "midtown_map = map_from(midtown_location, 16)\n",
    "closest_markers = markers_from_trips(seven_closest)\n",
    "\n",
    "add_markers(closest_markers, midtown_map)"
   ]
  },
  {
   "cell_type": "markdown",
   "metadata": {},
   "source": [
    "Ok.  These locations stay fairly close to our estimated location of 51st street and 7th Avenue.  So they could be a good estimate of a trip distance."
   ]
  },
  {
   "cell_type": "code",
   "execution_count": null,
   "metadata": {},
   "outputs": [],
   "source": [
    "mean_distance(seven_closest) # 2.009"
   ]
  },
  {
   "cell_type": "markdown",
   "metadata": {},
   "source": [
    "Ok, now let's try a different location"
   ]
  },
  {
   "cell_type": "code",
   "execution_count": null,
   "metadata": {},
   "outputs": [],
   "source": [
    "charging_bull_closest = nearest_neighbors({'pickup_latitude': 40.7049, 'pickup_longitude': -74.0137}, cleaned_trips, number = 12)"
   ]
  },
  {
   "cell_type": "code",
   "execution_count": null,
   "metadata": {
    "scrolled": true
   },
   "outputs": [],
   "source": [
    "mean_distance(charging_bull_closest) # 3.145"
   ]
  },
  {
   "cell_type": "markdown",
   "metadata": {},
   "source": [
    "Ok, so there appears to be a significant difference between choosing a location near Times Square versus choosing a location at Wall Street."
   ]
  },
  {
   "cell_type": "markdown",
   "metadata": {},
   "source": [
    "### Summary"
   ]
  },
  {
   "cell_type": "markdown",
   "metadata": {},
   "source": [
    "In this lab, we used the nearest neighbors function to predict the length of a taxi ride.  To do so, we selected a location, then found a number of taxi rides closest to that location, and finally took the average trip lengths of the nearest taxi rides to find an estimate of the new ride's trip length.  You can see that even with just a little bit of math and programming we can begin to make meaningful predictions with data."
   ]
  }
 ],
 "metadata": {
  "kernelspec": {
   "display_name": "Python 3",
   "language": "python",
   "name": "python3"
  },
  "language_info": {
   "codemirror_mode": {
    "name": "ipython",
    "version": 3
   },
   "file_extension": ".py",
   "mimetype": "text/x-python",
   "name": "python",
   "nbconvert_exporter": "python",
   "pygments_lexer": "ipython3",
   "version": "3.6.9"
  }
 },
 "nbformat": 4,
 "nbformat_minor": 2
}
